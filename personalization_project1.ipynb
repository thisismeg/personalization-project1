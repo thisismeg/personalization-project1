{
 "cells": [
  {
   "cell_type": "markdown",
   "metadata": {},
   "source": [
    "# IEOR 4571 - Personalization - Project 1\n",
    "\n",
    "#### Team members: \n",
    "Name, UNI/email, Github ID\n",
    "* Megala Kannan, msk2245@columbia.edu, thisismeg\n",
    "* Hojin Lee, hl3328@columbia.edu, hjlee9295\n",
    "* Jung Ah Shin, js5569@columbia.edu, juliajungahshin\n",
    "* Tiffany Zhu, tz2196@columbia.edu, tlzhu19\n"
   ]
  },
  {
   "cell_type": "markdown",
   "metadata": {},
   "source": [
    "# TOC:\n",
    "* [1. Introduction](#1)\n",
    "* [2. Data Exploration](#2)\n",
    "* [3. Modeling](#3)\n",
    "    * [3.1 Baseline Model](#3-1)\n",
    "        * [3.1.1 Accuracy of Baseline Model](#3-1-1)\n",
    "        * [3.1.2 Coverage of Baseline Model](#3-1-2)\n",
    "    * [3.2 Neighborhood-Based Collaborative Filtering](#3-2)\n",
    "        * [3.2.1 Tuning Hyperparameters](#3-2-1)\n",
    "        * [3.2.2 Accuracy of KNN Means Model](#3-2-2)\n",
    "        * [3.2.3 Coverage of KNN Means Model](#3-2-3)\n",
    "    * [3.3 Model-Based Collaborative Filtering](#3-3)\n",
    "        * [3.3.1 Tuning Hyperparameters](#3-3-1)\n",
    "        * [3.3.2 Accuracy of ALS Model](#3-3-2)\n",
    "        * [3.3.3 Coverage of ALS Model](#3-3-3)\n",
    "* [4. Evaluation](#4)\n",
    "    * [4.1 Accuracy](#4-1)\n",
    "        * [4.1.1 RMSE](#4-1-1)\n",
    "        * [4.1.2 NDCG](#4-1-2)\n",
    "    * [4.2 Coverage](#4-2)\n",
    "    * [4.3 User Distribution](#4-3)\n",
    "* [5. Conclusion](#5)\n"
   ]
  },
  {
   "cell_type": "code",
   "execution_count": 136,
   "metadata": {},
   "outputs": [],
   "source": [
    "\n",
    "from surprise import KNNWithMeans\n",
    "from surprise import Dataset\n",
    "from surprise import accuracy\n",
    "from surprise.model_selection import train_test_split as s_train_test_split\n",
    "from surprise.model_selection import KFold\n",
    "from surprise import Reader\n",
    "\n",
    "from pyspark.mllib.recommendation import ALS\n",
    "from pyspark.sql import SparkSession\n",
    "from pyspark.sql import SQLContext\n",
    "from pyspark.ml.tuning import (CrossValidator, ParamGridBuilder)\n",
    "\n",
    "import pyspark.sql.functions as sql_func\n",
    "from pyspark.sql.types import *\n",
    "from pyspark.ml.recommendation import ALS, ALSModel\n",
    "from pyspark.context import SparkContext\n",
    "from pyspark.sql.session import SparkSession\n",
    "from pyspark.mllib.evaluation import RegressionMetrics, RankingMetrics\n",
    "from pyspark.ml.evaluation import RegressionEvaluator, BinaryClassificationEvaluator, MulticlassClassificationEvaluator\n",
    "from pyspark.sql.functions import col\n",
    "\n",
    "import matplotlib.pyplot as plt\n",
    "import datetime\n",
    "\n",
    "import pandas as pd\n",
    "import numpy as np\n",
    "from sklearn.model_selection import train_test_split\n",
    "from sklearn.metrics import mean_squared_error\n",
    "from sklearn.preprocessing import LabelBinarizer, MultiLabelBinarizer\n",
    "from sklearn.metrics import make_scorer\n",
    "from math import sqrt\n",
    "\n",
    "from collections import OrderedDict "
   ]
  },
  {
   "cell_type": "markdown",
   "metadata": {},
   "source": [
    "# 1. Introduction <a class=\"anchor\" id=\"1\"></a>"
   ]
  },
  {
   "cell_type": "markdown",
   "metadata": {},
   "source": [
    "Our objective is to facilitate users to consume more products by helping them discover new contents. We want our recommendation model to provide reasonably accurate and diverse recommendations so that many users have an opportunity to explore new content. In order to achieve this objective, we begin by building two brute-force collaborative filtering algorithms to recommend items to users. \n",
    "For the neighborhood-based model, we chose the item-based collative filtering, which recommends items based on item similarity. Item-based models are shown to provide better recommendation accuracy (source: \"Item-Based Collaborative Filtering Recommendation Algorithms\" paper). Furthermore, while similarity between users are prone to change depending on changes in users’ tastes, similarity between items are less likely to vary over time, thus providing a more robust recommendation model.\n",
    "For the model-based framework, we chose the vanilla Matrix Factorization and use alternating least squares algorithm to learn the latent factors. This could be done using stochastic gradiant descent (SGD) as well, however SGD is not very practical and would take a very long time to run. Additionally, we implement a simple baseline model to compare our results. For a movie A, the baseline model gives the rating for A to be the average rating of A for all users.\n",
    "\n",
    "To measure the performance of our two recommender systems, we used RMSE and NDCG. We were interested in the RMSE since we want to minimize the error between the predicted ratings and the actual ratings. Our secondary accuracy metric is NDCG because we want to measure the quality of the rankings.\n",
    "\n",
    "When building a recommender system, the sparsity of the rating data and the introduction of new users or items without any interaction (cold start problem) can hinder the performance of recommender systems. Recognizing sparsity in our dataset, we decided to focus on recommending items that are less ubiquitous (items that have been rated more than once, but not rated by many users). Detailed description on exploratory data analysis of our dataset along with our sampling methods is provided below.\n"
   ]
  },
  {
   "cell_type": "markdown",
   "metadata": {},
   "source": [
    "# 2. Data Exploration <a class=\"anchor\" id=\"2\"></a>"
   ]
  },
  {
   "cell_type": "markdown",
   "metadata": {},
   "source": [
    "1. Original data contains 138493 users and 26744 items (Approximately 20M ratings). Original data only contains users that rated more than 20 items. \n",
    "\n",
    "2. In order to develop our Item-based CF model with a small data set (Approx. <10,000 users / <1,000 items), we sampled the data based on the following rationale:\n",
    "    \n",
    "    * Remove ubiquitous items (e.g. top 0.5% most rated items across users) as well as items that have extremely few ratings (e.g. items rated only once). Recommending items that have been rated by majority of users are likely to be redundant and have less value in terms of novelty of the recommendation. Since we aim to provide item recommendations that the user might not have experienced yet, it seemed reasonable to remove top 0.5% of items that have been rated by many users. \n",
    "    \n",
    "    * Regarding items that have extremely few ratings, these items would not contribute much in terms of item similarity, so we have decided to remove those user-item pairs with single ratings as well. \n",
    "\n",
    "\n",
    "3. Then, we randomly sampled 0.1%, 0.5%, and 1% of this dataset to train our models."
   ]
  },
  {
   "cell_type": "code",
   "execution_count": 3,
   "metadata": {},
   "outputs": [],
   "source": [
    "ratings_df = pd.read_csv('ratings.csv')"
   ]
  },
  {
   "cell_type": "code",
   "execution_count": 4,
   "metadata": {},
   "outputs": [
    {
     "data": {
      "text/html": [
       "<div>\n",
       "<style scoped>\n",
       "    .dataframe tbody tr th:only-of-type {\n",
       "        vertical-align: middle;\n",
       "    }\n",
       "\n",
       "    .dataframe tbody tr th {\n",
       "        vertical-align: top;\n",
       "    }\n",
       "\n",
       "    .dataframe thead th {\n",
       "        text-align: right;\n",
       "    }\n",
       "</style>\n",
       "<table border=\"1\" class=\"dataframe\">\n",
       "  <thead>\n",
       "    <tr style=\"text-align: right;\">\n",
       "      <th></th>\n",
       "      <th>userId</th>\n",
       "      <th>movieId</th>\n",
       "      <th>rating</th>\n",
       "      <th>timestamp</th>\n",
       "    </tr>\n",
       "  </thead>\n",
       "  <tbody>\n",
       "    <tr>\n",
       "      <th>0</th>\n",
       "      <td>1</td>\n",
       "      <td>2</td>\n",
       "      <td>3.5</td>\n",
       "      <td>1112486027</td>\n",
       "    </tr>\n",
       "    <tr>\n",
       "      <th>1</th>\n",
       "      <td>1</td>\n",
       "      <td>29</td>\n",
       "      <td>3.5</td>\n",
       "      <td>1112484676</td>\n",
       "    </tr>\n",
       "    <tr>\n",
       "      <th>2</th>\n",
       "      <td>1</td>\n",
       "      <td>32</td>\n",
       "      <td>3.5</td>\n",
       "      <td>1112484819</td>\n",
       "    </tr>\n",
       "    <tr>\n",
       "      <th>3</th>\n",
       "      <td>1</td>\n",
       "      <td>47</td>\n",
       "      <td>3.5</td>\n",
       "      <td>1112484727</td>\n",
       "    </tr>\n",
       "    <tr>\n",
       "      <th>4</th>\n",
       "      <td>1</td>\n",
       "      <td>50</td>\n",
       "      <td>3.5</td>\n",
       "      <td>1112484580</td>\n",
       "    </tr>\n",
       "  </tbody>\n",
       "</table>\n",
       "</div>"
      ],
      "text/plain": [
       "   userId  movieId  rating   timestamp\n",
       "0       1        2     3.5  1112486027\n",
       "1       1       29     3.5  1112484676\n",
       "2       1       32     3.5  1112484819\n",
       "3       1       47     3.5  1112484727\n",
       "4       1       50     3.5  1112484580"
      ]
     },
     "execution_count": 4,
     "metadata": {},
     "output_type": "execute_result"
    }
   ],
   "source": [
    "ratings_df.head()"
   ]
  },
  {
   "cell_type": "code",
   "execution_count": 5,
   "metadata": {},
   "outputs": [
    {
     "name": "stdout",
     "output_type": "stream",
     "text": [
      "138493 26744\n"
     ]
    }
   ],
   "source": [
    "userNum = len(ratings_df.userId.unique()) #138493 users\n",
    "itemNum = len(ratings_df.movieId.unique()) #26744 items\n",
    "\n",
    "print(userNum, itemNum)"
   ]
  },
  {
   "cell_type": "code",
   "execution_count": 6,
   "metadata": {},
   "outputs": [
    {
     "data": {
      "text/html": [
       "<div>\n",
       "<style scoped>\n",
       "    .dataframe tbody tr th:only-of-type {\n",
       "        vertical-align: middle;\n",
       "    }\n",
       "\n",
       "    .dataframe tbody tr th {\n",
       "        vertical-align: top;\n",
       "    }\n",
       "\n",
       "    .dataframe thead th {\n",
       "        text-align: right;\n",
       "    }\n",
       "</style>\n",
       "<table border=\"1\" class=\"dataframe\">\n",
       "  <thead>\n",
       "    <tr style=\"text-align: right;\">\n",
       "      <th></th>\n",
       "      <th>count</th>\n",
       "    </tr>\n",
       "  </thead>\n",
       "  <tbody>\n",
       "    <tr>\n",
       "      <th>count</th>\n",
       "      <td>26744.000000</td>\n",
       "    </tr>\n",
       "    <tr>\n",
       "      <th>mean</th>\n",
       "      <td>747.841123</td>\n",
       "    </tr>\n",
       "    <tr>\n",
       "      <th>std</th>\n",
       "      <td>3085.818268</td>\n",
       "    </tr>\n",
       "    <tr>\n",
       "      <th>min</th>\n",
       "      <td>1.000000</td>\n",
       "    </tr>\n",
       "    <tr>\n",
       "      <th>25%</th>\n",
       "      <td>3.000000</td>\n",
       "    </tr>\n",
       "    <tr>\n",
       "      <th>50%</th>\n",
       "      <td>18.000000</td>\n",
       "    </tr>\n",
       "    <tr>\n",
       "      <th>75%</th>\n",
       "      <td>205.000000</td>\n",
       "    </tr>\n",
       "    <tr>\n",
       "      <th>max</th>\n",
       "      <td>67310.000000</td>\n",
       "    </tr>\n",
       "  </tbody>\n",
       "</table>\n",
       "</div>"
      ],
      "text/plain": [
       "              count\n",
       "count  26744.000000\n",
       "mean     747.841123\n",
       "std     3085.818268\n",
       "min        1.000000\n",
       "25%        3.000000\n",
       "50%       18.000000\n",
       "75%      205.000000\n",
       "max    67310.000000"
      ]
     },
     "execution_count": 6,
     "metadata": {},
     "output_type": "execute_result"
    }
   ],
   "source": [
    "df_item_summary = pd.DataFrame(ratings_df.groupby('movieId').size(), columns=['count'])\n",
    "df_item_summary.describe()"
   ]
  },
  {
   "cell_type": "markdown",
   "metadata": {},
   "source": [
    "We first need to check what percentage the top 0.5% most rated items constitute in terms of the entire rating data. Given our 20M rating dataset, the top 0.5% most rated items (ubiquitous) take up approximately 21.7% of the entire data. Therefore, the list top_05 would contain the item indices of top 0.5% most rated items, and one_item_idx would contain the list of items with only one rating. We will be removing user-item pairs based on these two lists."
   ]
  },
  {
   "cell_type": "code",
   "execution_count": 7,
   "metadata": {
    "scrolled": true
   },
   "outputs": [
    {
     "data": {
      "text/plain": [
       "count    0.217018\n",
       "dtype: float64"
      ]
     },
     "execution_count": 7,
     "metadata": {},
     "output_type": "execute_result"
    }
   ],
   "source": [
    "df_item_summary = df_item_summary.sort_values(by='count', ascending=False) \n",
    "top_rated_movies = df_item_summary.nlargest(int(len(df_item_summary)*0.005), 'count') \n",
    "top_rated_movies.sum()/df_item_summary.sum()"
   ]
  },
  {
   "cell_type": "markdown",
   "metadata": {},
   "source": [
    "top_rated_movies is a dataframe which consists of top 0.5% of most rated movies. `count` column shows the number of movie ratings for each movie item. "
   ]
  },
  {
   "cell_type": "code",
   "execution_count": 326,
   "metadata": {},
   "outputs": [
    {
     "data": {
      "text/html": [
       "<div>\n",
       "<style scoped>\n",
       "    .dataframe tbody tr th:only-of-type {\n",
       "        vertical-align: middle;\n",
       "    }\n",
       "\n",
       "    .dataframe tbody tr th {\n",
       "        vertical-align: top;\n",
       "    }\n",
       "\n",
       "    .dataframe thead th {\n",
       "        text-align: right;\n",
       "    }\n",
       "</style>\n",
       "<table border=\"1\" class=\"dataframe\">\n",
       "  <thead>\n",
       "    <tr style=\"text-align: right;\">\n",
       "      <th></th>\n",
       "      <th>count</th>\n",
       "    </tr>\n",
       "    <tr>\n",
       "      <th>movieId</th>\n",
       "      <th></th>\n",
       "    </tr>\n",
       "  </thead>\n",
       "  <tbody>\n",
       "    <tr>\n",
       "      <th>296</th>\n",
       "      <td>67310</td>\n",
       "    </tr>\n",
       "    <tr>\n",
       "      <th>356</th>\n",
       "      <td>66172</td>\n",
       "    </tr>\n",
       "    <tr>\n",
       "      <th>318</th>\n",
       "      <td>63366</td>\n",
       "    </tr>\n",
       "    <tr>\n",
       "      <th>593</th>\n",
       "      <td>63299</td>\n",
       "    </tr>\n",
       "    <tr>\n",
       "      <th>480</th>\n",
       "      <td>59715</td>\n",
       "    </tr>\n",
       "  </tbody>\n",
       "</table>\n",
       "</div>"
      ],
      "text/plain": [
       "         count\n",
       "movieId       \n",
       "296      67310\n",
       "356      66172\n",
       "318      63366\n",
       "593      63299\n",
       "480      59715"
      ]
     },
     "execution_count": 326,
     "metadata": {},
     "output_type": "execute_result"
    }
   ],
   "source": [
    "top_rated_movies.head()"
   ]
  },
  {
   "cell_type": "markdown",
   "metadata": {},
   "source": [
    "So now we remove the top 0.5% movies and the movies that were only rated once."
   ]
  },
  {
   "cell_type": "code",
   "execution_count": 10,
   "metadata": {},
   "outputs": [
    {
     "name": "stdout",
     "output_type": "stream",
     "text": [
      "4105\n"
     ]
    },
    {
     "data": {
      "text/html": [
       "<div>\n",
       "<style scoped>\n",
       "    .dataframe tbody tr th:only-of-type {\n",
       "        vertical-align: middle;\n",
       "    }\n",
       "\n",
       "    .dataframe tbody tr th {\n",
       "        vertical-align: top;\n",
       "    }\n",
       "\n",
       "    .dataframe thead th {\n",
       "        text-align: right;\n",
       "    }\n",
       "</style>\n",
       "<table border=\"1\" class=\"dataframe\">\n",
       "  <thead>\n",
       "    <tr style=\"text-align: right;\">\n",
       "      <th></th>\n",
       "      <th>userId</th>\n",
       "      <th>movieId</th>\n",
       "      <th>rating</th>\n",
       "      <th>timestamp</th>\n",
       "    </tr>\n",
       "  </thead>\n",
       "  <tbody>\n",
       "    <tr>\n",
       "      <th>1</th>\n",
       "      <td>1</td>\n",
       "      <td>29</td>\n",
       "      <td>3.5</td>\n",
       "      <td>1112484676</td>\n",
       "    </tr>\n",
       "    <tr>\n",
       "      <th>5</th>\n",
       "      <td>1</td>\n",
       "      <td>112</td>\n",
       "      <td>3.5</td>\n",
       "      <td>1094785740</td>\n",
       "    </tr>\n",
       "    <tr>\n",
       "      <th>6</th>\n",
       "      <td>1</td>\n",
       "      <td>151</td>\n",
       "      <td>4.0</td>\n",
       "      <td>1094785734</td>\n",
       "    </tr>\n",
       "    <tr>\n",
       "      <th>13</th>\n",
       "      <td>1</td>\n",
       "      <td>337</td>\n",
       "      <td>3.5</td>\n",
       "      <td>1094785709</td>\n",
       "    </tr>\n",
       "    <tr>\n",
       "      <th>18</th>\n",
       "      <td>1</td>\n",
       "      <td>653</td>\n",
       "      <td>3.0</td>\n",
       "      <td>1094785691</td>\n",
       "    </tr>\n",
       "  </tbody>\n",
       "</table>\n",
       "</div>"
      ],
      "text/plain": [
       "    userId  movieId  rating   timestamp\n",
       "1        1       29     3.5  1112484676\n",
       "5        1      112     3.5  1094785740\n",
       "6        1      151     4.0  1094785734\n",
       "13       1      337     3.5  1094785709\n",
       "18       1      653     3.0  1094785691"
      ]
     },
     "execution_count": 10,
     "metadata": {},
     "output_type": "execute_result"
    }
   ],
   "source": [
    "top_05 = list(top_rated_movies.index.values) #133 items \n",
    "one_item_idx = df_item_summary[df_item_summary['count']==1].index.tolist() #3972\n",
    "remove_list = top_05 + one_item_idx #4105 items\n",
    "print(len(remove_list)) \n",
    "new_ratings_df = ratings_df[~ratings_df.movieId.isin(top_05)]\n",
    "new_ratings_df.head()"
   ]
  },
  {
   "cell_type": "markdown",
   "metadata": {},
   "source": [
    "`new_ratings_df` is the dataset we'll be using to sample our data for training/test set. \n",
    "After removing the most rated items and items with single rating, we now have 137,542 users, 26,611 items and 15,659,851 ratings in total."
   ]
  },
  {
   "cell_type": "code",
   "execution_count": 11,
   "metadata": {},
   "outputs": [
    {
     "name": "stdout",
     "output_type": "stream",
     "text": [
      "Number of users: 137542\n",
      "Number of movies: 26611 \n",
      "Total number rows: 15659851\n"
     ]
    },
    {
     "data": {
      "text/html": [
       "<div>\n",
       "<style scoped>\n",
       "    .dataframe tbody tr th:only-of-type {\n",
       "        vertical-align: middle;\n",
       "    }\n",
       "\n",
       "    .dataframe tbody tr th {\n",
       "        vertical-align: top;\n",
       "    }\n",
       "\n",
       "    .dataframe thead th {\n",
       "        text-align: right;\n",
       "    }\n",
       "</style>\n",
       "<table border=\"1\" class=\"dataframe\">\n",
       "  <thead>\n",
       "    <tr style=\"text-align: right;\">\n",
       "      <th></th>\n",
       "      <th>userId</th>\n",
       "      <th>movieId</th>\n",
       "      <th>rating</th>\n",
       "      <th>timestamp</th>\n",
       "    </tr>\n",
       "  </thead>\n",
       "  <tbody>\n",
       "    <tr>\n",
       "      <th>count</th>\n",
       "      <td>1.565985e+07</td>\n",
       "      <td>1.565985e+07</td>\n",
       "      <td>1.565985e+07</td>\n",
       "      <td>1.565985e+07</td>\n",
       "    </tr>\n",
       "    <tr>\n",
       "      <th>mean</th>\n",
       "      <td>6.901693e+04</td>\n",
       "      <td>1.117394e+04</td>\n",
       "      <td>3.445954e+00</td>\n",
       "      <td>1.110063e+09</td>\n",
       "    </tr>\n",
       "    <tr>\n",
       "      <th>std</th>\n",
       "      <td>4.004482e+04</td>\n",
       "      <td>2.187546e+04</td>\n",
       "      <td>1.057272e+00</td>\n",
       "      <td>1.585046e+08</td>\n",
       "    </tr>\n",
       "    <tr>\n",
       "      <th>min</th>\n",
       "      <td>1.000000e+00</td>\n",
       "      <td>3.000000e+00</td>\n",
       "      <td>5.000000e-01</td>\n",
       "      <td>7.896520e+08</td>\n",
       "    </tr>\n",
       "    <tr>\n",
       "      <th>25%</th>\n",
       "      <td>3.436200e+04</td>\n",
       "      <td>1.256000e+03</td>\n",
       "      <td>3.000000e+00</td>\n",
       "      <td>9.749575e+08</td>\n",
       "    </tr>\n",
       "    <tr>\n",
       "      <th>50%</th>\n",
       "      <td>6.908200e+04</td>\n",
       "      <td>2.712000e+03</td>\n",
       "      <td>3.500000e+00</td>\n",
       "      <td>1.108593e+09</td>\n",
       "    </tr>\n",
       "    <tr>\n",
       "      <th>75%</th>\n",
       "      <td>1.036000e+05</td>\n",
       "      <td>5.773000e+03</td>\n",
       "      <td>4.000000e+00</td>\n",
       "      <td>1.231299e+09</td>\n",
       "    </tr>\n",
       "    <tr>\n",
       "      <th>max</th>\n",
       "      <td>1.384930e+05</td>\n",
       "      <td>1.312620e+05</td>\n",
       "      <td>5.000000e+00</td>\n",
       "      <td>1.427784e+09</td>\n",
       "    </tr>\n",
       "  </tbody>\n",
       "</table>\n",
       "</div>"
      ],
      "text/plain": [
       "             userId       movieId        rating     timestamp\n",
       "count  1.565985e+07  1.565985e+07  1.565985e+07  1.565985e+07\n",
       "mean   6.901693e+04  1.117394e+04  3.445954e+00  1.110063e+09\n",
       "std    4.004482e+04  2.187546e+04  1.057272e+00  1.585046e+08\n",
       "min    1.000000e+00  3.000000e+00  5.000000e-01  7.896520e+08\n",
       "25%    3.436200e+04  1.256000e+03  3.000000e+00  9.749575e+08\n",
       "50%    6.908200e+04  2.712000e+03  3.500000e+00  1.108593e+09\n",
       "75%    1.036000e+05  5.773000e+03  4.000000e+00  1.231299e+09\n",
       "max    1.384930e+05  1.312620e+05  5.000000e+00  1.427784e+09"
      ]
     },
     "execution_count": 11,
     "metadata": {},
     "output_type": "execute_result"
    }
   ],
   "source": [
    "new_user = len(new_ratings_df.userId.unique())\n",
    "new_item = len(new_ratings_df.movieId.unique())\n",
    "print(\"Number of users: {}\\nNumber of movies: {} \\nTotal number rows: {}\".format(new_user, new_item, len(new_ratings_df)))\n",
    "new_ratings_df.describe()"
   ]
  },
  {
   "cell_type": "markdown",
   "metadata": {},
   "source": [
    "Since `new_ratings_df` still contains more than 1.5 million rows of data, we will now take different sized samples. More specificially, we will look at 0.1%, 0.5%, and 1% of `new_ratings_df` (randomly sampled)."
   ]
  },
  {
   "cell_type": "code",
   "execution_count": 16,
   "metadata": {},
   "outputs": [
    {
     "name": "stdout",
     "output_type": "stream",
     "text": [
      "Sample %: 0.001\n",
      "Number of users: 12878\n",
      "Number of movies: 4515 \n",
      "Total number rows: 15660\n",
      "\n",
      "\n",
      "Sample %: 0.005\n",
      "Number of users: 41704\n",
      "Number of movies: 8312 \n",
      "Total number rows: 78299\n",
      "\n",
      "\n",
      "Sample %: 0.01\n",
      "Number of users: 61517\n",
      "Number of movies: 10260 \n",
      "Total number rows: 156599\n",
      "\n",
      "\n"
     ]
    }
   ],
   "source": [
    "percentages = [0.001, 0.005, 0.01]\n",
    "all_sample_dfs = []\n",
    "for sample_percentage in percentages:\n",
    "    ratings_sample_df = new_ratings_df.sample(frac=sample_percentage, random_state=1)\n",
    "    all_sample_dfs.append(ratings_sample_df)\n",
    "    \n",
    "    new_user = len(ratings_sample_df.userId.unique())\n",
    "    new_item = len(ratings_sample_df.movieId.unique())\n",
    "    print(\"Sample %: {}\\nNumber of users: {}\\nNumber of movies: {} \\nTotal number rows: {}\\n\\n\".format(\n",
    "        sample_percentage, new_user, new_item, len(ratings_sample_df)))"
   ]
  },
  {
   "cell_type": "markdown",
   "metadata": {},
   "source": [
    "We will use these three samples to run our models on."
   ]
  },
  {
   "cell_type": "markdown",
   "metadata": {},
   "source": [
    "# 3. Modeling <a class=\"anchor\" id=\"3\"></a>"
   ]
  },
  {
   "cell_type": "markdown",
   "metadata": {},
   "source": [
    "## 3.1 Baseline Model <a class=\"anchor\" id=\"3-1\"></a>"
   ]
  },
  {
   "cell_type": "markdown",
   "metadata": {},
   "source": [
    "We implement a simple baseline model to compare our results to. The baseline model gives the rating for movie A to be the average rating of A for all users."
   ]
  },
  {
   "cell_type": "code",
   "execution_count": 17,
   "metadata": {},
   "outputs": [],
   "source": [
    "# Baseline model: Use the average rating of a movie in the training set as a predicted rating in the test set.\n",
    "# If movie trying to predict in test set doesn't exist in training, give it 0 rating?\n",
    "\n",
    "def baseline_predictor(avg_ratings, X):\n",
    "    predictions = []\n",
    "    rated_movies = avg_ratings['movieId'].values\n",
    "    \n",
    "    for index, row in X.iterrows():\n",
    "        movieId = row['movieId']\n",
    "        if movieId in rated_movies:\n",
    "            predicted_rating = avg_ratings[avg_ratings['movieId'] == movieId]['rating']\n",
    "            predictions.append(float(predicted_rating))\n",
    "        else:\n",
    "            predictions.append(0)\n",
    "    \n",
    "    final_df = X.copy()\n",
    "    final_df['rating'] = predictions\n",
    "    return final_df"
   ]
  },
  {
   "cell_type": "code",
   "execution_count": 133,
   "metadata": {
    "scrolled": true
   },
   "outputs": [
    {
     "name": "stdout",
     "output_type": "stream",
     "text": [
      "Sample % 0.001\n",
      " Start time: 2019-11-05 00:18:32.269224\n",
      "\tStart predicting at 2019-11-05 00:18:32.415593...\n",
      "\t...End predicting at 2019-11-05 00:18:49.218512.\n",
      "\tStart RMSE at 2019-11-05 00:18:49.218598...\n",
      "\t...End RMSE at 2019-11-05 00:18:49.239604.\n",
      "\tStart NDCG at 2019-11-05 00:18:49.239721...\n",
      "\t...End NDCG at 2019-11-05 00:18:53.908419.\n",
      "\tTotal Time: 0:00:21.639501\n",
      "Sample % 0.005\n",
      " Start time: 2019-11-05 00:18:53.908756\n",
      "\tStart predicting at 2019-11-05 00:18:53.953405...\n",
      "\t...End predicting at 2019-11-05 00:20:11.858349.\n",
      "\tStart RMSE at 2019-11-05 00:20:11.858883...\n",
      "\t...End RMSE at 2019-11-05 00:20:11.887136.\n",
      "\tStart NDCG at 2019-11-05 00:20:11.887266...\n",
      "\t...End NDCG at 2019-11-05 00:20:48.193302.\n",
      "\tTotal Time: 0:01:54.284705\n",
      "Sample % 0.01\n",
      " Start time: 2019-11-05 00:20:48.193496\n",
      "\tStart predicting at 2019-11-05 00:20:48.277898...\n",
      "\t...End predicting at 2019-11-05 00:23:18.446491.\n",
      "\tStart RMSE at 2019-11-05 00:23:18.446753...\n",
      "\t...End RMSE at 2019-11-05 00:23:18.483975.\n",
      "\tStart NDCG at 2019-11-05 00:23:18.484346...\n",
      "\t...End NDCG at 2019-11-05 00:24:39.082213.\n",
      "\tTotal Time: 0:03:50.889619\n"
     ]
    }
   ],
   "source": [
    "# Use baseline model to predict\n",
    "\n",
    "baseline_rmses = []\n",
    "baseline_rmses_train = []\n",
    "baseline_ndcgs = []\n",
    "baseline_ndcgs_train = []\n",
    "baseline_predicted_dfs = []\n",
    "baseline_predicted_train_dfs = []\n",
    "baseline_training_dfs = []\n",
    "baseline_test_dfs = []\n",
    "for i in range(len(percentages)):\n",
    "    start = datetime.datetime.now()\n",
    "    print('Sample % {}\\n Start time: {}'.format(percentages[i], str(start)))\n",
    "    ratings_sample_df = all_sample_dfs[i]\n",
    "\n",
    "    X = ratings_sample_df.loc[:, ratings_sample_df.columns != 'rating']\n",
    "    y = ratings_sample_df.loc[:, ratings_sample_df.columns == 'rating']\n",
    "\n",
    "    X_train, X_test, y_train, y_test = train_test_split(X, y, test_size=0.2, random_state=42)\n",
    "\n",
    "    training_sample = X_train.copy()\n",
    "    training_sample['rating'] = y_train\n",
    "    avg_ratings = training_sample.groupby('movieId', as_index = False).mean()\n",
    "    baseline_training_dfs.append(training_sample)\n",
    "    \n",
    "    test_sample = X_test.copy()\n",
    "    test_sample['rating'] = y_test\n",
    "    baseline_test_dfs.append(test_sample)\n",
    "    \n",
    "    print('\\tStart predicting at {}...'.format(str(datetime.datetime.now())))\n",
    "    # test predictions\n",
    "    baseline_predicted_df = baseline_predictor(avg_ratings, X_test)\n",
    "    baseline_predicted_dfs.append(baseline_predicted_df)\n",
    "    # train predictions\n",
    "    baseline_predicted_train_df = baseline_predictor(avg_ratings, X_train)\n",
    "    baseline_predicted_train_dfs.append(baseline_predicted_train_df)\n",
    "    print('\\t...End predicting at {}.'.format(str(datetime.datetime.now())))\n",
    "    \n",
    "    print('\\tStart RMSE at {}...'.format(str(datetime.datetime.now())))\n",
    "    # RMSE on test set\n",
    "    y_actual = y_test['rating']\n",
    "    y_predicted = baseline_predicted_df['rating']\n",
    "    baseline_rmse = sqrt(mean_squared_error(y_actual.tolist(), y_predicted.tolist()))\n",
    "    baseline_rmses.append(baseline_rmse)\n",
    "    \n",
    "    # RMSE on train set\n",
    "    y_actual_train = y_train['rating']\n",
    "    y_predicted_train = baseline_predicted_train_df['rating']\n",
    "    baseline_rmse_train = sqrt(mean_squared_error(y_actual_train.tolist(), y_predicted_train.tolist()))\n",
    "    baseline_rmses_train.append(baseline_rmse_train)\n",
    "    print('\\t...End RMSE at {}.'.format(str(datetime.datetime.now())))\n",
    "    \n",
    "    \n",
    "    print('\\tStart NDCG at {}...'.format(str(datetime.datetime.now())))\n",
    "    # NDCG on test set\n",
    "    y_predicted_grouped, ground_truths = get_ratings_for_each_user(baseline_predicted_df)\n",
    "    baseline_ndcg = ndcg_score(ground_truth=ground_truths, predictions=y_predicted_grouped, k=2)\n",
    "    baseline_ndcgs.append(baseline_ndcg)\n",
    "    \n",
    "    # NDCG on train set\n",
    "    y_predicted_grouped, ground_truths = get_ratings_for_each_user(baseline_predicted_train_df)\n",
    "    baseline_ndcg_train = ndcg_score(ground_truth=ground_truths, predictions=y_predicted_grouped, k=2)\n",
    "    baseline_ndcgs_train.append(baseline_ndcg_train)\n",
    "    print('\\t...End NDCG at {}.'.format(str(datetime.datetime.now())))\n",
    "    \n",
    "    end = datetime.datetime.now()\n",
    "    print('\\tTotal Time: {}'.format(str(end-start)))"
   ]
  },
  {
   "cell_type": "markdown",
   "metadata": {},
   "source": [
    "### 3.1.1 Accuracy of Baseline Model <a class=\"anchor\" id=\"3-1-1\"></a>"
   ]
  },
  {
   "cell_type": "markdown",
   "metadata": {},
   "source": [
    "### RMSE of Baseline Model"
   ]
  },
  {
   "cell_type": "code",
   "execution_count": 20,
   "metadata": {},
   "outputs": [
    {
     "data": {
      "text/plain": [
       "([1.6802065306456464, 1.1891280563833586, 1.0777108359990675],\n",
       " [0.7618152461605174, 0.8801984562025763, 0.9072231544147223])"
      ]
     },
     "execution_count": 20,
     "metadata": {},
     "output_type": "execute_result"
    }
   ],
   "source": [
    "baseline_rmses, baseline_rmses_train"
   ]
  },
  {
   "cell_type": "markdown",
   "metadata": {},
   "source": [
    "### NDCG of Baseline Model"
   ]
  },
  {
   "cell_type": "code",
   "execution_count": 330,
   "metadata": {},
   "outputs": [],
   "source": [
    "def ndcg_score(ratings, k=5, pred_col_name='predicted'):\n",
    "    ndcg = 0.0\n",
    "    for u in ratings['userId'].unique().tolist():\n",
    "        y_true = ratings[ratings['userId'] == u]['rating'].tolist()\n",
    "        u_pred = ratings[ratings['userId'] == u][pred_col_name].tolist()\n",
    "        ndcg += ndcg_at_k(y_true, u_pred, k)\n",
    "        \n",
    "    avg_ndcg = ndcg / len(ratings['userId'].unique().tolist())\n",
    "    return avg_ndcg\n",
    "\n",
    "\n",
    "def ndcg_at_k(y_true, y_score, k = 5):\n",
    "    \n",
    "    actual = dcg_at_k(y_true, y_score, k)\n",
    "    best = dcg_at_k(y_true, y_true, k) \n",
    "    ndcg = actual / best\n",
    "    return ndcg\n",
    "\n",
    "\n",
    "def dcg_at_k(y_true, y_score, k = 5):\n",
    "\n",
    "    order = np.argsort(y_score)[::-1]\n",
    "    y_true = np.take(y_true, order[:k])\n",
    "    gains = 2 ** y_true - 1\n",
    "    discounts = np.log2(np.arange(2, gains.size + 2))\n",
    "    dcg = np.sum(gains / discounts)\n",
    "    return dcg"
   ]
  },
  {
   "cell_type": "code",
   "execution_count": 289,
   "metadata": {},
   "outputs": [],
   "source": [
    "baseline_ndcgs = []\n",
    "baseline_ndcgs_train = []\n",
    "for i in range(len(baseline_predicted_dfs)):\n",
    "    baseline_test_dfs[i]['predicted'] = baseline_predicted_dfs[i]['rating']\n",
    "    baseline_ndcgs.append(ndcg_score(baseline_test_dfs[i]))\n",
    "    \n",
    "    baseline_training_dfs[i]['predicted'] = baseline_predicted_train_dfs[i]['rating']\n",
    "    baseline_ndcgs_train.append(ndcg_score(baseline_training_dfs[i]))"
   ]
  },
  {
   "cell_type": "code",
   "execution_count": 290,
   "metadata": {},
   "outputs": [
    {
     "data": {
      "text/plain": [
       "([0.997817149126054, 0.9920032469549104, 0.986059688296345],\n",
       " [0.9972093879159901, 0.9828112188334859, 0.9701805933562814])"
      ]
     },
     "execution_count": 290,
     "metadata": {},
     "output_type": "execute_result"
    }
   ],
   "source": [
    "baseline_ndcgs, baseline_ndcgs_train"
   ]
  },
  {
   "cell_type": "markdown",
   "metadata": {},
   "source": [
    "### 3.1.2 Coverage of Baseline Model <a class=\"anchor\" id=\"3-1-2\"></a>"
   ]
  },
  {
   "cell_type": "code",
   "execution_count": 126,
   "metadata": {},
   "outputs": [],
   "source": [
    "data_schema = StructType([\n",
    "    StructField('userId',IntegerType(), False),\n",
    "    StructField('movieId',IntegerType(), False),\n",
    "    StructField('rating',FloatType(), False)])\n",
    "\n",
    "spark_baseline_predicted_dfs = []\n",
    "spark_baseline_predicted_train_dfs = []\n",
    "for i in range(len(baseline_predicted_dfs)):\n",
    "    test_df = baseline_predicted_dfs[i]\n",
    "    new_sample_df = test_df.iloc[:, test_df.columns != 'timestamp']\n",
    "    spark_baseline_predicted_dfs.append(spark.createDataFrame(new_sample_df, schema=data_schema))\n",
    "    \n",
    "    train_df = baseline_predicted_train_dfs[i]\n",
    "    new_sample_df2 = train_df.iloc[:, train_df.columns != 'timestamp']\n",
    "    spark_baseline_predicted_train_dfs.append(spark.createDataFrame(new_sample_df2, schema=data_schema))"
   ]
  },
  {
   "cell_type": "code",
   "execution_count": 127,
   "metadata": {},
   "outputs": [
    {
     "name": "stdout",
     "output_type": "stream",
     "text": [
      "Item Coverage (0.001% sample): 3.1%\n",
      "Item Coverage (0.005% sample): 2e+01%\n",
      "Item Coverage (0.01% sample): 2.5e+01%\n"
     ]
    }
   ],
   "source": [
    "baseline_test_item_coverages = get_item_coverage(spark_baseline_predicted_dfs)"
   ]
  },
  {
   "cell_type": "code",
   "execution_count": 128,
   "metadata": {},
   "outputs": [
    {
     "name": "stdout",
     "output_type": "stream",
     "text": [
      "User Coverage: (0.001% sample): 0.0%\n",
      "User Coverage: (0.005% sample): 1.9%\n",
      "User Coverage: (0.01% sample): 5.8%\n"
     ]
    }
   ],
   "source": [
    "baseline_test_user_coverages = get_user_coverage(spark_baseline_predicted_dfs)"
   ]
  },
  {
   "cell_type": "code",
   "execution_count": 129,
   "metadata": {},
   "outputs": [
    {
     "name": "stdout",
     "output_type": "stream",
     "text": [
      "Item Coverage (0.001% sample): 3.6e+01%\n",
      "Item Coverage (0.005% sample): 5.1e+01%\n",
      "Item Coverage (0.01% sample): 5.3e+01%\n"
     ]
    }
   ],
   "source": [
    "baseline_train_item_coverages = get_item_coverage(spark_baseline_predicted_train_dfs)"
   ]
  },
  {
   "cell_type": "code",
   "execution_count": 130,
   "metadata": {},
   "outputs": [
    {
     "name": "stdout",
     "output_type": "stream",
     "text": [
      "User Coverage: (0.001% sample): 5.4%\n",
      "User Coverage: (0.005% sample): 3.4e+01%\n",
      "User Coverage: (0.01% sample): 5.1e+01%\n"
     ]
    }
   ],
   "source": [
    "baseline_train_user_coverages = get_user_coverage(spark_baseline_predicted_train_dfs)"
   ]
  },
  {
   "cell_type": "code",
   "execution_count": 300,
   "metadata": {},
   "outputs": [
    {
     "name": "stdout",
     "output_type": "stream",
     "text": [
      "Catalog Coverage: 99.94739610731193%\n",
      "Catalog Coverage: 98.74476987447699%\n",
      "Catalog Coverage: 97.7080551846907%\n",
      "Catalog Coverage: 86.71763638719709%\n",
      "Catalog Coverage: 92.8416123097508%\n",
      "Catalog Coverage: 78.25727854635556%\n"
     ]
    }
   ],
   "source": [
    "baseline_catalog_coverages = []\n",
    "baseline_catalog_coverages_train = []\n",
    "for baseline_df, baseline_train_df in zip(baseline_test_dfs, baseline_training_dfs):\n",
    "    baseline_df.sort_values(by=['userId', 'predicted'])\n",
    "    ratings_dictionary = dict(baseline_df.set_index('userId').groupby(level = 0).apply(lambda x : x.to_dict(orient= 'records')))\n",
    "    N = len(baseline_df['movieId'].unique())    \n",
    "    baseline_catalog_coverages.append(calculate_catalog_coverage(ratings_dictionary, N))\n",
    "    \n",
    "    baseline_train_df.sort_values(by=['userId', 'predicted'])\n",
    "    ratings_dictionary = dict(baseline_train_df.set_index('userId').groupby(level = 0).apply(lambda x : x.to_dict(orient= 'records')))\n",
    "    N = len(baseline_train_df['movieId'].unique())    \n",
    "    baseline_catalog_train_coverages.append(calculate_catalog_coverage(ratings_dictionary, N))"
   ]
  },
  {
   "cell_type": "markdown",
   "metadata": {},
   "source": [
    "## 3.2 Neighborhood-Based Collaborative Filtering <a class=\"anchor\" id=\"3-2\"></a>"
   ]
  },
  {
   "cell_type": "markdown",
   "metadata": {},
   "source": [
    "### 3.2.1 Tuning Hyperparameters <a class=\"anchor\" id=\"3-2-1\"></a>"
   ]
  },
  {
   "cell_type": "code",
   "execution_count": 143,
   "metadata": {},
   "outputs": [],
   "source": [
    "# A reader is still needed but only the rating_scale param is requiered.\n",
    "reader = Reader(rating_scale=(1, 5))"
   ]
  },
  {
   "cell_type": "code",
   "execution_count": 147,
   "metadata": {},
   "outputs": [
    {
     "name": "stdout",
     "output_type": "stream",
     "text": [
      "parameter 5\n",
      "Computing the cosine similarity matrix...\n",
      "Done computing similarity matrix.\n",
      "RMSE: 1.0633\n",
      "Computing the cosine similarity matrix...\n",
      "Done computing similarity matrix.\n",
      "RMSE: 1.0419\n",
      "Computing the cosine similarity matrix...\n",
      "Done computing similarity matrix.\n",
      "RMSE: 1.0538\n",
      "RMSE: 1.0507\n",
      "parameter 10\n",
      "Computing the cosine similarity matrix...\n",
      "Done computing similarity matrix.\n",
      "RMSE: 1.0585\n",
      "Computing the cosine similarity matrix...\n",
      "Done computing similarity matrix.\n",
      "RMSE: 1.0496\n",
      "Computing the cosine similarity matrix...\n",
      "Done computing similarity matrix.\n",
      "RMSE: 1.0500\n",
      "RMSE: 1.0535\n",
      "parameter 25\n",
      "Computing the cosine similarity matrix...\n",
      "Done computing similarity matrix.\n",
      "RMSE: 1.0420\n",
      "Computing the cosine similarity matrix...\n",
      "Done computing similarity matrix.\n",
      "RMSE: 1.0442\n",
      "Computing the cosine similarity matrix...\n",
      "Done computing similarity matrix.\n",
      "RMSE: 1.0695\n",
      "RMSE: 1.0485\n",
      "percentage: 0.001, k: 25 , total time: 0:00:01.888176\n",
      "\n",
      "\n",
      "parameter 5\n",
      "Computing the cosine similarity matrix...\n",
      "Done computing similarity matrix.\n",
      "RMSE: 1.0456\n",
      "Computing the cosine similarity matrix...\n",
      "Done computing similarity matrix.\n",
      "RMSE: 1.0303\n",
      "Computing the cosine similarity matrix...\n",
      "Done computing similarity matrix.\n",
      "RMSE: 1.0332\n",
      "RMSE: 1.0357\n",
      "parameter 10\n",
      "Computing the cosine similarity matrix...\n",
      "Done computing similarity matrix.\n",
      "RMSE: 1.0385\n",
      "Computing the cosine similarity matrix...\n",
      "Done computing similarity matrix.\n",
      "RMSE: 1.0352\n",
      "Computing the cosine similarity matrix...\n",
      "Done computing similarity matrix.\n",
      "RMSE: 1.0461\n",
      "RMSE: 1.0335\n",
      "parameter 25\n",
      "Computing the cosine similarity matrix...\n",
      "Done computing similarity matrix.\n",
      "RMSE: 1.0306\n",
      "Computing the cosine similarity matrix...\n",
      "Done computing similarity matrix.\n",
      "RMSE: 1.0424\n",
      "Computing the cosine similarity matrix...\n",
      "Done computing similarity matrix.\n",
      "RMSE: 1.0392\n",
      "RMSE: 1.0302\n",
      "percentage: 0.001, k: 25 , total time: 0:00:08.149369\n",
      "\n",
      "\n",
      "parameter 5\n",
      "Computing the cosine similarity matrix...\n",
      "Done computing similarity matrix.\n",
      "RMSE: 1.0256\n",
      "Computing the cosine similarity matrix...\n",
      "Done computing similarity matrix.\n",
      "RMSE: 1.0333\n",
      "Computing the cosine similarity matrix...\n",
      "Done computing similarity matrix.\n",
      "RMSE: 1.0252\n",
      "RMSE: 1.0249\n",
      "parameter 10\n",
      "Computing the cosine similarity matrix...\n",
      "Done computing similarity matrix.\n",
      "RMSE: 1.0246\n",
      "Computing the cosine similarity matrix...\n",
      "Done computing similarity matrix.\n",
      "RMSE: 1.0319\n",
      "Computing the cosine similarity matrix...\n",
      "Done computing similarity matrix.\n",
      "RMSE: 1.0254\n",
      "RMSE: 1.0240\n",
      "parameter 25\n",
      "Computing the cosine similarity matrix...\n",
      "Done computing similarity matrix.\n",
      "RMSE: 1.0243\n",
      "Computing the cosine similarity matrix...\n",
      "Done computing similarity matrix.\n",
      "RMSE: 1.0235\n",
      "Computing the cosine similarity matrix...\n",
      "Done computing similarity matrix.\n",
      "RMSE: 1.0256\n",
      "RMSE: 1.0222\n",
      "percentage: 0.001, k: 25 , total time: 0:00:19.768622\n",
      "\n",
      "\n"
     ]
    }
   ],
   "source": [
    "def mean(l):\n",
    "    return sum(l) / len(l)\n",
    "\n",
    "kf = KFold(n_splits=3)\n",
    "possibleK = [5,10,25]\n",
    "\n",
    "knn_rmse_test = []\n",
    "knn_rmse_train = []\n",
    "\n",
    "for i in range(len(percentages)):\n",
    "    sampled_df = baseline_training_dfs[i]\n",
    "    data = Dataset.load_from_df(sampled_df[['userId', 'movieId', 'rating']], reader)\n",
    "    \n",
    "    knn_rmse_all_test = []\n",
    "    knn_rmse_all_train = []\n",
    "    for k in possibleK:\n",
    "        start = datetime.datetime.now()\n",
    "        print('parameter', k)\n",
    "    \n",
    "        rmses_test = []\n",
    "        rmses_train = []\n",
    "        algo = KNNWithMeans(k=k, sim_options={'name': 'cosine', 'user_based': False})\n",
    "        for trainset, testset in kf.split(data):\n",
    "            algo.fit(trainset)\n",
    "            predictions = algo.test(testset)\n",
    "            rmse_train = accuracy.rmse(predictions)\n",
    "            rmses_train.append(rmse_train)\n",
    "            \n",
    "        knn_rmse_all_train.append(mean(rmses_train))\n",
    "    \n",
    "        test_df = baseline_test_dfs[i]\n",
    "        test_df = Dataset.load_from_df(test_df[['userId', 'movieId', 'rating']], reader)\n",
    "        predictions_test = algo.test(test_df.build_full_trainset().build_testset())\n",
    "        rmse_test = accuracy.rmse(predictions_test)\n",
    "        knn_rmse_all_test.append(rmse_test)\n",
    "            \n",
    "        end = datetime.datetime.now()\n",
    "    \n",
    "    print('percentage: {}, k: {} , total time: {}'.format(percentage, k, str(end-start)))\n",
    "\n",
    "    knn_rmse_test.append(knn_rmse_all_test)\n",
    "    knn_rmse_train.append(knn_rmse_all_train)\n",
    "    \n",
    "    print('\\n')\n"
   ]
  },
  {
   "cell_type": "markdown",
   "metadata": {},
   "source": [
    "When we ran cross validation on each sample size, the time it took increased as the sample size increased. So for the 0.01% sample, it took around 1.8 seconds. Then for the 0.05% it took about 8 seconds, and for the 0.1% sample it took about 20 seconds. So the time it took increased proportionally as the size of the sample increased."
   ]
  },
  {
   "cell_type": "markdown",
   "metadata": {},
   "source": [
    "For k-nearest neighbor item-based collaborative filtering, we explored our model to tune the hyper parameter k (number of similar items to use for rating prediction), and train/test our model based on three different sample sizes. While the RMSE values for each hyper parameter are shown below, we observed that the neighborhood of size 25 had the lowest RMSE. Furthermore, while it is reasonable to assume that the larger the dataset, the better the RMSE due to more information being fed into the model, our assumption was confirmed as we had the lowest RMSE for the largest sample data."
   ]
  },
  {
   "cell_type": "code",
   "execution_count": 340,
   "metadata": {},
   "outputs": [
    {
     "data": {
      "image/png": "[encoded data removed]",
      "text/plain": [
       "<Figure size 720x432 with 1 Axes>"
      ]
     },
     "metadata": {
      "needs_background": "light"
     },
     "output_type": "display_data"
    }
   ],
   "source": [
    "plt.figure(figsize=(10, 6))\n",
    "\n",
    "for knn_rmse in knn_rmse_test:\n",
    "    plt.plot(possibleK, knn_rmse, marker='o')\n",
    "\n",
    "plt.xlabel('size of k')\n",
    "plt.ylabel('RMSE')\n",
    "plt.title('RMSE Test vs k by Sample Size')\n",
    "plt.legend(['{}% Sample'.format(p*100) for p in percentages])\n",
    "plt.grid(True)\n",
    "plt.show()"
   ]
  },
  {
   "cell_type": "markdown",
   "metadata": {},
   "source": [
    "### 3.2.2 Accuracy of KNN Means Model <a class=\"anchor\" id=\"3-2-2\"></a>"
   ]
  },
  {
   "cell_type": "markdown",
   "metadata": {},
   "source": [
    "### RMSE\n",
    "The training and test RMSE for each sample size are shown below.\n",
    "The training RMSEs are similar to the test RMSEs."
   ]
  },
  {
   "cell_type": "code",
   "execution_count": 322,
   "metadata": {},
   "outputs": [
    {
     "data": {
      "text/plain": [
       "[1.0485114418079646, 1.030237787733422, 1.0221884957312877]"
      ]
     },
     "execution_count": 322,
     "metadata": {},
     "output_type": "execute_result"
    }
   ],
   "source": [
    "# Test RMSE\n",
    "[min(rmse) for rmse in knn_rmse_test]"
   ]
  },
  {
   "cell_type": "code",
   "execution_count": 323,
   "metadata": {},
   "outputs": [
    {
     "data": {
      "text/plain": [
       "[1.0518893325021512, 1.036380478568988, 1.02445603362914]"
      ]
     },
     "execution_count": 323,
     "metadata": {},
     "output_type": "execute_result"
    }
   ],
   "source": [
    "# Train RMSE\n",
    "[min(rmse) for rmse in knn_rmse_train]"
   ]
  },
  {
   "cell_type": "markdown",
   "metadata": {},
   "source": [
    "### NDCG"
   ]
  },
  {
   "cell_type": "code",
   "execution_count": 286,
   "metadata": {},
   "outputs": [],
   "source": [
    "knn_test_ndcgs = []\n",
    "knn_train_ndcgs = []\n",
    "for i in range(len(knn_predictions_dfs)):\n",
    "    knn_test_ndcgs.append(ndcg_score(knn_predictions_dfs[i]))\n",
    "    knn_train_ndcgs.append(ndcg_score(knn_predictions_train_dfs[i]))"
   ]
  },
  {
   "cell_type": "markdown",
   "metadata": {},
   "source": [
    "The test and training NDCG for each sample size are below"
   ]
  },
  {
   "cell_type": "code",
   "execution_count": 287,
   "metadata": {},
   "outputs": [
    {
     "data": {
      "text/plain": [
       "([0.9978727696881597, 0.9910469106317076, 0.9846030842377707],\n",
       " [0.997193243792226, 0.9828317606370831, 0.9704348594323414])"
      ]
     },
     "execution_count": 287,
     "metadata": {},
     "output_type": "execute_result"
    }
   ],
   "source": [
    "knn_test_ndcgs, knn_train_ndcgs"
   ]
  },
  {
   "cell_type": "markdown",
   "metadata": {},
   "source": [
    "### 3.2.3 Coverage of KNN Means Model <a class=\"anchor\" id=\"3-2-3\"></a>"
   ]
  },
  {
   "cell_type": "code",
   "execution_count": 238,
   "metadata": {},
   "outputs": [],
   "source": [
    "def create_knn_df(predictions_test):\n",
    "    knn_predictions_list = []\n",
    "    for i in range(len(predictions_test)):\n",
    "        # userId, movieId, rating, predicted\n",
    "        knn_predictions_list.append(list(predictions_test[i][:-1]))\n",
    "        \n",
    "    return pd.DataFrame(knn_predictions_list, columns = ['userId', 'movieId', 'rating', 'predicted'])"
   ]
  },
  {
   "cell_type": "code",
   "execution_count": 271,
   "metadata": {
    "scrolled": true
   },
   "outputs": [
    {
     "name": "stdout",
     "output_type": "stream",
     "text": [
      "Computing the cosine similarity matrix...\n",
      "Done computing similarity matrix.\n",
      "Computing the cosine similarity matrix...\n",
      "Done computing similarity matrix.\n",
      "Computing the cosine similarity matrix...\n",
      "Done computing similarity matrix.\n",
      "Item Coverage (0.001% sample): 2.2%\n",
      "Item Coverage (0.005% sample): 1.9e+01%\n",
      "Item Coverage (0.01% sample): 2.5e+01%\n",
      "User Coverage: (0.001% sample): 0.14%\n",
      "User Coverage: (0.005% sample): 2.2%\n",
      "User Coverage: (0.01% sample): 5.5%\n",
      "Item Coverage (0.001% sample): 3.4e+01%\n",
      "Item Coverage (0.005% sample): 5.4e+01%\n",
      "Item Coverage (0.01% sample): 5.9e+01%\n",
      "User Coverage: (0.001% sample): 6.2%\n",
      "User Coverage: (0.005% sample): 3.2e+01%\n",
      "User Coverage: (0.01% sample): 4.9e+01%\n"
     ]
    }
   ],
   "source": [
    "knn_predictions_dfs = []\n",
    "knn_predictions_train_dfs = []\n",
    "spark_knn_predicted_dfs = []\n",
    "spark_knn_predicted_train_dfs = []\n",
    "\n",
    "best_ks = [25, 25, 25]\n",
    "for i in range(len(baseline_training_dfs)):\n",
    "    train_df = baseline_training_dfs[i]\n",
    "    train_df = Dataset.load_from_df(train_df[['userId', 'movieId', 'rating']], reader)\n",
    "    algo = KNNWithMeans(k=best_ks[i], sim_options={'name': 'cosine', 'user_based': False})\n",
    "    algo.fit(train_df.build_full_trainset())\n",
    "    test_df = baseline_test_dfs[i]\n",
    "    test_df = Dataset.load_from_df(test_df[['userId', 'movieId', 'rating']], reader)\n",
    "    predictions_test = algo.test(test_df.build_full_trainset().build_testset())\n",
    "    \n",
    "    # for test set\n",
    "    knn_predictions_df = create_knn_df(predictions_test)\n",
    "    knn_predictions_dfs.append(knn_predictions_df)\n",
    "    test_df = knn_predictions_df\n",
    "    new_sample_df = test_df.iloc[:, test_df.columns != 'predicted']\n",
    "    spark_knn_predicted_df = spark.createDataFrame(new_sample_df, schema=data_schema)\n",
    "    spark_knn_predicted_dfs.append(spark_knn_predicted_df)\n",
    "    \n",
    "    # for train set\n",
    "    predictions_train = algo.test(train_df.build_full_trainset().build_testset())\n",
    "    knn_predictions_train_df = create_knn_df(predictions_train)\n",
    "    knn_predictions_train_dfs.append(knn_predictions_train_df)\n",
    "    new_sample_df = knn_predictions_train_df.iloc[:, knn_predictions_train_df.columns != 'predicted']\n",
    "    spark_knn_predicted_train_df = spark.createDataFrame(new_sample_df, schema=data_schema)\n",
    "    spark_knn_predicted_train_dfs.append(spark_knn_predicted_train_df)\n",
    "    \n",
    "knn_item_coverages_test = get_item_coverage(spark_knn_predicted_dfs)\n",
    "knn_user_coverages_test = get_user_coverage(spark_knn_predicted_dfs)\n",
    "\n",
    "knn_item_coverages_train = get_item_coverage(spark_knn_predicted_train_dfs)\n",
    "knn_user_coverages_train = get_user_coverage(spark_knn_predicted_train_dfs)"
   ]
  },
  {
   "cell_type": "markdown",
   "metadata": {},
   "source": [
    "**Item coverage**"
   ]
  },
  {
   "cell_type": "code",
   "execution_count": 324,
   "metadata": {},
   "outputs": [
    {
     "data": {
      "text/plain": [
       "([2.2411953041622197, 18.60885275519422, 24.809413324494532],\n",
       " [33.778014941302025, 54.245709123757905, 59.46304275770633])"
      ]
     },
     "execution_count": 324,
     "metadata": {},
     "output_type": "execute_result"
    }
   ],
   "source": [
    "knn_item_coverages_test, knn_item_coverages_train"
   ]
  },
  {
   "cell_type": "markdown",
   "metadata": {},
   "source": [
    "**User Coverage**"
   ]
  },
  {
   "cell_type": "code",
   "execution_count": 273,
   "metadata": {},
   "outputs": [
    {
     "data": {
      "text/plain": [
       "([33.778014941302025, 54.245709123757905, 59.46304275770633],\n",
       " [6.159052453468697, 32.18201754385965, 49.35579781962339])"
      ]
     },
     "execution_count": 273,
     "metadata": {},
     "output_type": "execute_result"
    }
   ],
   "source": [
    "knn_user_coverages_test, knn_user_coverages_train"
   ]
  },
  {
   "cell_type": "code",
   "execution_count": 303,
   "metadata": {},
   "outputs": [
    {
     "name": "stdout",
     "output_type": "stream",
     "text": [
      "Catalog Coverage: 99.94739610731193%\n",
      "Catalog Coverage: 98.74476987447699%\n",
      "Catalog Coverage: 98.30885625278148%\n",
      "Catalog Coverage: 86.73059479072178%\n",
      "Catalog Coverage: 94.4639571834755%\n",
      "Catalog Coverage: 78.23663018790006%\n"
     ]
    }
   ],
   "source": [
    "knn_catalog_coverages = []\n",
    "knn_catalog_coverages_train = []\n",
    "for knn_predictions_df, knn_predictions_train_df in zip(knn_predictions_dfs, knn_predictions_train_dfs):\n",
    "    knn_predictions_df.sort_values(by=['userId', 'predicted'])\n",
    "    ratings_dictionary = dict(knn_predictions_df.set_index('userId').groupby(level = 0).apply(lambda x : x.to_dict(orient= 'records')))\n",
    "    N = len(knn_predictions_df['movieId'].unique())    \n",
    "    knn_catalog_coverages.append(calculate_catalog_coverage(ratings_dictionary, N))\n",
    "    \n",
    "    knn_predictions_train_df.sort_values(by=['userId', 'predicted'])\n",
    "    ratings_dictionary = dict(knn_predictions_train_df.set_index('userId').groupby(level = 0).apply(lambda x : x.to_dict(orient= 'records')))\n",
    "    N = len(knn_predictions_train_df['movieId'].unique())    \n",
    "    knn_catalog_coverages_train.append(calculate_catalog_coverage(ratings_dictionary, N))"
   ]
  },
  {
   "cell_type": "markdown",
   "metadata": {},
   "source": [
    "**Catalog Coverage**"
   ]
  },
  {
   "cell_type": "code",
   "execution_count": 304,
   "metadata": {},
   "outputs": [
    {
     "data": {
      "text/plain": [
       "([99.94739610731193, 98.30885625278148, 94.4639571834755],\n",
       " [98.74476987447699, 86.73059479072178, 78.23663018790006])"
      ]
     },
     "execution_count": 304,
     "metadata": {},
     "output_type": "execute_result"
    }
   ],
   "source": [
    "knn_catalog_coverages, knn_catalog_coverages_train"
   ]
  },
  {
   "cell_type": "code",
   "execution_count": 357,
   "metadata": {},
   "outputs": [],
   "source": [
    "def calculate_catalog_coverage(ratingsDict, N, k=3, pred_col_name='predicted'):\n",
    "    '''\n",
    "    k: top k movies\n",
    "    N: total number of movies\n",
    "    '''\n",
    "    \n",
    "    recList = []\n",
    "    for keys in ratingsDict.keys():\n",
    "        \n",
    "        if k >= len(ratingsDict[keys]):\n",
    "            for row in ratingsDict[keys]:\n",
    "                recList.append(row['movieId'])\n",
    "        else:\n",
    "            for index, item in enumerate(sorted(ratingsDict[keys], key=lambda x: -x[pred_col_name])):\n",
    "                if index+1 <= k:\n",
    "                    recList.append(item['movieId'])\n",
    "                else:\n",
    "                    pass\n",
    "\n",
    "    recommended_set = set(recList)\n",
    "\n",
    "    coverage = (len(recommended_set) / N) * 100\n",
    "    print('Catalog Coverage: {}%'.format(coverage))\n",
    "    return coverage"
   ]
  },
  {
   "cell_type": "markdown",
   "metadata": {},
   "source": [
    "## 3.3 Model-Based Collaborative Filtering: Matrix Factorization Using PySpark's Alternating Least Squares (ALS) <a class=\"anchor\" id=\"3-3\"></a>"
   ]
  },
  {
   "cell_type": "markdown",
   "metadata": {},
   "source": [
    "We use the Alternating Least Square (ALS) model in PySpark with the same samples we used for the baseline model and the neighborhood-based model."
   ]
  },
  {
   "cell_type": "code",
   "execution_count": 44,
   "metadata": {},
   "outputs": [],
   "source": [
    "#Spark Session\n",
    "spark =SparkSession.builder.appName('ALS').getOrCreate()\n",
    "sc = spark.sparkContext\n",
    "sqlContext = SQLContext(sc)\n",
    "\n",
    "# Load ratings data into PySpark dataframe\n",
    "data_schema = StructType([\n",
    "    StructField('userId',IntegerType(), False),\n",
    "    StructField('movieId',IntegerType(), False),\n",
    "    StructField('rating',FloatType(), False)])\n",
    "\n",
    "movie_ratings = spark.read.csv('ratings.csv', \n",
    "                               header=True, schema=data_schema).cache()"
   ]
  },
  {
   "cell_type": "markdown",
   "metadata": {},
   "source": [
    "We convert our samples (Pandas dataframes) into Spark dataframes."
   ]
  },
  {
   "cell_type": "code",
   "execution_count": 45,
   "metadata": {},
   "outputs": [],
   "source": [
    "# Create Spark DF from Pandas DF\n",
    "all_sample_spark_dfs = []\n",
    "for sample_df in all_sample_dfs:\n",
    "    new_sample_df = sample_df.iloc[:, sample_df.columns != 'timestamp']\n",
    "    spark_sample_df = spark.createDataFrame(new_sample_df, schema=data_schema)\n",
    "    all_sample_spark_dfs.append(spark_sample_df)"
   ]
  },
  {
   "cell_type": "code",
   "execution_count": 46,
   "metadata": {},
   "outputs": [],
   "source": [
    "# ALS model without tuning parameters\n",
    "als = ALS(maxIter=5, userCol=\"userId\", itemCol=\"movieId\", ratingCol=\"rating\",\n",
    "          coldStartStrategy=\"drop\", nonnegative= True)"
   ]
  },
  {
   "cell_type": "markdown",
   "metadata": {},
   "source": [
    "### 3.3.1 Tuning Hyperparameters <a class=\"anchor\" id=\"3-3-1\"></a>\n",
    "\n",
    "There are 3 hyperparameters to tune. First, we will tune `rank`, then `regParam`, and then `maxIter`. We use RSME to tune our parameters and cross validation with 3 folds. We do this on our traning set.\n",
    "\n",
    "_Cross validation set up_ : The input data was split into train and test set ( 80-20). The train set is then used for cross validation. 3-fold cross validation is implemented to tune the hyper parameters by splitting into training and validation sets for each fold.\n"
   ]
  },
  {
   "cell_type": "code",
   "execution_count": 57,
   "metadata": {},
   "outputs": [],
   "source": [
    "def tune_parameter(cv_func, paramGrid, percentages, all_training_sets):\n",
    "    \n",
    "    training_times = []\n",
    "    cvModels = []\n",
    "    results = []\n",
    "\n",
    "    for i in range(len(percentages)):\n",
    "        start_1 = datetime.datetime.now()\n",
    "        cvModel = cv_func.fit(all_training_sets[i])\n",
    "        end_1 = datetime.datetime.now()\n",
    "\n",
    "        cvModels.append(cvModel)\n",
    "        training_times.append(str(end_1 - start_1))\n",
    "        results.append(list(zip(cvModel.avgMetrics, paramGrid)))\n",
    "\n",
    "        print(str(end_1 - start_1))\n",
    "    \n",
    "    return training_times, cvModels, results\n",
    "    "
   ]
  },
  {
   "cell_type": "code",
   "execution_count": 336,
   "metadata": {},
   "outputs": [],
   "source": [
    "def plot_rmse_vs_param(cvModels, param_list, xlabel):\n",
    "    real_percetanges = [ percent * 100 for percent in percentages]\n",
    "    plt.figure(figsize=(10, 6))\n",
    "    for cvModel in cvModels: \n",
    "        plt.plot(param_list, cvModel.avgMetrics, marker='o')\n",
    "\n",
    "    plt.xlabel(xlabel)\n",
    "    plt.ylabel('RMSE')\n",
    "    plt.title('RMSE vs {} by Sample Size'.format(xlabel))\n",
    "    plt.legend(['{}% Sample'.format(p) for p in real_percetanges])\n",
    "    plt.grid(True)\n",
    "    plt.show()"
   ]
  },
  {
   "cell_type": "markdown",
   "metadata": {},
   "source": [
    "####  Tuning Rank"
   ]
  },
  {
   "cell_type": "markdown",
   "metadata": {},
   "source": [
    "The rank are the latent factors, so we must tune this. We choose values 5, 10, and 20 to use to tune."
   ]
  },
  {
   "cell_type": "code",
   "execution_count": 343,
   "metadata": {},
   "outputs": [
    {
     "name": "stdout",
     "output_type": "stream",
     "text": [
      "0:02:00.794607\n",
      "0:02:24.804511\n",
      "0:03:05.277963\n"
     ]
    }
   ],
   "source": [
    "# tuning rank\n",
    "rank_list = [5, 10, 20]\n",
    "paramGrid = (ParamGridBuilder().addGrid(als.rank, rank_list).build())\n",
    "\n",
    "crossval = CrossValidator(estimator=als,\n",
    "                          estimatorParamMaps=paramGrid,\n",
    "                          evaluator=RegressionEvaluator(metricName=\"rmse\",\n",
    "                                                        labelCol=\"rating\"),\n",
    "                          numFolds=3)\n",
    "\n",
    "training_times, cvModels, results = tune_parameter(crossval, paramGrid, percentages, all_training_sets)"
   ]
  },
  {
   "cell_type": "markdown",
   "metadata": {},
   "source": [
    "As sample size increased, it took longer to tune rank. Since our samples were 0.01%, 0.05%, and 0.1% for each increase in sample it took about 30 seconds longer."
   ]
  },
  {
   "cell_type": "code",
   "execution_count": 337,
   "metadata": {
    "scrolled": true
   },
   "outputs": [
    {
     "data": {
      "image/png": "[encoded data removed]",
      "text/plain": [
       "<Figure size 720x432 with 1 Axes>"
      ]
     },
     "metadata": {
      "needs_background": "light"
     },
     "output_type": "display_data"
    }
   ],
   "source": [
    "plot_rmse_vs_param(cvModels, rank_list, 'Rank')"
   ]
  },
  {
   "cell_type": "markdown",
   "metadata": {},
   "source": [
    "We get the rank to "
   ]
  },
  {
   "cell_type": "code",
   "execution_count": 55,
   "metadata": {},
   "outputs": [
    {
     "name": "stdout",
     "output_type": "stream",
     "text": [
      "[2.5208710351886188, 2.406703436515813, 2.4000997089692673]\n",
      "[1.8150041302424498, 1.8027648590484402, 1.7171846553955805]\n",
      "[1.5620705118289568, 1.5696040226692172, 1.5252708665364574]\n"
     ]
    }
   ],
   "source": [
    "for cv in cvModels:\n",
    "    print(cv.avgMetrics)\n",
    "best_rank=20"
   ]
  },
  {
   "cell_type": "markdown",
   "metadata": {},
   "source": [
    "#### Tuning Regularization Parameter"
   ]
  },
  {
   "cell_type": "markdown",
   "metadata": {},
   "source": [
    "Using the best rank we just found, we next tune the regularization parameter. "
   ]
  },
  {
   "cell_type": "code",
   "execution_count": 58,
   "metadata": {},
   "outputs": [
    {
     "name": "stdout",
     "output_type": "stream",
     "text": [
      "0:01:36.267541\n",
      "0:02:05.043913\n",
      "0:02:47.549340\n"
     ]
    }
   ],
   "source": [
    "reg_list = [0.001, 0.05, 0.1, 0.2]\n",
    "\n",
    "# Use the best rank found above\n",
    "als= ALS(maxIter=5, rank=best_rank, userCol=\"userId\", itemCol=\"movieId\", ratingCol=\"rating\",\n",
    "          coldStartStrategy=\"drop\", nonnegative= True)\n",
    "\n",
    "paramGrid_2 = ParamGridBuilder().addGrid(als.regParam, reg_list).build()\n",
    "\n",
    "crossval_2 = CrossValidator(estimator=als,\n",
    "                          estimatorParamMaps=paramGrid_2,\n",
    "                          evaluator=RegressionEvaluator(metricName=\"rmse\",\n",
    "                                                        labelCol=\"rating\"),\n",
    "                          numFolds=3)\n",
    "\n",
    "\n",
    "training_times2, cvModels2, results2 = tune_parameter(crossval_2, paramGrid_2, percentages, all_training_sets)"
   ]
  },
  {
   "cell_type": "markdown",
   "metadata": {},
   "source": [
    "Similar to as what we saw with tuning the rank parameter, as the sample size increased, the time it took did as well."
   ]
  },
  {
   "cell_type": "code",
   "execution_count": 338,
   "metadata": {},
   "outputs": [
    {
     "data": {
      "image/png": "[encoded data removed]",
      "text/plain": [
       "<Figure size 720x432 with 1 Axes>"
      ]
     },
     "metadata": {
      "needs_background": "light"
     },
     "output_type": "display_data"
    }
   ],
   "source": [
    "plot_rmse_vs_param(cvModels2, reg_list, 'regParam')"
   ]
  },
  {
   "cell_type": "code",
   "execution_count": 60,
   "metadata": {},
   "outputs": [
    {
     "name": "stdout",
     "output_type": "stream",
     "text": [
      "[2.6062633832232525, 2.376728250989886, 2.4000997089692673, 2.4437349470727225]\n",
      "[2.7371086361759316, 1.741988486087179, 1.7171846553955805, 1.6524823516106966]\n",
      "[2.91276271711076, 1.6213390509996386, 1.5252708665364574, 1.398496263249813]\n"
     ]
    }
   ],
   "source": [
    "for cv in cvModels2:\n",
    "    print(cv.avgMetrics)\n",
    "best_reg = 0.2"
   ]
  },
  {
   "cell_type": "markdown",
   "metadata": {},
   "source": [
    "#### Tuning Number of Iterations"
   ]
  },
  {
   "cell_type": "code",
   "execution_count": 61,
   "metadata": {},
   "outputs": [
    {
     "name": "stdout",
     "output_type": "stream",
     "text": [
      "0:01:27.539845\n",
      "0:02:29.413635\n",
      "0:03:16.695436\n"
     ]
    }
   ],
   "source": [
    "iter_list = list(range(5,25,5))\n",
    "\n",
    "# Use the best rank and best regParam found above\n",
    "als= ALS(rank=best_rank, regParam=best_reg, userCol=\"userId\", itemCol=\"movieId\", ratingCol=\"rating\",\n",
    "          coldStartStrategy=\"drop\", nonnegative= True)\n",
    "                 \n",
    "paramGrid_3 = ParamGridBuilder().addGrid(als.maxIter, iter_list).build()\n",
    "\n",
    "crossval_3 = CrossValidator(estimator=als,\n",
    "                          estimatorParamMaps=paramGrid_2,\n",
    "                          evaluator=RegressionEvaluator(metricName=\"rmse\",\n",
    "                                                        labelCol=\"rating\"),\n",
    "                          numFolds=3)\n",
    "\n",
    "\n",
    "training_times3, cvModels3, results3 = tune_parameter(crossval_3, paramGrid_3, percentages, all_training_sets)"
   ]
  },
  {
   "cell_type": "code",
   "execution_count": 339,
   "metadata": {},
   "outputs": [
    {
     "data": {
      "image/png": "[encoded data removed]",
      "text/plain": [
       "<Figure size 720x432 with 1 Axes>"
      ]
     },
     "metadata": {
      "needs_background": "light"
     },
     "output_type": "display_data"
    }
   ],
   "source": [
    "plot_rmse_vs_param(cvModels3, iter_list, 'maxIter')"
   ]
  },
  {
   "cell_type": "code",
   "execution_count": 64,
   "metadata": {},
   "outputs": [
    {
     "name": "stdout",
     "output_type": "stream",
     "text": [
      "[2.4305742906384324, 2.4305742906384324, 2.4305742906384324, 2.4305742906384324]\n",
      "[1.4810357844270297, 1.4810357844270297, 1.4810357844270297, 1.4810357844270297]\n",
      "[1.295138360350374, 1.295138360350374, 1.295138360350374, 1.295138360350374]\n"
     ]
    }
   ],
   "source": [
    "for cv in cvModels3:\n",
    "    print(cv.avgMetrics)\n",
    "best_iter = 10 # default"
   ]
  },
  {
   "cell_type": "markdown",
   "metadata": {},
   "source": [
    "### 3.3.2 Accuracy of ALS Model <a class=\"anchor\" id=\"3-3-2\"></a>"
   ]
  },
  {
   "cell_type": "markdown",
   "metadata": {},
   "source": [
    "The primary accuracy metric chosen was RMSE. For matrix factorisation error metrics is a good baseline to calculate how well our model is predicting compared to the true value. However for our business case RMSE can suffer from long tail problem ie, average error will focus primarily on popular items and unobserved items are factored fewer times.\n",
    "For checking the accuracy in the test dataset a secondary ranking metric is used. NDCG was implemented and this is a utility based metric that takes into account both the ground truth relevance of an item and its position in the ranking list. NDCG is useful when we want the  recommender system to return some relevant results, and order is important. We want to make sure our top n predictions for the user is as accurate as possible and hence pay great importance to the order of the top recommended movies. Hence higher the accuracy, more perfect the recommendations."
   ]
  },
  {
   "cell_type": "markdown",
   "metadata": {},
   "source": [
    "### RMSE \n",
    "\n",
    "For training RMSE we have:"
   ]
  },
  {
   "cell_type": "code",
   "execution_count": 65,
   "metadata": {},
   "outputs": [
    {
     "data": {
      "text/plain": [
       "[2.4305742906384324, 1.4810357844270297, 1.295138360350374]"
      ]
     },
     "execution_count": 65,
     "metadata": {},
     "output_type": "execute_result"
    }
   ],
   "source": [
    "best_als_rmses_train = []\n",
    "for cv in cvModels3:\n",
    "    best_als_rmses_train.append(min(cv.avgMetrics))\n",
    "\n",
    "best_als_rmses_train"
   ]
  },
  {
   "cell_type": "markdown",
   "metadata": {},
   "source": [
    "For the test RMSE, we used the fitted model to find the predictions and calculate RMSE"
   ]
  },
  {
   "cell_type": "code",
   "execution_count": 66,
   "metadata": {},
   "outputs": [],
   "source": [
    "best_als_models = []\n",
    "best_predictions_test = []\n",
    "best_predictions_train = []\n",
    "best_als_rmses = []\n",
    "\n",
    "evaluator = RegressionEvaluator(metricName=\"rmse\", labelCol=\"rating\",\n",
    "                                predictionCol=\"prediction\")\n",
    "\n",
    "for i in range(len(percentages)):\n",
    "    best_als= ALS(rank=best_rank, regParam=best_reg, maxIter=best_iter, userCol=\"userId\", \n",
    "                  itemCol=\"movieId\", ratingCol=\"rating\", coldStartStrategy=\"drop\", nonnegative= True)\n",
    "\n",
    "    best_als_model = als.fit(all_training_sets[i])\n",
    "    als_predictions_test = best_als_model.transform(all_test_sets[i])\n",
    "    als_predictions_train = best_als_model.transform(all_training_sets[i])\n",
    "    rmse = evaluator.evaluate(als_predictions_test)\n",
    "        \n",
    "    best_als_models.append(best_als_model)\n",
    "    best_predictions_test.append(als_predictions_test)\n",
    "    best_predictions_train.append(als_predictions_train)\n",
    "    best_als_rmses.append(rmse)"
   ]
  },
  {
   "cell_type": "code",
   "execution_count": 67,
   "metadata": {},
   "outputs": [
    {
     "data": {
      "text/plain": [
       "[2.240793381700844, 1.3432920600923228, 1.2190040017124122]"
      ]
     },
     "execution_count": 67,
     "metadata": {},
     "output_type": "execute_result"
    }
   ],
   "source": [
    "best_als_rmses"
   ]
  },
  {
   "cell_type": "markdown",
   "metadata": {},
   "source": [
    "### NDCG"
   ]
  },
  {
   "cell_type": "code",
   "execution_count": 294,
   "metadata": {},
   "outputs": [],
   "source": [
    "# convert pyspark df to pandas df\n",
    "\n",
    "als_predicted_test_dfs = []  # pandas DF\n",
    "als_predicted_train_dfs = []  # pandas DF\n",
    "als_test_ndcgs = []\n",
    "als_train_ndcgs = []\n",
    "\n",
    "for (best_prediction_test, best_prediction_train) in zip(best_predictions_test, best_predictions_train):\n",
    "    # convert test predictions to pandas df\n",
    "    als_predicted_test_df = best_prediction_test.toPandas()\n",
    "    als_predicted_test_dfs.append(als_predicted_test_df)\n",
    "    \n",
    "    # convert train predictions to pandas df\n",
    "    als_predicted_train_df = best_prediction_train.toPandas()\n",
    "    als_predicted_train_dfs.append(als_predicted_train_df)\n",
    "    \n",
    "    # ndcg calculation for test predictions\n",
    "    als_ndcg = ndcg_score(als_predicted_test_df, pred_col_name='prediction')\n",
    "    als_test_ndcgs.append(als_ndcg)\n",
    "    \n",
    "    # ndcg calculation for train predictions\n",
    "    als_ndcg_train = ndcg_score(als_predicted_train_df, pred_col_name='prediction')\n",
    "    als_train_ndcgs.append(als_ndcg_train)\n"
   ]
  },
  {
   "cell_type": "markdown",
   "metadata": {},
   "source": [
    "The first set of NDCG values are the test values (1 for each sample size). The second set of NDCG values are the train values (1 for each sample size)."
   ]
  },
  {
   "cell_type": "code",
   "execution_count": 295,
   "metadata": {},
   "outputs": [
    {
     "data": {
      "text/plain": [
       "([0.997590513711344, 0.9875547953500886, 0.9818723611854507],\n",
       " [0.999983875298656, 0.9996355651277133, 0.998614716431413])"
      ]
     },
     "execution_count": 295,
     "metadata": {},
     "output_type": "execute_result"
    }
   ],
   "source": [
    "als_test_ndcgs, als_train_ndcgs"
   ]
  },
  {
   "cell_type": "markdown",
   "metadata": {},
   "source": [
    "### 3.3.3 Coverage of ALS Model <a class=\"anchor\" id=\"3-3-3\"></a>"
   ]
  },
  {
   "cell_type": "code",
   "execution_count": 106,
   "metadata": {},
   "outputs": [],
   "source": [
    "def get_item_coverage(best_predictions_test, k=5):\n",
    "    als_item_coverages_test = []\n",
    "    for i in range(len(best_predictions_test)):\n",
    "        prediction = best_predictions_test[i]\n",
    "        percentage = percentages[i]\n",
    "        predictions_grouped_by_movieIds = prediction.filter(prediction['rating'] >= 3.0).groupby(['movieId'])\n",
    "        pred_df = predictions_grouped_by_movieIds.agg(sql_func.count(col('userId')))\n",
    "        pred_df2 = pred_df.filter(pred_df['count(userId)'] >= k)\n",
    "        n_movie = pred_df2.count()\n",
    "\n",
    "        potential_recommended_movies = all_test_sets[i].select(\"movieId\").distinct()\n",
    "        N_movie = potential_recommended_movies.count()\n",
    "\n",
    "        coverage = (n_movie/N_movie) * 100\n",
    "        als_item_coverages_test.append(coverage)\n",
    "        print('Item Coverage ({0:.2}% sample): {1:.2}%'.format(percentage, coverage))\n",
    "    \n",
    "    return als_item_coverages_test"
   ]
  },
  {
   "cell_type": "code",
   "execution_count": 105,
   "metadata": {},
   "outputs": [
    {
     "name": "stdout",
     "output_type": "stream",
     "text": [
      "Item Coverage (0.001% sample): 0.0%\n",
      "Item Coverage (0.005% sample): 9.6%\n",
      "Item Coverage (0.01% sample): 2.1e+01%\n"
     ]
    }
   ],
   "source": [
    "als_item_coverages_test = get_item_coverage(best_predictions_test)"
   ]
  },
  {
   "cell_type": "code",
   "execution_count": 131,
   "metadata": {},
   "outputs": [
    {
     "name": "stdout",
     "output_type": "stream",
     "text": [
      "Item Coverage (0.001% sample): 3.5e+01%\n",
      "Item Coverage (0.005% sample): 5.5e+01%\n",
      "Item Coverage (0.01% sample): 5.9e+01%\n"
     ]
    }
   ],
   "source": [
    "als_item_coverages_train = get_item_coverage(best_predictions_train)"
   ]
  },
  {
   "cell_type": "code",
   "execution_count": 108,
   "metadata": {},
   "outputs": [],
   "source": [
    "def get_user_coverage(best_predictions_test, k=3):\n",
    "    als_user_coverages_test = []\n",
    "    for i in range(len(best_predictions_test)):\n",
    "        prediction = best_predictions_test[i]\n",
    "        percentage = percentages[i]\n",
    "        predictions_grouped_by_userIds = prediction.filter(prediction['rating'] >= 3.0).groupby(['userId'])\n",
    "        pred_df = predictions_grouped_by_userIds.agg(sql_func.count(col('movieId')))\n",
    "        pred_df2 = pred_df.filter(pred_df['count(movieId)'] >= k)\n",
    "        n_user = pred_df2.count()\n",
    "\n",
    "        potential_recommended_users = all_test_sets[i].select(\"userId\").distinct()\n",
    "        N_user = potential_recommended_users.count()\n",
    "\n",
    "        coverage = (n_user/N_user) * 100\n",
    "        als_user_coverages_test.append(coverage)\n",
    "        print('User Coverage: ({0:.4}% sample): {1:.2}%'.format(percentage, coverage))\n",
    "    \n",
    "    return als_user_coverages_test"
   ]
  },
  {
   "cell_type": "code",
   "execution_count": 109,
   "metadata": {},
   "outputs": [
    {
     "name": "stdout",
     "output_type": "stream",
     "text": [
      "User Coverage: (0.001% sample): 0.034%\n",
      "User Coverage: (0.005% sample): 1.8%\n",
      "User Coverage: (0.01% sample): 5.1%\n"
     ]
    }
   ],
   "source": [
    "als_user_coverages_test = get_user_coverage(best_predictions_test)"
   ]
  },
  {
   "cell_type": "code",
   "execution_count": 132,
   "metadata": {},
   "outputs": [
    {
     "name": "stdout",
     "output_type": "stream",
     "text": [
      "User Coverage: (0.001% sample): 5.7%\n",
      "User Coverage: (0.005% sample): 3.2e+01%\n",
      "User Coverage: (0.01% sample): 5e+01%\n"
     ]
    }
   ],
   "source": [
    "als_user_coverages_train = get_user_coverage(best_predictions_train)"
   ]
  },
  {
   "cell_type": "code",
   "execution_count": 309,
   "metadata": {},
   "outputs": [
    {
     "name": "stdout",
     "output_type": "stream",
     "text": [
      "Catalog Coverage: 100.0%\n",
      "Catalog Coverage: 98.72235872235873%\n",
      "Catalog Coverage: 98.6784140969163%\n",
      "Catalog Coverage: 88.15043791859866%\n",
      "Catalog Coverage: 95.13766842413591%\n",
      "Catalog Coverage: 79.9916675346318%\n"
     ]
    }
   ],
   "source": [
    "als_catalog_coverages = []\n",
    "als_catalog_coverages_train = []\n",
    "for als_predicted_test_df, als_predicted_train_df in zip(als_predicted_test_dfs, als_predicted_train_dfs):\n",
    "    als_predicted_test_df.sort_values(by=['userId', 'rating'])\n",
    "    ratings_dictionary = dict(als_predicted_test_df.set_index('userId').groupby(level = 0).apply(lambda x : x.to_dict(orient= 'records')))\n",
    "    N = len(als_predicted_test_df['movieId'].unique())    \n",
    "    als_catalog_coverages.append(calculate_catalog_coverage(ratings_dictionary, N, pred_col_name='rating'))\n",
    "    \n",
    "    als_predicted_train_df.sort_values(by=['userId', 'rating'])\n",
    "    ratings_dictionary = dict(als_predicted_train_df.set_index('userId').groupby(level = 0).apply(lambda x : x.to_dict(orient= 'records')))\n",
    "    N = len(als_predicted_train_df['movieId'].unique())    \n",
    "    als_catalog_coverages_train.append(calculate_catalog_coverage(ratings_dictionary, N, pred_col_name='rating'))"
   ]
  },
  {
   "cell_type": "code",
   "execution_count": 310,
   "metadata": {},
   "outputs": [
    {
     "data": {
      "text/plain": [
       "([100.0, 98.6784140969163, 95.13766842413591],\n",
       " [98.72235872235873, 88.15043791859866, 79.9916675346318])"
      ]
     },
     "execution_count": 310,
     "metadata": {},
     "output_type": "execute_result"
    }
   ],
   "source": [
    "als_catalog_coverages, als_catalog_coverages_train"
   ]
  },
  {
   "cell_type": "markdown",
   "metadata": {},
   "source": [
    "# 4. Evaluation <a class=\"anchor\" id=\"4\"></a>"
   ]
  },
  {
   "cell_type": "markdown",
   "metadata": {},
   "source": [
    "## 4.1 Accuracy <a class=\"anchor\" id=\"4-1\"></a>"
   ]
  },
  {
   "cell_type": "markdown",
   "metadata": {},
   "source": [
    "### 4.1.1 RMSE <a class=\"anchor\" id=\"4-1-1\"></a>"
   ]
  },
  {
   "cell_type": "code",
   "execution_count": 331,
   "metadata": {},
   "outputs": [
    {
     "data": {
      "image/png": "[encoded data removed]",
      "text/plain": [
       "<Figure size 720x432 with 1 Axes>"
      ]
     },
     "metadata": {
      "needs_background": "light"
     },
     "output_type": "display_data"
    }
   ],
   "source": [
    "baseline_rmses, baseline_rmses_train\n",
    "best_als_rmses, best_als_rmses_train\n",
    "\n",
    "plt.figure(figsize=(10, 6))\n",
    "\n",
    "real_percetanges = [ percent * 100 for percent in percentages]\n",
    "plt.plot(real_percetanges, baseline_rmses, marker='o')\n",
    "plt.plot(real_percetanges, [min(rmse)  for rmse in knn_rmse_test], marker='o')\n",
    "plt.plot(real_percetanges, best_als_rmses, marker='o')\n",
    "\n",
    "plt.xlabel('sampling percentage (%)')\n",
    "plt.ylabel('RMSE')\n",
    "plt.title('RMSE Test vs Sample Size')\n",
    "plt.legend(['Baseline Model', 'KNN', 'ALS'])\n",
    "plt.grid(True)\n",
    "plt.show()"
   ]
  },
  {
   "cell_type": "markdown",
   "metadata": {},
   "source": [
    "For each model, as the sample size increased, the RMSE decreased. Therefore, larger data would improve the performance of our models. It is interesting to note that the matrix factorization has the highest RMSE compared to our baseline model and KNN item-based collaborative filtering. In general, the KNN item-based CF showed the best performance with the lowest RMSE scores. "
   ]
  },
  {
   "cell_type": "markdown",
   "metadata": {},
   "source": [
    "### 4.1.2 NDCG <a class=\"anchor\" id=\"4-1-2\"></a>"
   ]
  },
  {
   "cell_type": "code",
   "execution_count": 332,
   "metadata": {
    "scrolled": true
   },
   "outputs": [
    {
     "data": {
      "image/png": "[encoded data removed]",
      "text/plain": [
       "<Figure size 720x432 with 1 Axes>"
      ]
     },
     "metadata": {
      "needs_background": "light"
     },
     "output_type": "display_data"
    }
   ],
   "source": [
    "baseline_ndcgs, baseline_ndcgs_train\n",
    "als_test_ndcgs, als_train_ndcgs\n",
    "\n",
    "plt.figure(figsize=(10, 6))\n",
    "plt.plot(real_percetanges, baseline_ndcgs, marker='o')\n",
    "plt.plot(real_percetanges, knn_test_ndcgs, marker='o')\n",
    "plt.plot(real_percetanges, als_test_ndcgs, marker='o')\n",
    "\n",
    "plt.xlabel('sampling percentage (%)')\n",
    "plt.ylabel('NDCG')\n",
    "plt.title('NDCG Test vs Sample Size')\n",
    "plt.legend(['Baseline Model', 'KNN', 'ALS'])\n",
    "plt.grid(True)\n",
    "plt.show()"
   ]
  },
  {
   "cell_type": "markdown",
   "metadata": {},
   "source": [
    "For NDCG, we get the highest values when the sample size is the smallest. This can be reasoned based on the fact that the smaller the data, it is likely that there aren't sufficient amount of data for each user/item (sparse). Therefore, we would be calculating NDCG based on the ranking of few items for each user. Despite having high NDCG (which is our goal), this would be an inaccurate evaluation of our model caused by sparsity of the samples. As the sample size increased, NDCG for all three models decreased, with the matrix factorization model having the lowest NDCG. If our sample size were larger with more dense data points, we would be more likely to obtain accurate evaluation of NDCG."
   ]
  },
  {
   "cell_type": "markdown",
   "metadata": {},
   "source": [
    "## 4.2 Coverage <a class=\"anchor\" id=\"4-2\"></a>"
   ]
  },
  {
   "cell_type": "markdown",
   "metadata": {},
   "source": [
    "### Item Coverage"
   ]
  },
  {
   "cell_type": "code",
   "execution_count": 333,
   "metadata": {},
   "outputs": [
    {
     "data": {
      "image/png": "[encoded data removed]",
      "text/plain": [
       "<Figure size 720x432 with 1 Axes>"
      ]
     },
     "metadata": {
      "needs_background": "light"
     },
     "output_type": "display_data"
    }
   ],
   "source": [
    "plt.figure(figsize=(10, 6))\n",
    "plt.plot(real_percetanges, baseline_test_item_coverages, marker='o')\n",
    "plt.plot(real_percetanges, knn_item_coverages_test, marker='o')\n",
    "plt.plot(real_percetanges, als_item_coverages_test,a marker='o')\n",
    "\n",
    "plt.xlabel('sampling percentage (%)')\n",
    "plt.ylabel('Item Coverage')\n",
    "plt.title('Item Coverage Test vs Sample Size')\n",
    "plt.legend(['Baseline Model', 'KNN', 'ALS'])\n",
    "plt.grid(True)\n",
    "plt.show()"
   ]
  },
  {
   "cell_type": "markdown",
   "metadata": {},
   "source": [
    "Item coverage is the fraction of movies that we recommended well to at least k users. We defined 'well' as a movie having a rating greater than 3.0 and we used k=5. Therefore, we would want a higher coverage. For each model, as the sample size increased, the coverage increased. Our matrix factorization model had the lowest item coverage while the neighborhood based model had smilar item coverage as the baseline model."
   ]
  },
  {
   "cell_type": "markdown",
   "metadata": {},
   "source": [
    "### User Coverage"
   ]
  },
  {
   "cell_type": "code",
   "execution_count": 334,
   "metadata": {},
   "outputs": [
    {
     "data": {
      "image/png": "[encoded data removed]",
      "text/plain": [
       "<Figure size 720x432 with 1 Axes>"
      ]
     },
     "metadata": {
      "needs_background": "light"
     },
     "output_type": "display_data"
    }
   ],
   "source": [
    "plt.figure(figsize=(10, 6))\n",
    "plt.plot(real_percetanges, baseline_test_user_coverages, marker='o')\n",
    "plt.plot(real_percetanges, knn_user_coverages_test, marker='o')\n",
    "plt.plot(real_percetanges, als_user_coverages_test, marker='o')\n",
    "\n",
    "plt.xlabel('sampling percentage (%)')\n",
    "plt.ylabel('User Coverage')\n",
    "plt.title('User Coverage Test vs Sample Size')\n",
    "plt.legend(['Baseline Model', 'KNN', 'ALS'])\n",
    "plt.grid(True)\n",
    "plt.show()"
   ]
  },
  {
   "cell_type": "markdown",
   "metadata": {},
   "source": [
    "User coverage is the fraction of users who we recommend well at least k movies. We defined 'well' as a movie having a rating greater than 3.0 and we used k=3. For each model, as the sample size increased, the user coverage increased. The user coverage for each model is relatively the same."
   ]
  },
  {
   "cell_type": "markdown",
   "metadata": {},
   "source": [
    "### Catalog Coverage"
   ]
  },
  {
   "cell_type": "code",
   "execution_count": 335,
   "metadata": {},
   "outputs": [
    {
     "data": {
      "image/png": "[encoded data removed]",
      "text/plain": [
       "<Figure size 720x432 with 1 Axes>"
      ]
     },
     "metadata": {
      "needs_background": "light"
     },
     "output_type": "display_data"
    }
   ],
   "source": [
    "plt.figure(figsize=(10, 6))\n",
    "plt.plot(real_percetanges, baseline_catalog_coverages, marker='o')\n",
    "plt.plot(real_percetanges, knn_catalog_coverages, marker='o')\n",
    "plt.plot(real_percetanges, als_catalog_coverages, marker='o')\n",
    "\n",
    "plt.xlabel('sampling percentage (%)')\n",
    "plt.ylabel('Catalog Coverage')\n",
    "plt.title('Catalog Coverage Test vs Sample Size')\n",
    "plt.legend(['Baseline Model', 'KNN', 'ALS'])\n",
    "plt.grid(True)\n",
    "plt.show()"
   ]
  },
  {
   "cell_type": "markdown",
   "metadata": {},
   "source": [
    "Catalog coverage is a measure of how many unique items appear in the top-k items over the total number of items. By maximizing coverage, we can assume that the model provides a good variety of items to users. For our largest sample, the matrix factorization model had the highest catalog coverage while the baseline model had the lowest catalog coverage. Similar to the issue we had with NDCG, we can attribute 100% catalog coverage for small sample data to sparsity. For a sparse sample data, it is likely that each user would have rated one to two items on average, so we would be recommending top one or two items out of one or two items they have rated. Although our initial objective was to recommend novel and diverse items to users, we would need to have more dense and larger dataset to have a more accurate measure of catalog coverage. "
   ]
  },
  {
   "cell_type": "markdown",
   "metadata": {},
   "source": [
    "## 4.3 User Distribution <a class=\"anchor\" id=\"4-3\"></a>"
   ]
  },
  {
   "cell_type": "markdown",
   "metadata": {},
   "source": [
    "Since our catalog coverages and NDCGs were unusually high, we wanted to see how our models would perform given different distribution of users. To observe the performance of our model based on different distribution of users, we have split our test data according to active and inactive users. For active users, we chose top-50 users who rated the most number of items. For inactive users, we chose bottom 10,000 users who rated 20 items or less. Both sets of users had similar number of ratings.\n"
   ]
  },
  {
   "cell_type": "code",
   "execution_count": 359,
   "metadata": {},
   "outputs": [
    {
     "name": "stdout",
     "output_type": "stream",
     "text": [
      "number of user: 138493\n",
      "number of movie: 26744\n",
      "data points for top 50 most rated movies: 206590\n",
      "data points for bottom 10000 most rated movies: 207926\n",
      "number of active user: 50\n",
      "number of movie: 19819\n",
      "total data points for active movie: 206590\n",
      "number of inactive user: 10000\n",
      "number of movie: 6882\n",
      "total data points for inactive movie: 207926\n"
     ]
    }
   ],
   "source": [
    "df = ratings_df.copy()\n",
    "df_ratings_cnt = pd.DataFrame(df.groupby('userId').size(), columns=['count']).sort_values('count', ascending=False).sort_values(by=['count'], ascending=False).reset_index()\n",
    "print('number of user:', len(df['userId'].unique()))\n",
    "print('number of movie:', len(df['movieId'].unique()))\n",
    "print('data points for top 50 most rated movies:',df_ratings_cnt[:50]['count'].sum())\n",
    "print('data points for bottom 10000 most rated movies:',df_ratings_cnt[-10000:]['count'].sum())\n",
    "\n",
    "active_userId = df_ratings_cnt[:50]['userId'].values.tolist()\n",
    "inactive_userId = df_ratings_cnt[-10000:]['userId'].values.tolist()\n",
    "active_user_df = df[df['userId'].isin(active_userId)]\n",
    "inactive_user_df = df[df['userId'].isin(inactive_userId)]\n",
    "\n",
    "print('number of active user:', len(active_user_df['userId'].unique()))\n",
    "print('number of movie:', len(active_user_df['movieId'].unique()))\n",
    "print('total data points for active movie:', len(active_user_df))\n",
    "\n",
    "print('number of inactive user:', len(inactive_user_df['userId'].unique()))\n",
    "print('number of movie:', len(inactive_user_df['movieId'].unique()))\n",
    "print('total data points for inactive movie:', len(inactive_user_df))\n",
    "\n",
    "dfs = {}\n",
    "dfs['active'] = active_user_df\n",
    "dfs['inactive'] = inactive_user_df"
   ]
  },
  {
   "cell_type": "code",
   "execution_count": 361,
   "metadata": {},
   "outputs": [
    {
     "name": "stdout",
     "output_type": "stream",
     "text": [
      "active\n",
      "ndcg testing: 0.4234760149621036\n",
      "Catalog Coverage: 1.0763799190562302%\n",
      "\n",
      "\n",
      "inactive\n",
      "ndcg testing: 0.8901972895550316\n",
      "Catalog Coverage: 92.68502581755594%\n",
      "\n",
      "\n"
     ]
    }
   ],
   "source": [
    "cols = ['userId','movieId','rating','predicted']\n",
    "test_data = []\n",
    "\n",
    "for item in dfs.keys():\n",
    "    \n",
    "    print(item)\n",
    "    data = Dataset.load_from_df(dfs[item][['userId', 'movieId', 'rating']], reader)\n",
    "    trainset, testset = s_train_test_split(data, test_size=.15)\n",
    "\n",
    "    test_pred = algo.test(testset)\n",
    "    \n",
    "    for i in range(len(test_pred)):\n",
    "        test_data.append([test_pred[i][0],test_pred[i][1],test_pred[i][2],test_pred[i][3]])\n",
    "        \n",
    "    testDF = pd.DataFrame(test_data, columns = cols).sort_values(by=['userId', 'predicted'])\n",
    "    test_ratings_dictionary = dict(testDF.set_index('userId').groupby(level = 0).apply(lambda x : x.to_dict(orient= 'records')))\n",
    "    \n",
    "    ndcg_test = ndcg_score(testDF)\n",
    "    print('ndcg testing:', ndcg_test)\n",
    "\n",
    "    totalMovies = []\n",
    "    for i in testset:\n",
    "        totalMovies.append(i[1])\n",
    "    totalMovies = set(totalMovies)\n",
    "    \n",
    "    calculate_catalog_coverage(test_ratings_dictionary, len(totalMovies))\n",
    "    \n",
    "    print('\\n')"
   ]
  },
  {
   "cell_type": "markdown",
   "metadata": {},
   "source": [
    "# 5. Conclusion <a class=\"anchor\" id=\"5\"></a>"
   ]
  },
  {
   "cell_type": "markdown",
   "metadata": {},
   "source": [
    "<mark> After seeing these results, what other design choices might you consider in order to have a more accurate or more useful model? </mark>\n",
    "\n",
    "<mark> How does your recommendation system meet your hypothetical objectives? Would you feel comfortable putting these solutions into production at a real company? What would be the potential watch outs? </mark>"
   ]
  },
  {
   "cell_type": "markdown",
   "metadata": {},
   "source": [
    "While both of our models scaled relatively well for our sample datasets, they might require offline and online phases to make it more scalable for real datasets. For example, if we were to use item-based CF to recommend items to users, it would be reasonable to calculate the similarity matrix (model training process) offline, and provide rating predictions offline. \n",
    "Overall, vanilla factorization and k-nearest neighbor item-based collaborative filtering achieved our initial objective to a certain extent. While the performance metrics (RMSE, NDCG, and coverage) were not as high as we expected (in cases when those metrics were high, e.g. high item coverage, this was partly caused by the sparsity of the data). Even though real-world datasets are extremely sparse and face cold start problems, by having a more scalable model with increased training and test set would improve both of our models significantly."
   ]
  }
 ],
 "metadata": {
  "kernelspec": {
   "display_name": "Python 3",
   "language": "python",
   "name": "python3"
  },
  "language_info": {
   "codemirror_mode": {
    "name": "ipython",
    "version": 3
   },
   "file_extension": ".py",
   "mimetype": "text/x-python",
   "name": "python",
   "nbconvert_exporter": "python",
   "pygments_lexer": "ipython3",
   "version": "3.7.3"
  }
 },
 "nbformat": 4,
 "nbformat_minor": 2
}
