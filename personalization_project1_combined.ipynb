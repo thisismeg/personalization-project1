{
 "cells": [
  {
   "cell_type": "code",
   "execution_count": 1,
   "metadata": {},
   "outputs": [],
   "source": [
    "from pyspark.mllib.recommendation import ALS\n",
    "from pyspark.sql import SparkSession\n",
    "from pyspark.sql import SQLContext\n",
    "from pyspark.ml.tuning import (CrossValidator, ParamGridBuilder)\n",
    "\n",
    "import pyspark.sql.functions as sql_func\n",
    "from pyspark.sql.types import *\n",
    "from pyspark.ml.recommendation import ALS, ALSModel\n",
    "from pyspark.context import SparkContext\n",
    "from pyspark.sql.session import SparkSession\n",
    "from pyspark.mllib.evaluation import RegressionMetrics, RankingMetrics\n",
    "from pyspark.ml.evaluation import RegressionEvaluator, BinaryClassificationEvaluator, MulticlassClassificationEvaluator\n",
    "from pyspark.sql.functions import col\n",
    "\n",
    "import matplotlib.pyplot as plt\n",
    "import datetime\n",
    "\n",
    "import pandas as pd\n",
    "import numpy as np\n",
    "from sklearn.model_selection import train_test_split\n",
    "from sklearn.metrics import mean_squared_error\n",
    "from sklearn.preprocessing import LabelBinarizer, MultiLabelBinarizer\n",
    "from sklearn.metrics import make_scorer\n",
    "from math import sqrt\n",
    "\n",
    "from collections import OrderedDict "
   ]
  },
  {
   "cell_type": "markdown",
   "metadata": {},
   "source": [
    "# IEOR 4571 - Personalization - Project 1\n",
    "#### Team members: Megala Kannan, Hojin Lee, Jung Ah Shin, Tiffany Zhu"
   ]
  },
  {
   "cell_type": "markdown",
   "metadata": {},
   "source": [
    "# TOC:\n",
    "* [1. Introduction](#1)\n",
    "* [2. Data Exploration](#2)\n",
    "* [3. Modeling](#3)\n",
    "    * [3.1 Baseline Model](#3-1)\n",
    "    * [3.2 Neighborhood-Based Collaborative Filtering](#3-2)\n",
    "        * [3.2.1 Tunning Hyperparameters](#3-2-1)\n",
    "    * [3.3 Model-Based Collaborative Filtering](#3-3)\n",
    "        * [3.3.1 Tunning Hyperparameters](#3-3-1)\n",
    "        * [3.3.2 Accuracy of ALS Model](#3-3-2)\n",
    "        * [3.3.3 Coverage of ALS Model](#3-3-3)\n",
    "* [4. Evaluation](#4)\n",
    "    * [4.1 Accuracy](#4-1)\n",
    "        * [4.1.1 RMSE](#4-1-1)\n",
    "        * [4.1.2 NDCG](#4-1-2)\n",
    "    * [4.2 Coverage](#4-2)\n",
    "    * [4.3 Changing Sample Size](#4-3)\n",
    "* [5. Conclusion](#5)\n"
   ]
  },
  {
   "cell_type": "markdown",
   "metadata": {},
   "source": [
    "# 1. Introduction <a class=\"anchor\" id=\"1\"></a>"
   ]
  },
  {
   "cell_type": "markdown",
   "metadata": {},
   "source": [
    "# 2. Data Exploration <a class=\"anchor\" id=\"2\"></a>"
   ]
  },
  {
   "cell_type": "code",
   "execution_count": null,
   "metadata": {},
   "outputs": [],
   "source": []
  },
  {
   "cell_type": "markdown",
   "metadata": {},
   "source": [
    "Sampling: remove most popular movies and least popular movies."
   ]
  },
  {
   "cell_type": "markdown",
   "metadata": {},
   "source": [
    "# 3. Modeling <a class=\"anchor\" id=\"3\"></a>"
   ]
  },
  {
   "cell_type": "markdown",
   "metadata": {},
   "source": [
    "## 3.1 Baseline Model <a class=\"anchor\" id=\"3-1\"></a>"
   ]
  },
  {
   "cell_type": "code",
   "execution_count": 2,
   "metadata": {},
   "outputs": [],
   "source": [
    "ratings_df = pd.read_csv('ratings.csv')\n",
    "percentages = [0.0001, 0.001, 0.01]"
   ]
  },
  {
   "cell_type": "code",
   "execution_count": 3,
   "metadata": {},
   "outputs": [],
   "source": [
    "# Baseline model: Use the average rating of a movie in the training set as a predicted rating in the test set.\n",
    "# If movie trying to predict in test set doesn't exist in training, give it 0 rating?\n",
    "\n",
    "def baseline_predictor(avg_ratings, X):\n",
    "    predictions = []\n",
    "    rated_movies = avg_ratings['movieId'].values\n",
    "    \n",
    "    for index, row in X.iterrows():\n",
    "        movieId = row['movieId']\n",
    "        if movieId in rated_movies:\n",
    "            predicted_rating = avg_ratings[avg_ratings['movieId'] == movieId]['rating']\n",
    "            predictions.append(float(predicted_rating))\n",
    "        else:\n",
    "            # TODO: should actually just remove this data point?\n",
    "            predictions.append(0)\n",
    "    \n",
    "    final_df = X.copy()\n",
    "    final_df['rating'] = predictions\n",
    "    return final_df"
   ]
  },
  {
   "cell_type": "code",
   "execution_count": 4,
   "metadata": {},
   "outputs": [],
   "source": [
    "def dcg_score(y_true, y_score, k=5):\n",
    "    order = np.argsort(y_score)[::-1]\n",
    "    y_true = np.take(y_true, order[:k])\n",
    "\n",
    "    gain = 2 ** y_true - 1\n",
    "\n",
    "    discounts = np.log2(np.arange(len(y_true)) + 2)\n",
    "    return np.sum(gain / discounts)\n",
    "\n",
    "def ndcg_score(ground_truth, predictions, k=5):\n",
    "    lb = LabelBinarizer()\n",
    "    lb.fit(range(len(predictions) + 1))\n",
    "    T = lb.transform(ground_truth)\n",
    "\n",
    "    scores = []\n",
    "\n",
    "    # Iterate over each y_true and compute the DCG score\n",
    "    for y_true, y_score in zip(T, predictions):\n",
    "        actual = dcg_score(y_true, y_score, k)\n",
    "        best = dcg_score(y_true, y_true, k)\n",
    "        score = float(actual) / float(best)\n",
    "        scores.append(score)\n",
    "\n",
    "    return np.mean(scores)\n",
    "\n",
    "def get_ratings_for_each_user(df, rating_col_name='rating'):\n",
    "    '''\n",
    "    returns list of ratings for each user\n",
    "    '''\n",
    "    user_to_rating_dict = OrderedDict()\n",
    "    relevent_per_user = []\n",
    "    \n",
    "    # predicted ratings per user\n",
    "    for index, row in df.iterrows():\n",
    "        userId = row['userId']\n",
    "        rating = row[rating_col_name]\n",
    "        if userId not in user_to_rating_dict:\n",
    "            user_to_rating_dict[userId] = [rating]\n",
    "        else:\n",
    "            user_to_rating_dict[userId].append(rating)\n",
    "            \n",
    "    # create the relevent list\n",
    "    for values in user_to_rating_dict.values():\n",
    "        values = list(values)\n",
    "        relevent_per_user.append(len(list(filter(lambda x: x>=3, values))))\n",
    "    \n",
    "    return list(user_to_rating_dict.values()), relevent_per_user"
   ]
  },
  {
   "cell_type": "code",
   "execution_count": 5,
   "metadata": {},
   "outputs": [],
   "source": [
    "# Use baseline model to predict\n",
    "\n",
    "baseline_rmses = []\n",
    "baseline_rmses_train = []\n",
    "baseline_ndcgs = []\n",
    "baseline_ndcgs_train = []\n",
    "\n",
    "for sample_percentage in percentages:\n",
    "    ratings_sample_df = ratings_df.sample(frac=sample_percentage, random_state=1)\n",
    "\n",
    "    X = ratings_sample_df.loc[:, ratings_sample_df.columns != 'rating']\n",
    "    y = ratings_sample_df.loc[:, ratings_sample_df.columns == 'rating']\n",
    "\n",
    "    X_train, X_test, y_train, y_test = train_test_split(X, y, test_size=0.2, random_state=42)\n",
    "\n",
    "    training_sample = X_train.copy()\n",
    "    training_sample['rating'] = y\n",
    "    avg_ratings = training_sample.groupby('movieId', as_index = False).mean()\n",
    "    \n",
    "    # test predictions\n",
    "    baseline_predicted_df = baseline_predictor(avg_ratings, X_test)\n",
    "    # train predictions\n",
    "    baseline_predicted_train_df = baseline_predictor(avg_ratings, X_train)\n",
    "    \n",
    "    # RMSE on test set\n",
    "    y_actual = y_test['rating']\n",
    "    y_predicted = baseline_predicted_df['rating']\n",
    "    baseline_rmse = sqrt(mean_squared_error(y_actual.tolist(), y_predicted.tolist()))\n",
    "    baseline_rmses.append(baseline_rmse)\n",
    "    \n",
    "    # RMSE on train set\n",
    "    y_actual_train = y_train['rating']\n",
    "    y_predicted_train = baseline_predicted_train_df['rating']\n",
    "    baseline_rmse_train = sqrt(mean_squared_error(y_actual_train.tolist(), y_predicted_train.tolist()))\n",
    "    baseline_rmses_train.append(baseline_rmse_train)\n",
    "    \n",
    "    # NDCG on test set\n",
    "    y_predicted_grouped, ground_truths = get_ratings_for_each_user(baseline_predicted_df)\n",
    "    baseline_ndcg = ndcg_score(ground_truth=ground_truths, predictions=y_predicted_grouped, k=2)\n",
    "    baseline_ndcgs.append(baseline_ndcg)\n",
    "    \n",
    "    # NDCG on train set\n",
    "    y_predicted_grouped, ground_truths = get_ratings_for_each_user(baseline_predicted_train_df)\n",
    "    baseline_ndcg_train = ndcg_score(ground_truth=ground_truths, predictions=y_predicted_grouped, k=2)\n",
    "    baseline_ndcgs_train.append(baseline_ndcg_train)"
   ]
  },
  {
   "cell_type": "markdown",
   "metadata": {},
   "source": [
    "### RMSE of Baseline Model"
   ]
  },
  {
   "cell_type": "code",
   "execution_count": 6,
   "metadata": {},
   "outputs": [
    {
     "data": {
      "text/plain": [
       "([2.621317357265236, 1.5268019095541008, 1.0578281382515096],\n",
       " [0.5612772203248192, 0.8036162073990519, 0.9109795036364889])"
      ]
     },
     "execution_count": 6,
     "metadata": {},
     "output_type": "execute_result"
    }
   ],
   "source": [
    "baseline_rmses, baseline_rmses_train"
   ]
  },
  {
   "cell_type": "markdown",
   "metadata": {},
   "source": [
    "### NDCG of Baseline Model"
   ]
  },
  {
   "cell_type": "code",
   "execution_count": 7,
   "metadata": {},
   "outputs": [
    {
     "data": {
      "text/plain": [
       "([0.558264306684059, 0.24578880515519028, 0.16365396179387082],\n",
       " [0.1871621108229913, 0.1594201877512688, 0.1486516548408536])"
      ]
     },
     "execution_count": 7,
     "metadata": {},
     "output_type": "execute_result"
    }
   ],
   "source": [
    "baseline_ndcgs, baseline_ndcgs_train"
   ]
  },
  {
   "cell_type": "markdown",
   "metadata": {},
   "source": [
    "## 3.2 Neighborhood-Based Collaborative Filtering <a class=\"anchor\" id=\"3-2\"></a>"
   ]
  },
  {
   "cell_type": "markdown",
   "metadata": {},
   "source": [
    "### 3.2.1 Tunning Hyperparameters <a class=\"anchor\" id=\"3-2-1\"></a>"
   ]
  },
  {
   "cell_type": "markdown",
   "metadata": {},
   "source": [
    "## 3.3 Model-Based Collaborative Filtering: Matrix Factorization Using PySpark's Alternating Least Squares (ALS) <a class=\"anchor\" id=\"3-3\"></a>"
   ]
  },
  {
   "cell_type": "markdown",
   "metadata": {},
   "source": [
    "We use the Alternating Least Square (ALS) model in PySpark with the same samples we used for the baseline model and the neighborhood-based model."
   ]
  },
  {
   "cell_type": "code",
   "execution_count": 8,
   "metadata": {},
   "outputs": [],
   "source": [
    "#Spark Session\n",
    "spark =SparkSession.builder.appName('ALS').getOrCreate()\n",
    "sc = spark.sparkContext\n",
    "sqlContext = SQLContext(sc)\n",
    "\n",
    "# Load ratings data into PySpark dataframe\n",
    "data_schema = StructType([\n",
    "    StructField('userId',IntegerType(), False),\n",
    "    StructField('movieId',IntegerType(), False),\n",
    "    StructField('rating',FloatType(), False)])\n",
    "\n",
    "movie_ratings = spark.read.csv('ratings.csv', \n",
    "                               header=True, schema=data_schema).cache()"
   ]
  },
  {
   "cell_type": "code",
   "execution_count": 9,
   "metadata": {},
   "outputs": [
    {
     "name": "stdout",
     "output_type": "stream",
     "text": [
      "+------+-------+------+\n",
      "|userId|movieId|rating|\n",
      "+------+-------+------+\n",
      "|     1|      2|   3.5|\n",
      "|     1|     29|   3.5|\n",
      "|     1|     32|   3.5|\n",
      "|     1|     47|   3.5|\n",
      "|     1|     50|   3.5|\n",
      "+------+-------+------+\n",
      "only showing top 5 rows\n",
      "\n"
     ]
    }
   ],
   "source": [
    "movie_ratings.show(5)"
   ]
  },
  {
   "cell_type": "markdown",
   "metadata": {},
   "source": [
    "## !!! SPARK DF from PANDA DF"
   ]
  },
  {
   "cell_type": "code",
   "execution_count": 10,
   "metadata": {},
   "outputs": [
    {
     "name": "stdout",
     "output_type": "stream",
     "text": [
      "+------+-------+------+\n",
      "|userId|movieId|rating|\n",
      "+------+-------+------+\n",
      "| 49103|   2476|   2.0|\n",
      "|118265|   3760|   4.0|\n",
      "| 99231|    481|   3.0|\n",
      "|  7021|    208|   3.0|\n",
      "| 76354|   2391|   3.0|\n",
      "+------+-------+------+\n",
      "only showing top 5 rows\n",
      "\n"
     ]
    }
   ],
   "source": [
    "# Create Spark DF from Pandas DF\n",
    "X_train2 = X_train.iloc[:, X_train.columns != 'timestamp']\n",
    "X_train2['rating'] = y_train\n",
    "X_train_spark = spark.createDataFrame(X_train2, schema=data_schema)\n",
    "X_train_spark.show(5)"
   ]
  },
  {
   "cell_type": "markdown",
   "metadata": {},
   "source": [
    "# CONTINUING ON..."
   ]
  },
  {
   "cell_type": "code",
   "execution_count": 11,
   "metadata": {},
   "outputs": [
    {
     "data": {
      "text/plain": [
       "(138493, 26744)"
      ]
     },
     "execution_count": 11,
     "metadata": {},
     "output_type": "execute_result"
    }
   ],
   "source": [
    "user_count = movie_ratings.select('userID').distinct().count()\n",
    "movie_count = movie_ratings.select('movieID').distinct().count()\n",
    "user_count, movie_count"
   ]
  },
  {
   "cell_type": "code",
   "execution_count": 12,
   "metadata": {},
   "outputs": [],
   "source": [
    "# ALS model without tunning parameters\n",
    "als = ALS(maxIter=5, userCol=\"userId\", itemCol=\"movieId\", ratingCol=\"rating\",\n",
    "          coldStartStrategy=\"drop\", nonnegative= True)"
   ]
  },
  {
   "cell_type": "code",
   "execution_count": 13,
   "metadata": {},
   "outputs": [],
   "source": [
    "def sample_x_percent(sample_percentage):\n",
    "    subset_ratings = movie_ratings.sample(False, sample_percentage, 42)\n",
    "    (training, test) = subset_ratings.randomSplit([0.8, 0.2])\n",
    "    return training, test\n",
    "\n",
    "# training, test = sample_x_percent(sample_percentage)\n",
    "# user_tr_sample_count = training.select('userID').distinct().count()\n",
    "# movie_tr_sample_count = training.select('movieID').distinct().count()\n",
    "# user_tr_sample_count, movie_tr_sample_count"
   ]
  },
  {
   "cell_type": "markdown",
   "metadata": {},
   "source": [
    "### Different Sample Sizes"
   ]
  },
  {
   "cell_type": "code",
   "execution_count": 14,
   "metadata": {},
   "outputs": [],
   "source": [
    "all_training_sets = []\n",
    "all_test_sets = []\n",
    "for percentage in percentages:\n",
    "    trn, tst = sample_x_percent(sample_percentage)\n",
    "    all_training_sets.append(trn)\n",
    "    all_test_sets.append(tst)\n",
    "\n",
    "training_1, training_2, training_3 = all_training_sets\n",
    "test_1, test_2, test_3 = all_test_sets"
   ]
  },
  {
   "cell_type": "markdown",
   "metadata": {},
   "source": [
    "### 3.3.1 Tunning Hyperparameters <a class=\"anchor\" id=\"3-3-1\"></a>\n",
    "\n",
    "There are 3 hyperparameters to tune. First, we will tune `rank`, then `regParam`, and then `iter`. We use RSME to tune our parameters and cross validation with 3 folds. We do this on our traning set."
   ]
  },
  {
   "cell_type": "code",
   "execution_count": 15,
   "metadata": {},
   "outputs": [],
   "source": [
    "def tune_parameter(cv_func, paramGrid, percentages, all_training_sets):\n",
    "    \n",
    "    training_times = []\n",
    "    cvModels = []\n",
    "    results = []\n",
    "\n",
    "    for i in range(len(percentages)):\n",
    "        start_1 = datetime.datetime.now()\n",
    "        cvModel = cv_func.fit(all_training_sets[i])\n",
    "        end_1 = datetime.datetime.now()\n",
    "\n",
    "        cvModels.append(cvModel)\n",
    "        training_times.append(str(end_1 - start_1))\n",
    "        results.append(list(zip(cvModel.avgMetrics, paramGrid)))\n",
    "\n",
    "        print(str(end_1 - start_1))\n",
    "    \n",
    "    return training_times, cvModels, results\n",
    "    "
   ]
  },
  {
   "cell_type": "code",
   "execution_count": 16,
   "metadata": {},
   "outputs": [],
   "source": [
    "def plot_rmse_vs_param(cvModels, param_list, xlabel):\n",
    "    plt.figure(figsize=(10, 6))\n",
    "    for cvModel in cvModels: \n",
    "        plt.plot(param_list, cvModel.avgMetrics)\n",
    "\n",
    "    plt.xlabel(xlabel)\n",
    "    plt.ylabel('RMSE')\n",
    "    plt.title('RMSE vs {} by Sample Size'.format(xlabel))\n",
    "    plt.legend(['{}% Sample'.format(p) for p in percentages])\n",
    "    plt.grid(True)\n",
    "    plt.show()"
   ]
  },
  {
   "cell_type": "markdown",
   "metadata": {},
   "source": [
    "####  Tunning Rank"
   ]
  },
  {
   "cell_type": "code",
   "execution_count": 17,
   "metadata": {},
   "outputs": [
    {
     "name": "stdout",
     "output_type": "stream",
     "text": [
      "0:02:28.192795\n",
      "0:02:16.764969\n",
      "0:02:32.941755\n"
     ]
    }
   ],
   "source": [
    "# tunning rank\n",
    "rank_list = [5, 10, 20]\n",
    "paramGrid = (ParamGridBuilder().addGrid(als.rank, rank_list).build())\n",
    "\n",
    "crossval = CrossValidator(estimator=als,\n",
    "                          estimatorParamMaps=paramGrid,\n",
    "                          evaluator=RegressionEvaluator(metricName=\"rmse\",\n",
    "                                                        labelCol=\"rating\"),\n",
    "                          numFolds=3)\n",
    "\n",
    "training_times, cvModels, results = tune_parameter(crossval, paramGrid, percentages, all_training_sets)"
   ]
  },
  {
   "cell_type": "markdown",
   "metadata": {},
   "source": [
    "It took similar times to tune the rank for each sample size."
   ]
  },
  {
   "cell_type": "code",
   "execution_count": 18,
   "metadata": {},
   "outputs": [
    {
     "data": {
      "image/png": "[encoded data removed]",
      "text/plain": [
       "<Figure size 720x432 with 1 Axes>"
      ]
     },
     "metadata": {
      "needs_background": "light"
     },
     "output_type": "display_data"
    }
   ],
   "source": [
    "plot_rmse_vs_param(cvModels, rank_list, 'Rank')"
   ]
  },
  {
   "cell_type": "code",
   "execution_count": 19,
   "metadata": {},
   "outputs": [],
   "source": [
    "best_rank=5"
   ]
  },
  {
   "cell_type": "markdown",
   "metadata": {},
   "source": [
    "#### Tunning Regularization Parameter"
   ]
  },
  {
   "cell_type": "code",
   "execution_count": 20,
   "metadata": {},
   "outputs": [
    {
     "name": "stdout",
     "output_type": "stream",
     "text": [
      "0:02:56.114001\n",
      "0:02:36.480402\n",
      "0:02:43.287047\n"
     ]
    }
   ],
   "source": [
    "reg_list = [0.001, 0.05, 0.1, 0.2]\n",
    "\n",
    "# Use the best rank found above\n",
    "als= ALS(maxIter=5, rank=best_rank, userCol=\"userId\", itemCol=\"movieId\", ratingCol=\"rating\",\n",
    "          coldStartStrategy=\"drop\", nonnegative= True)\n",
    "\n",
    "paramGrid_2 = ParamGridBuilder().addGrid(als.regParam, reg_list).build()\n",
    "\n",
    "crossval_2 = CrossValidator(estimator=als,\n",
    "                          estimatorParamMaps=paramGrid_2,\n",
    "                          evaluator=RegressionEvaluator(metricName=\"rmse\",\n",
    "                                                        labelCol=\"rating\"),\n",
    "                          numFolds=3)\n",
    "\n",
    "\n",
    "training_times2, cvModels2, results2 = tune_parameter(crossval_2, paramGrid_2, percentages, all_training_sets)"
   ]
  },
  {
   "cell_type": "code",
   "execution_count": 21,
   "metadata": {},
   "outputs": [
    {
     "data": {
      "image/png": "[encoded data removed]",
      "text/plain": [
       "<Figure size 720x432 with 1 Axes>"
      ]
     },
     "metadata": {
      "needs_background": "light"
     },
     "output_type": "display_data"
    }
   ],
   "source": [
    "plot_rmse_vs_param(cvModels2, reg_list, 'regParam')"
   ]
  },
  {
   "cell_type": "code",
   "execution_count": 22,
   "metadata": {},
   "outputs": [],
   "source": [
    "best_reg = 0.2"
   ]
  },
  {
   "cell_type": "markdown",
   "metadata": {},
   "source": [
    "#### Tunning Number of Iterations -- DON'T THINK NEED TO TUNE?"
   ]
  },
  {
   "cell_type": "code",
   "execution_count": 23,
   "metadata": {},
   "outputs": [
    {
     "name": "stdout",
     "output_type": "stream",
     "text": [
      "0:03:03.231646\n",
      "0:02:58.803813\n",
      "0:03:16.252643\n"
     ]
    }
   ],
   "source": [
    "iter_list = list(range(5,25,5))\n",
    "\n",
    "# Use the best rank and best regParam found above\n",
    "als= ALS(rank=best_rank, regParam=best_reg, userCol=\"userId\", itemCol=\"movieId\", ratingCol=\"rating\",\n",
    "          coldStartStrategy=\"drop\", nonnegative= True)\n",
    "                 \n",
    "paramGrid_3 = ParamGridBuilder().addGrid(als.maxIter, iter_list).build()\n",
    "\n",
    "crossval_3 = CrossValidator(estimator=als,\n",
    "                          estimatorParamMaps=paramGrid_2,\n",
    "                          evaluator=RegressionEvaluator(metricName=\"rmse\",\n",
    "                                                        labelCol=\"rating\"),\n",
    "                          numFolds=3)\n",
    "\n",
    "\n",
    "training_times3, cvModels3, results3 = tune_parameter(crossval_3, paramGrid_3, percentages, all_training_sets)"
   ]
  },
  {
   "cell_type": "code",
   "execution_count": 24,
   "metadata": {},
   "outputs": [
    {
     "data": {
      "image/png": "[encoded data removed]",
      "text/plain": [
       "<Figure size 720x432 with 1 Axes>"
      ]
     },
     "metadata": {
      "needs_background": "light"
     },
     "output_type": "display_data"
    }
   ],
   "source": [
    "plot_rmse_vs_param(cvModels3, iter_list, 'maxIter')"
   ]
  },
  {
   "cell_type": "code",
   "execution_count": 25,
   "metadata": {},
   "outputs": [],
   "source": [
    "best_iter = 10 # default"
   ]
  },
  {
   "cell_type": "markdown",
   "metadata": {},
   "source": [
    "### 3.3.2 Accuracy of ALS Model <a class=\"anchor\" id=\"3-3-2\"></a>"
   ]
  },
  {
   "cell_type": "markdown",
   "metadata": {},
   "source": [
    "### RSME \n",
    "\n",
    "training: with best rank, best reg, best iter"
   ]
  },
  {
   "cell_type": "code",
   "execution_count": 26,
   "metadata": {},
   "outputs": [
    {
     "data": {
      "text/plain": [
       "[1.2851824836740715, 1.2836687867012728, 1.2904102158761792]"
      ]
     },
     "execution_count": 26,
     "metadata": {},
     "output_type": "execute_result"
    }
   ],
   "source": [
    "best_als_rmses_train = []\n",
    "for cv in cvModels3:\n",
    "    best_als_rmses_train.append(min(cv.avgMetrics))\n",
    "\n",
    "best_als_rmses_train"
   ]
  },
  {
   "cell_type": "markdown",
   "metadata": {},
   "source": [
    "test: using the tunned params"
   ]
  },
  {
   "cell_type": "code",
   "execution_count": 28,
   "metadata": {},
   "outputs": [],
   "source": [
    "best_als_models = []\n",
    "best_predictions_test = []\n",
    "best_predictions_train = []\n",
    "best_als_rmses = []\n",
    "\n",
    "evaluator = RegressionEvaluator(metricName=\"rmse\", labelCol=\"rating\",\n",
    "                                predictionCol=\"prediction\")\n",
    "\n",
    "for i in range(len(percentages)):\n",
    "    best_als= ALS(rank=best_rank, regParam=best_reg, maxIter=best_iter, userCol=\"userId\", \n",
    "                  itemCol=\"movieId\", ratingCol=\"rating\", coldStartStrategy=\"drop\", nonnegative= True)\n",
    "\n",
    "    best_als_model = als.fit(all_training_sets[i])\n",
    "    als_predictions_test = best_als_model.transform(all_test_sets[i])\n",
    "    als_predictions_train = best_als_model.transform(all_training_sets[i])\n",
    "    rmse = evaluator.evaluate(als_predictions_test)\n",
    "        \n",
    "    best_als_models.append(best_als_model)\n",
    "    best_predictions_test.append(als_predictions_test)\n",
    "    best_predictions_train.append(als_predictions_train)\n",
    "    best_als_rmses.append(rmse)"
   ]
  },
  {
   "cell_type": "code",
   "execution_count": 29,
   "metadata": {},
   "outputs": [
    {
     "data": {
      "text/plain": [
       "[1.1975945250181295, 1.215503317919368, 1.205372350935782]"
      ]
     },
     "execution_count": 29,
     "metadata": {},
     "output_type": "execute_result"
    }
   ],
   "source": [
    "best_als_rmses"
   ]
  },
  {
   "cell_type": "markdown",
   "metadata": {},
   "source": [
    "### NDCG"
   ]
  },
  {
   "cell_type": "code",
   "execution_count": 30,
   "metadata": {},
   "outputs": [
    {
     "data": {
      "text/plain": [
       "[DataFrame[userId: int, movieId: int, rating: float, prediction: float],\n",
       " DataFrame[userId: int, movieId: int, rating: float, prediction: float],\n",
       " DataFrame[userId: int, movieId: int, rating: float, prediction: float]]"
      ]
     },
     "execution_count": 30,
     "metadata": {},
     "output_type": "execute_result"
    }
   ],
   "source": [
    "best_predictions_test"
   ]
  },
  {
   "cell_type": "code",
   "execution_count": 31,
   "metadata": {},
   "outputs": [
    {
     "data": {
      "text/plain": [
       "[DataFrame[userId: int, movieId: int, rating: float, prediction: float],\n",
       " DataFrame[userId: int, movieId: int, rating: float, prediction: float],\n",
       " DataFrame[userId: int, movieId: int, rating: float, prediction: float]]"
      ]
     },
     "execution_count": 31,
     "metadata": {},
     "output_type": "execute_result"
    }
   ],
   "source": [
    "best_predictions_train"
   ]
  },
  {
   "cell_type": "code",
   "execution_count": 32,
   "metadata": {},
   "outputs": [],
   "source": [
    "# convert pyspark df to pandas df\n",
    "\n",
    "als_predicted_test_dfs = []  # pandas DF\n",
    "als_predicted_train_dfs = []  # pandas DF\n",
    "als_test_ndcgs = []\n",
    "als_train_ndcgs = []\n",
    "\n",
    "for (best_prediction_test, best_prediction_train) in zip(best_predictions_test, best_predictions_train):\n",
    "    # convert test predictions to pandas df\n",
    "    als_predicted_test_df = best_prediction_test.toPandas()\n",
    "    als_predicted_test_dfs.append(als_predicted_test_df)\n",
    "    \n",
    "    # convert train predictions to pandas df\n",
    "    als_predicted_train_df = best_prediction_train.toPandas()\n",
    "    als_predicted_train_dfs.append(als_predicted_train_df)\n",
    "    \n",
    "    # ndcg calculation for test predictions\n",
    "    y_predicted_grouped, ground_truths = get_ratings_for_each_user(als_predicted_test_df, rating_col_name='prediction')  \n",
    "    als_ndcg = ndcg_score(ground_truth=ground_truths, predictions=y_predicted_grouped, k=2)\n",
    "    als_test_ndcgs.append(als_ndcg)\n",
    "    \n",
    "    # ndcg calculation for train predictions\n",
    "    y_predicted_grouped, ground_truths = get_ratings_for_each_user(als_predicted_train_df, rating_col_name='prediction')  \n",
    "    als_ndcg_train = ndcg_score(ground_truth=ground_truths, predictions=y_predicted_grouped, k=2)\n",
    "    als_train_ndcgs.append(als_ndcg_train)\n"
   ]
  },
  {
   "cell_type": "code",
   "execution_count": 33,
   "metadata": {},
   "outputs": [
    {
     "data": {
      "text/plain": [
       "([0.4758525597655067, 0.4821906001221073, 0.48059521600326477],\n",
       " [0.3291251941876072, 0.3293691141956969, 0.33004223311159686])"
      ]
     },
     "execution_count": 33,
     "metadata": {},
     "output_type": "execute_result"
    }
   ],
   "source": [
    "als_test_ndcgs, als_train_ndcgs"
   ]
  },
  {
   "cell_type": "markdown",
   "metadata": {},
   "source": [
    "### 3.3.3 Coverage of ALS Model <a class=\"anchor\" id=\"3-3-3\"></a>"
   ]
  },
  {
   "cell_type": "code",
   "execution_count": 35,
   "metadata": {},
   "outputs": [
    {
     "name": "stdout",
     "output_type": "stream",
     "text": [
      "Item Coverage (0.0001% sample): 2.8e+01%\n",
      "Item Coverage (0.001% sample): 2.8e+01%\n",
      "Item Coverage (0.01% sample): 2.8e+01%\n"
     ]
    }
   ],
   "source": [
    "k = 5\n",
    "\n",
    "for i in range(len(best_predictions_test)):\n",
    "    prediction = best_predictions_test[i]\n",
    "    percentage = percentages[i]\n",
    "    predictions_grouped_by_movieIds = prediction.groupby(['movieId'])\n",
    "    pred_df = predictions_grouped_by_movieIds.agg(sql_func.count(col('userId')))\n",
    "    pred_df2 = pred_df.filter(pred_df['count(userId)'] >= k)\n",
    "    n_movie = pred_df2.count()\n",
    "\n",
    "    potential_recommended_movies = all_test_sets[i].select(\"movieId\").distinct()\n",
    "    N_movie = potential_recommended_movies.count()\n",
    "\n",
    "    print('Item Coverage ({0:.4}% sample): {1:.2}%'.format(percentage, (n_movie/N_movie) * 100))"
   ]
  },
  {
   "cell_type": "code",
   "execution_count": 36,
   "metadata": {},
   "outputs": [
    {
     "name": "stdout",
     "output_type": "stream",
     "text": [
      "User Coverage: (0.0001% sample): 8.4%\n",
      "User Coverage: (0.001% sample): 8.2%\n",
      "User Coverage: (0.01% sample): 8.2%\n"
     ]
    }
   ],
   "source": [
    "k = 3\n",
    "for i in range(len(best_predictions_test)):\n",
    "    prediction = best_predictions_test[i]\n",
    "    percentage = percentages[i]\n",
    "    predictions_grouped_by_userIds = prediction.groupby(['userId'])\n",
    "    pred_df = predictions_grouped_by_userIds.agg(sql_func.count(col('movieId')))\n",
    "    pred_df2 = pred_df.filter(pred_df['count(movieId)'] >= k)\n",
    "    n_user = pred_df2.count()\n",
    "\n",
    "    potential_recommended_users = all_test_sets[i].select(\"userId\").distinct()\n",
    "    N_user = potential_recommended_users.count()\n",
    "\n",
    "    print('User Coverage: ({0:.4}% sample): {1:.2}%'.format(percentage, (n_user/N_user) * 100))"
   ]
  },
  {
   "cell_type": "markdown",
   "metadata": {},
   "source": [
    "# 4. Evaluation <a class=\"anchor\" id=\"4\"></a>"
   ]
  },
  {
   "cell_type": "markdown",
   "metadata": {},
   "source": [
    "## 4.1 Accuracy <a class=\"anchor\" id=\"4-1\"></a>"
   ]
  },
  {
   "cell_type": "markdown",
   "metadata": {},
   "source": [
    "### 4.1.1 RMSE <a class=\"anchor\" id=\"4-1-1\"></a>"
   ]
  },
  {
   "cell_type": "code",
   "execution_count": 37,
   "metadata": {},
   "outputs": [
    {
     "data": {
      "image/png": "[encoded data removed]",
      "text/plain": [
       "<Figure size 720x432 with 1 Axes>"
      ]
     },
     "metadata": {
      "needs_background": "light"
     },
     "output_type": "display_data"
    }
   ],
   "source": [
    "baseline_rmses, baseline_rmses_train\n",
    "best_als_rmses, best_als_rmses_train\n",
    "\n",
    "plt.figure(figsize=(10, 6))\n",
    "plt.plot(percentages, baseline_rmses)\n",
    "# add neighborhood based model\n",
    "plt.plot(percentages, best_als_rmses)\n",
    "\n",
    "plt.xlabel('sampling percentage')\n",
    "plt.ylabel('RMSE')\n",
    "plt.title('RMSE Test vs Sample Size')\n",
    "plt.legend(['Baseline Model', 'ALS'])\n",
    "plt.grid(True)\n",
    "plt.show()"
   ]
  },
  {
   "cell_type": "markdown",
   "metadata": {},
   "source": [
    "### 4.1.2 NDCG <a class=\"anchor\" id=\"4-1-2\"></a>"
   ]
  },
  {
   "cell_type": "code",
   "execution_count": 38,
   "metadata": {},
   "outputs": [
    {
     "data": {
      "image/png": "[encoded data removed]",
      "text/plain": [
       "<Figure size 720x432 with 1 Axes>"
      ]
     },
     "metadata": {
      "needs_background": "light"
     },
     "output_type": "display_data"
    }
   ],
   "source": [
    "baseline_ndcgs, baseline_ndcgs_train\n",
    "als_test_ndcgs, als_train_ndcgs\n",
    "\n",
    "plt.figure(figsize=(10, 6))\n",
    "plt.plot(percentages, baseline_ndcgs)\n",
    "# add neighborhood based model\n",
    "plt.plot(percentages, als_test_ndcgs)\n",
    "\n",
    "plt.xlabel('sampling percentage')\n",
    "plt.ylabel('NDCG')\n",
    "plt.title('NDCG Test vs Sample Size')\n",
    "plt.legend(['Baseline Model', 'ALS'])\n",
    "plt.grid(True)\n",
    "plt.show()"
   ]
  },
  {
   "cell_type": "markdown",
   "metadata": {},
   "source": [
    "## 4.2 Coverage <a class=\"anchor\" id=\"4-2\"></a>"
   ]
  },
  {
   "cell_type": "markdown",
   "metadata": {},
   "source": [
    "## 4.3 Changing Sample Size <a class=\"anchor\" id=\"4-3\"></a>"
   ]
  },
  {
   "cell_type": "markdown",
   "metadata": {},
   "source": [
    "# 5. Conclusion <a class=\"anchor\" id=\"5\"></a>"
   ]
  },
  {
   "cell_type": "code",
   "execution_count": null,
   "metadata": {},
   "outputs": [],
   "source": [
    "# # Generate top 10 movie recommendations for each user\n",
    "# userRecs = model.recommendForAllUsers(10)\n",
    "# # Generate top 10 user recommendations for each movie\n",
    "# movieRecs = model.recommendForAllItems(10)"
   ]
  }
 ],
 "metadata": {
  "kernelspec": {
   "display_name": "Python 3",
   "language": "python",
   "name": "python3"
  },
  "language_info": {
   "codemirror_mode": {
    "name": "ipython",
    "version": 3
   },
   "file_extension": ".py",
   "mimetype": "text/x-python",
   "name": "python",
   "nbconvert_exporter": "python",
   "pygments_lexer": "ipython3",
   "version": "3.7.3"
  }
 },
 "nbformat": 4,
 "nbformat_minor": 2
}
