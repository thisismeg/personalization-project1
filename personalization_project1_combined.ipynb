{
 "cells": [
  {
   "cell_type": "code",
   "execution_count": 136,
   "metadata": {},
   "outputs": [],
   "source": [
    "from __future__ import (absolute_import, division, print_function,\n",
    "                        unicode_literals)\n",
    "\n",
    "from surprise import KNNWithMeans\n",
    "from surprise import Dataset\n",
    "from surprise import accuracy\n",
    "from surprise.model_selection import train_test_split as s_train_test_split\n",
    "from surprise.model_selection import KFold\n",
    "from surprise import Reader\n",
    "\n",
    "from pyspark.mllib.recommendation import ALS\n",
    "from pyspark.sql import SparkSession\n",
    "from pyspark.sql import SQLContext\n",
    "from pyspark.ml.tuning import (CrossValidator, ParamGridBuilder)\n",
    "\n",
    "import pyspark.sql.functions as sql_func\n",
    "from pyspark.sql.types import *\n",
    "from pyspark.ml.recommendation import ALS, ALSModel\n",
    "from pyspark.context import SparkContext\n",
    "from pyspark.sql.session import SparkSession\n",
    "from pyspark.mllib.evaluation import RegressionMetrics, RankingMetrics\n",
    "from pyspark.ml.evaluation import RegressionEvaluator, BinaryClassificationEvaluator, MulticlassClassificationEvaluator\n",
    "from pyspark.sql.functions import col\n",
    "\n",
    "import matplotlib.pyplot as plt\n",
    "import datetime\n",
    "\n",
    "import pandas as pd\n",
    "import numpy as np\n",
    "from sklearn.model_selection import train_test_split\n",
    "from sklearn.metrics import mean_squared_error\n",
    "from sklearn.preprocessing import LabelBinarizer, MultiLabelBinarizer\n",
    "from sklearn.metrics import make_scorer\n",
    "from math import sqrt\n",
    "\n",
    "from collections import OrderedDict "
   ]
  },
  {
   "cell_type": "markdown",
   "metadata": {},
   "source": [
    "# IEOR 4571 - Personalization - Project 1\n",
    "\n",
    "#### Team members: \n",
    "Name, UNI/email, Github ID\n",
    "* Megala Kannan, msk2245@columbia.edu, thisismeg\n",
    "* Hojin Lee, hl3328@columbia.edu, hjlee9295\n",
    "* Jung Ah Shin, js5569@columbia.edu, juliajungahshin\n",
    "* Tiffany Zhu, tz2196@columbia.edu, tlzhu19\n"
   ]
  },
  {
   "cell_type": "markdown",
   "metadata": {},
   "source": [
    "# TOC:\n",
    "* [1. Introduction](#1)\n",
    "* [2. Data Exploration](#2)\n",
    "* [3. Modeling](#3)\n",
    "    * [3.1 Baseline Model](#3-1)\n",
    "        * [3.1.1 Accuracy of Baseline Model](#3-1-1)\n",
    "        * [3.1.2 Coverage of Baseline Model](#3-1-2)\n",
    "    * [3.2 Neighborhood-Based Collaborative Filtering](#3-2)\n",
    "        * [3.2.1 Tunning Hyperparameters](#3-2-1)\n",
    "        * [3.2.2 Accuracy of KNN Means Model](#3-2-2)\n",
    "        * [3.2.3 Coverage of KNN Means Model](#3-2-3)\n",
    "    * [3.3 Model-Based Collaborative Filtering](#3-3)\n",
    "        * [3.3.1 Tunning Hyperparameters](#3-3-1)\n",
    "        * [3.3.2 Accuracy of ALS Model](#3-3-2)\n",
    "        * [3.3.3 Coverage of ALS Model](#3-3-3)\n",
    "* [4. Evaluation](#4)\n",
    "    * [4.1 Accuracy](#4-1)\n",
    "        * [4.1.1 RMSE](#4-1-1)\n",
    "        * [4.1.2 NDCG](#4-1-2)\n",
    "    * [4.2 Coverage](#4-2)\n",
    "    * [4.3 Changing Sample Size](#4-3)\n",
    "* [5. Conclusion](#5)\n"
   ]
  },
  {
   "cell_type": "markdown",
   "metadata": {},
   "source": [
    "# 1. Introduction <a class=\"anchor\" id=\"1\"></a>"
   ]
  },
  {
   "cell_type": "markdown",
   "metadata": {},
   "source": [
    "# 2. Data Exploration <a class=\"anchor\" id=\"2\"></a>"
   ]
  },
  {
   "cell_type": "markdown",
   "metadata": {},
   "source": [
    "1) Original data contains 138493 users and 26744 items (Approximately 20M ratings).\n",
    "\n",
    "   Original data only contains users that rated more than 20 items. \n",
    "2) In order to develop our Item-based CF model with a small data set (Approx. <10,000 users / <1,000 items), we sampled the data based on the following rationale and steps:\n",
    "    i) Remove ubiquitous items (e.g. top 0.5% most rated items across users) as well as items that have extremely few ratings (e.g. items rated only once). Recommending items that have been rated by majority of users are likely to be redundant and have less value in terms of novelty of the recommendation. Since we aim to provide item recommendations that the user might not have experienced yet, it seemed reasonable to remove top 0.5% of items that have been rated by many users. Regarding items that have extremely few ratings, these items would not contribute much in terms of item similarity, so we have decided to remove those user-item pairs with single ratings as well. \n",
    "\n",
    "Our goal is to provide movie recommendations based on items that...\n",
    "- ubiquitous: likely that most/many users would have already watched l                                              \n",
    "- few rating? : lack accuracy\n",
    "-middle ground \n",
    "\n",
    "3) Then, we sampled a small dataset\n",
    "\n",
    "\n",
    "(Recommendations cannot be made for cold start users/items)\n",
    "Common sampling approaches:\n",
    "- build the algorithm using only users/items with a minimum n interactions\n",
    "- leave out m items from each user row, or leave out n users from each user row"
   ]
  },
  {
   "cell_type": "code",
   "execution_count": 3,
   "metadata": {},
   "outputs": [],
   "source": [
    "ratings_df = pd.read_csv('ratings.csv')"
   ]
  },
  {
   "cell_type": "code",
   "execution_count": 4,
   "metadata": {},
   "outputs": [
    {
     "data": {
      "text/html": [
       "<div>\n",
       "<style scoped>\n",
       "    .dataframe tbody tr th:only-of-type {\n",
       "        vertical-align: middle;\n",
       "    }\n",
       "\n",
       "    .dataframe tbody tr th {\n",
       "        vertical-align: top;\n",
       "    }\n",
       "\n",
       "    .dataframe thead th {\n",
       "        text-align: right;\n",
       "    }\n",
       "</style>\n",
       "<table border=\"1\" class=\"dataframe\">\n",
       "  <thead>\n",
       "    <tr style=\"text-align: right;\">\n",
       "      <th></th>\n",
       "      <th>userId</th>\n",
       "      <th>movieId</th>\n",
       "      <th>rating</th>\n",
       "      <th>timestamp</th>\n",
       "    </tr>\n",
       "  </thead>\n",
       "  <tbody>\n",
       "    <tr>\n",
       "      <th>0</th>\n",
       "      <td>1</td>\n",
       "      <td>2</td>\n",
       "      <td>3.5</td>\n",
       "      <td>1112486027</td>\n",
       "    </tr>\n",
       "    <tr>\n",
       "      <th>1</th>\n",
       "      <td>1</td>\n",
       "      <td>29</td>\n",
       "      <td>3.5</td>\n",
       "      <td>1112484676</td>\n",
       "    </tr>\n",
       "    <tr>\n",
       "      <th>2</th>\n",
       "      <td>1</td>\n",
       "      <td>32</td>\n",
       "      <td>3.5</td>\n",
       "      <td>1112484819</td>\n",
       "    </tr>\n",
       "    <tr>\n",
       "      <th>3</th>\n",
       "      <td>1</td>\n",
       "      <td>47</td>\n",
       "      <td>3.5</td>\n",
       "      <td>1112484727</td>\n",
       "    </tr>\n",
       "    <tr>\n",
       "      <th>4</th>\n",
       "      <td>1</td>\n",
       "      <td>50</td>\n",
       "      <td>3.5</td>\n",
       "      <td>1112484580</td>\n",
       "    </tr>\n",
       "  </tbody>\n",
       "</table>\n",
       "</div>"
      ],
      "text/plain": [
       "   userId  movieId  rating   timestamp\n",
       "0       1        2     3.5  1112486027\n",
       "1       1       29     3.5  1112484676\n",
       "2       1       32     3.5  1112484819\n",
       "3       1       47     3.5  1112484727\n",
       "4       1       50     3.5  1112484580"
      ]
     },
     "execution_count": 4,
     "metadata": {},
     "output_type": "execute_result"
    }
   ],
   "source": [
    "ratings_df.head()"
   ]
  },
  {
   "cell_type": "code",
   "execution_count": 5,
   "metadata": {},
   "outputs": [
    {
     "name": "stdout",
     "output_type": "stream",
     "text": [
      "138493 26744\n"
     ]
    }
   ],
   "source": [
    "userNum = len(ratings_df.userId.unique()) #138493 users\n",
    "itemNum = len(ratings_df.movieId.unique()) #26744 items\n",
    "\n",
    "print(userNum, itemNum)"
   ]
  },
  {
   "cell_type": "code",
   "execution_count": 6,
   "metadata": {},
   "outputs": [
    {
     "data": {
      "text/html": [
       "<div>\n",
       "<style scoped>\n",
       "    .dataframe tbody tr th:only-of-type {\n",
       "        vertical-align: middle;\n",
       "    }\n",
       "\n",
       "    .dataframe tbody tr th {\n",
       "        vertical-align: top;\n",
       "    }\n",
       "\n",
       "    .dataframe thead th {\n",
       "        text-align: right;\n",
       "    }\n",
       "</style>\n",
       "<table border=\"1\" class=\"dataframe\">\n",
       "  <thead>\n",
       "    <tr style=\"text-align: right;\">\n",
       "      <th></th>\n",
       "      <th>count</th>\n",
       "    </tr>\n",
       "  </thead>\n",
       "  <tbody>\n",
       "    <tr>\n",
       "      <th>count</th>\n",
       "      <td>26744.000000</td>\n",
       "    </tr>\n",
       "    <tr>\n",
       "      <th>mean</th>\n",
       "      <td>747.841123</td>\n",
       "    </tr>\n",
       "    <tr>\n",
       "      <th>std</th>\n",
       "      <td>3085.818268</td>\n",
       "    </tr>\n",
       "    <tr>\n",
       "      <th>min</th>\n",
       "      <td>1.000000</td>\n",
       "    </tr>\n",
       "    <tr>\n",
       "      <th>25%</th>\n",
       "      <td>3.000000</td>\n",
       "    </tr>\n",
       "    <tr>\n",
       "      <th>50%</th>\n",
       "      <td>18.000000</td>\n",
       "    </tr>\n",
       "    <tr>\n",
       "      <th>75%</th>\n",
       "      <td>205.000000</td>\n",
       "    </tr>\n",
       "    <tr>\n",
       "      <th>max</th>\n",
       "      <td>67310.000000</td>\n",
       "    </tr>\n",
       "  </tbody>\n",
       "</table>\n",
       "</div>"
      ],
      "text/plain": [
       "              count\n",
       "count  26744.000000\n",
       "mean     747.841123\n",
       "std     3085.818268\n",
       "min        1.000000\n",
       "25%        3.000000\n",
       "50%       18.000000\n",
       "75%      205.000000\n",
       "max    67310.000000"
      ]
     },
     "execution_count": 6,
     "metadata": {},
     "output_type": "execute_result"
    }
   ],
   "source": [
    "df_item_summary = pd.DataFrame(ratings_df.groupby('movieId').size(), columns=['count'])\n",
    "df_item_summary.describe()"
   ]
  },
  {
   "cell_type": "markdown",
   "metadata": {},
   "source": [
    "We first need to check what percentage the top 0.5% most rated items constitute in terms of the entire rating data. Given our 20M rating dataset, the top 0.5% most rated items (ubiquitous) take up approximately 21.7% of the entire data. Therefore, the list top_05 would contain the item indices of top 0.5% most rated items, and one_item_idx would contain the list of items with only one rating. We will be removing user-item pairs based on these two lists."
   ]
  },
  {
   "cell_type": "code",
   "execution_count": 7,
   "metadata": {
    "scrolled": true
   },
   "outputs": [
    {
     "data": {
      "text/plain": [
       "count    0.217018\n",
       "dtype: float64"
      ]
     },
     "execution_count": 7,
     "metadata": {},
     "output_type": "execute_result"
    }
   ],
   "source": [
    "df_item_summary = df_item_summary.sort_values(by='count', ascending=False) \n",
    "top_rated_movies = df_item_summary.nlargest(int(len(df_item_summary)*0.005), 'count') \n",
    "top_rated_movies.sum()/df_item_summary.sum()"
   ]
  },
  {
   "cell_type": "code",
   "execution_count": 8,
   "metadata": {},
   "outputs": [
    {
     "name": "stdout",
     "output_type": "stream",
     "text": [
      "count    4340412\n",
      "dtype: int64\n"
     ]
    }
   ],
   "source": [
    "print(top_rated_movies.sum())"
   ]
  },
  {
   "cell_type": "code",
   "execution_count": 9,
   "metadata": {},
   "outputs": [
    {
     "data": {
      "image/png": "[encoded data removed]",
      "text/plain": [
       "<Figure size 432x288 with 1 Axes>"
      ]
     },
     "metadata": {
      "needs_background": "light"
     },
     "output_type": "display_data"
    }
   ],
   "source": [
    "plt.hist(top_rated_movies['count'])\n",
    "plt.show()"
   ]
  },
  {
   "cell_type": "markdown",
   "metadata": {},
   "source": [
    "So now we remove the top 0.5% movies and the movies that were only rated once."
   ]
  },
  {
   "cell_type": "code",
   "execution_count": 10,
   "metadata": {},
   "outputs": [
    {
     "name": "stdout",
     "output_type": "stream",
     "text": [
      "4105\n"
     ]
    },
    {
     "data": {
      "text/html": [
       "<div>\n",
       "<style scoped>\n",
       "    .dataframe tbody tr th:only-of-type {\n",
       "        vertical-align: middle;\n",
       "    }\n",
       "\n",
       "    .dataframe tbody tr th {\n",
       "        vertical-align: top;\n",
       "    }\n",
       "\n",
       "    .dataframe thead th {\n",
       "        text-align: right;\n",
       "    }\n",
       "</style>\n",
       "<table border=\"1\" class=\"dataframe\">\n",
       "  <thead>\n",
       "    <tr style=\"text-align: right;\">\n",
       "      <th></th>\n",
       "      <th>userId</th>\n",
       "      <th>movieId</th>\n",
       "      <th>rating</th>\n",
       "      <th>timestamp</th>\n",
       "    </tr>\n",
       "  </thead>\n",
       "  <tbody>\n",
       "    <tr>\n",
       "      <th>1</th>\n",
       "      <td>1</td>\n",
       "      <td>29</td>\n",
       "      <td>3.5</td>\n",
       "      <td>1112484676</td>\n",
       "    </tr>\n",
       "    <tr>\n",
       "      <th>5</th>\n",
       "      <td>1</td>\n",
       "      <td>112</td>\n",
       "      <td>3.5</td>\n",
       "      <td>1094785740</td>\n",
       "    </tr>\n",
       "    <tr>\n",
       "      <th>6</th>\n",
       "      <td>1</td>\n",
       "      <td>151</td>\n",
       "      <td>4.0</td>\n",
       "      <td>1094785734</td>\n",
       "    </tr>\n",
       "    <tr>\n",
       "      <th>13</th>\n",
       "      <td>1</td>\n",
       "      <td>337</td>\n",
       "      <td>3.5</td>\n",
       "      <td>1094785709</td>\n",
       "    </tr>\n",
       "    <tr>\n",
       "      <th>18</th>\n",
       "      <td>1</td>\n",
       "      <td>653</td>\n",
       "      <td>3.0</td>\n",
       "      <td>1094785691</td>\n",
       "    </tr>\n",
       "  </tbody>\n",
       "</table>\n",
       "</div>"
      ],
      "text/plain": [
       "    userId  movieId  rating   timestamp\n",
       "1        1       29     3.5  1112484676\n",
       "5        1      112     3.5  1094785740\n",
       "6        1      151     4.0  1094785734\n",
       "13       1      337     3.5  1094785709\n",
       "18       1      653     3.0  1094785691"
      ]
     },
     "execution_count": 10,
     "metadata": {},
     "output_type": "execute_result"
    }
   ],
   "source": [
    "top_05 = list(top_rated_movies.index.values) #133 items \n",
    "one_item_idx = df_item_summary[df_item_summary['count']==1].index.tolist() #3972\n",
    "remove_list = top_05 + one_item_idx #4105 items\n",
    "print(len(remove_list)) \n",
    "new_ratings_df = ratings_df[~ratings_df.movieId.isin(top_05)]\n",
    "new_ratings_df.head()"
   ]
  },
  {
   "cell_type": "code",
   "execution_count": 11,
   "metadata": {},
   "outputs": [
    {
     "name": "stdout",
     "output_type": "stream",
     "text": [
      "Number of users: 137542\n",
      "Number of movies: 26611 \n",
      "Total number rows: 15659851\n"
     ]
    },
    {
     "data": {
      "text/html": [
       "<div>\n",
       "<style scoped>\n",
       "    .dataframe tbody tr th:only-of-type {\n",
       "        vertical-align: middle;\n",
       "    }\n",
       "\n",
       "    .dataframe tbody tr th {\n",
       "        vertical-align: top;\n",
       "    }\n",
       "\n",
       "    .dataframe thead th {\n",
       "        text-align: right;\n",
       "    }\n",
       "</style>\n",
       "<table border=\"1\" class=\"dataframe\">\n",
       "  <thead>\n",
       "    <tr style=\"text-align: right;\">\n",
       "      <th></th>\n",
       "      <th>userId</th>\n",
       "      <th>movieId</th>\n",
       "      <th>rating</th>\n",
       "      <th>timestamp</th>\n",
       "    </tr>\n",
       "  </thead>\n",
       "  <tbody>\n",
       "    <tr>\n",
       "      <th>count</th>\n",
       "      <td>1.565985e+07</td>\n",
       "      <td>1.565985e+07</td>\n",
       "      <td>1.565985e+07</td>\n",
       "      <td>1.565985e+07</td>\n",
       "    </tr>\n",
       "    <tr>\n",
       "      <th>mean</th>\n",
       "      <td>6.901693e+04</td>\n",
       "      <td>1.117394e+04</td>\n",
       "      <td>3.445954e+00</td>\n",
       "      <td>1.110063e+09</td>\n",
       "    </tr>\n",
       "    <tr>\n",
       "      <th>std</th>\n",
       "      <td>4.004482e+04</td>\n",
       "      <td>2.187546e+04</td>\n",
       "      <td>1.057272e+00</td>\n",
       "      <td>1.585046e+08</td>\n",
       "    </tr>\n",
       "    <tr>\n",
       "      <th>min</th>\n",
       "      <td>1.000000e+00</td>\n",
       "      <td>3.000000e+00</td>\n",
       "      <td>5.000000e-01</td>\n",
       "      <td>7.896520e+08</td>\n",
       "    </tr>\n",
       "    <tr>\n",
       "      <th>25%</th>\n",
       "      <td>3.436200e+04</td>\n",
       "      <td>1.256000e+03</td>\n",
       "      <td>3.000000e+00</td>\n",
       "      <td>9.749575e+08</td>\n",
       "    </tr>\n",
       "    <tr>\n",
       "      <th>50%</th>\n",
       "      <td>6.908200e+04</td>\n",
       "      <td>2.712000e+03</td>\n",
       "      <td>3.500000e+00</td>\n",
       "      <td>1.108593e+09</td>\n",
       "    </tr>\n",
       "    <tr>\n",
       "      <th>75%</th>\n",
       "      <td>1.036000e+05</td>\n",
       "      <td>5.773000e+03</td>\n",
       "      <td>4.000000e+00</td>\n",
       "      <td>1.231299e+09</td>\n",
       "    </tr>\n",
       "    <tr>\n",
       "      <th>max</th>\n",
       "      <td>1.384930e+05</td>\n",
       "      <td>1.312620e+05</td>\n",
       "      <td>5.000000e+00</td>\n",
       "      <td>1.427784e+09</td>\n",
       "    </tr>\n",
       "  </tbody>\n",
       "</table>\n",
       "</div>"
      ],
      "text/plain": [
       "             userId       movieId        rating     timestamp\n",
       "count  1.565985e+07  1.565985e+07  1.565985e+07  1.565985e+07\n",
       "mean   6.901693e+04  1.117394e+04  3.445954e+00  1.110063e+09\n",
       "std    4.004482e+04  2.187546e+04  1.057272e+00  1.585046e+08\n",
       "min    1.000000e+00  3.000000e+00  5.000000e-01  7.896520e+08\n",
       "25%    3.436200e+04  1.256000e+03  3.000000e+00  9.749575e+08\n",
       "50%    6.908200e+04  2.712000e+03  3.500000e+00  1.108593e+09\n",
       "75%    1.036000e+05  5.773000e+03  4.000000e+00  1.231299e+09\n",
       "max    1.384930e+05  1.312620e+05  5.000000e+00  1.427784e+09"
      ]
     },
     "execution_count": 11,
     "metadata": {},
     "output_type": "execute_result"
    }
   ],
   "source": [
    "new_user = len(new_ratings_df.userId.unique())\n",
    "new_item = len(new_ratings_df.movieId.unique())\n",
    "print(\"Number of users: {}\\nNumber of movies: {} \\nTotal number rows: {}\".format(new_user, new_item, len(new_ratings_df)))\n",
    "new_ratings_df.describe()"
   ]
  },
  {
   "cell_type": "markdown",
   "metadata": {},
   "source": [
    "Since `new_ratings_df` still contains more than 1.5 million rows of data, we will now take different sized samples. More specificially, we will look at 0.001%, 0.05%, and 0.01% of `new_ratings_df` (randomly sampled)."
   ]
  },
  {
   "cell_type": "code",
   "execution_count": 16,
   "metadata": {},
   "outputs": [
    {
     "name": "stdout",
     "output_type": "stream",
     "text": [
      "Sample %: 0.001\n",
      "Number of users: 12878\n",
      "Number of movies: 4515 \n",
      "Total number rows: 15660\n",
      "\n",
      "\n",
      "Sample %: 0.005\n",
      "Number of users: 41704\n",
      "Number of movies: 8312 \n",
      "Total number rows: 78299\n",
      "\n",
      "\n",
      "Sample %: 0.01\n",
      "Number of users: 61517\n",
      "Number of movies: 10260 \n",
      "Total number rows: 156599\n",
      "\n",
      "\n"
     ]
    }
   ],
   "source": [
    "percentages = [0.001, 0.005, 0.01]\n",
    "all_sample_dfs = []\n",
    "for sample_percentage in percentages:\n",
    "    ratings_sample_df = new_ratings_df.sample(frac=sample_percentage, random_state=1)\n",
    "    all_sample_dfs.append(ratings_sample_df)\n",
    "    \n",
    "    new_user = len(ratings_sample_df.userId.unique())\n",
    "    new_item = len(ratings_sample_df.movieId.unique())\n",
    "    print(\"Sample %: {}\\nNumber of users: {}\\nNumber of movies: {} \\nTotal number rows: {}\\n\\n\".format(\n",
    "        sample_percentage, new_user, new_item, len(ratings_sample_df)))"
   ]
  },
  {
   "cell_type": "markdown",
   "metadata": {},
   "source": [
    "# 3. Modeling <a class=\"anchor\" id=\"3\"></a>"
   ]
  },
  {
   "cell_type": "markdown",
   "metadata": {},
   "source": [
    "## 3.1 Baseline Model <a class=\"anchor\" id=\"3-1\"></a>"
   ]
  },
  {
   "cell_type": "code",
   "execution_count": 17,
   "metadata": {},
   "outputs": [],
   "source": [
    "# Baseline model: Use the average rating of a movie in the training set as a predicted rating in the test set.\n",
    "# If movie trying to predict in test set doesn't exist in training, give it 0 rating?\n",
    "\n",
    "def baseline_predictor(avg_ratings, X):\n",
    "    predictions = []\n",
    "    rated_movies = avg_ratings['movieId'].values\n",
    "    \n",
    "    for index, row in X.iterrows():\n",
    "        movieId = row['movieId']\n",
    "        if movieId in rated_movies:\n",
    "            predicted_rating = avg_ratings[avg_ratings['movieId'] == movieId]['rating']\n",
    "            predictions.append(float(predicted_rating))\n",
    "        else:\n",
    "            # TODO: should actually just remove this data point?\n",
    "            predictions.append(0)\n",
    "    \n",
    "    final_df = X.copy()\n",
    "    final_df['rating'] = predictions\n",
    "    return final_df"
   ]
  },
  {
   "cell_type": "code",
   "execution_count": 18,
   "metadata": {},
   "outputs": [],
   "source": [
    "def dcg_score(y_true, y_score, k=5):\n",
    "    order = np.argsort(y_score)[::-1]\n",
    "    y_true = np.take(y_true, order[:k])\n",
    "\n",
    "    gain = 2 ** y_true - 1\n",
    "\n",
    "    discounts = np.log2(np.arange(len(y_true)) + 2)\n",
    "    return np.sum(gain / discounts)\n",
    "\n",
    "def ndcg_score(ground_truth, predictions, k=5):\n",
    "    lb = LabelBinarizer()\n",
    "    lb.fit(range(len(predictions) + 1))\n",
    "    T = lb.transform(ground_truth)\n",
    "\n",
    "    scores = []\n",
    "\n",
    "    # Iterate over each y_true and compute the DCG score\n",
    "    for y_true, y_score in zip(T, predictions):\n",
    "        actual = dcg_score(y_true, y_score, k)\n",
    "        best = dcg_score(y_true, y_true, k)\n",
    "        score = float(actual) / float(best)\n",
    "        scores.append(score)\n",
    "\n",
    "    return np.mean(scores)\n",
    "\n",
    "def get_ratings_for_each_user(df, rating_col_name='rating'):\n",
    "    '''\n",
    "    returns list of ratings for each user\n",
    "    '''\n",
    "    user_to_rating_dict = OrderedDict()\n",
    "    relevent_per_user = []\n",
    "    \n",
    "    # predicted ratings per user\n",
    "    for index, row in df.iterrows():\n",
    "        userId = row['userId']\n",
    "        rating = row[rating_col_name]\n",
    "        if userId not in user_to_rating_dict:\n",
    "            user_to_rating_dict[userId] = [rating]\n",
    "        else:\n",
    "            user_to_rating_dict[userId].append(rating)\n",
    "            \n",
    "    # create the relevent list\n",
    "    for values in user_to_rating_dict.values():\n",
    "        values = list(values)\n",
    "        relevent_per_user.append(len(list(filter(lambda x: x>=3, values))))\n",
    "    \n",
    "    return list(user_to_rating_dict.values()), relevent_per_user"
   ]
  },
  {
   "cell_type": "code",
   "execution_count": 133,
   "metadata": {
    "scrolled": true
   },
   "outputs": [
    {
     "name": "stdout",
     "output_type": "stream",
     "text": [
      "Sample % 0.001\n",
      " Start time: 2019-11-05 00:18:32.269224\n",
      "\tStart predicting at 2019-11-05 00:18:32.415593...\n",
      "\t...End predicting at 2019-11-05 00:18:49.218512.\n",
      "\tStart RMSE at 2019-11-05 00:18:49.218598...\n",
      "\t...End RMSE at 2019-11-05 00:18:49.239604.\n",
      "\tStart NDCG at 2019-11-05 00:18:49.239721...\n",
      "\t...End NDCG at 2019-11-05 00:18:53.908419.\n",
      "\tTotal Time: 0:00:21.639501\n",
      "Sample % 0.005\n",
      " Start time: 2019-11-05 00:18:53.908756\n",
      "\tStart predicting at 2019-11-05 00:18:53.953405...\n",
      "\t...End predicting at 2019-11-05 00:20:11.858349.\n",
      "\tStart RMSE at 2019-11-05 00:20:11.858883...\n",
      "\t...End RMSE at 2019-11-05 00:20:11.887136.\n",
      "\tStart NDCG at 2019-11-05 00:20:11.887266...\n",
      "\t...End NDCG at 2019-11-05 00:20:48.193302.\n",
      "\tTotal Time: 0:01:54.284705\n",
      "Sample % 0.01\n",
      " Start time: 2019-11-05 00:20:48.193496\n",
      "\tStart predicting at 2019-11-05 00:20:48.277898...\n",
      "\t...End predicting at 2019-11-05 00:23:18.446491.\n",
      "\tStart RMSE at 2019-11-05 00:23:18.446753...\n",
      "\t...End RMSE at 2019-11-05 00:23:18.483975.\n",
      "\tStart NDCG at 2019-11-05 00:23:18.484346...\n",
      "\t...End NDCG at 2019-11-05 00:24:39.082213.\n",
      "\tTotal Time: 0:03:50.889619\n"
     ]
    }
   ],
   "source": [
    "# Use baseline model to predict\n",
    "\n",
    "baseline_rmses = []\n",
    "baseline_rmses_train = []\n",
    "baseline_ndcgs = []\n",
    "baseline_ndcgs_train = []\n",
    "baseline_predicted_dfs = []\n",
    "baseline_predicted_train_dfs = []\n",
    "baseline_training_dfs = []\n",
    "baseline_test_dfs = []\n",
    "for i in range(len(percentages)):\n",
    "    start = datetime.datetime.now()\n",
    "    print('Sample % {}\\n Start time: {}'.format(percentages[i], str(start)))\n",
    "    ratings_sample_df = all_sample_dfs[i]\n",
    "\n",
    "    X = ratings_sample_df.loc[:, ratings_sample_df.columns != 'rating']\n",
    "    y = ratings_sample_df.loc[:, ratings_sample_df.columns == 'rating']\n",
    "\n",
    "    X_train, X_test, y_train, y_test = train_test_split(X, y, test_size=0.2, random_state=42)\n",
    "\n",
    "    training_sample = X_train.copy()\n",
    "    training_sample['rating'] = y_train\n",
    "    avg_ratings = training_sample.groupby('movieId', as_index = False).mean()\n",
    "    baseline_training_dfs.append(training_sample)\n",
    "    \n",
    "    test_sample = X_test.copy()\n",
    "    test_sample['rating'] = y_test\n",
    "    baseline_test_dfs.append(test_sample)\n",
    "    \n",
    "    print('\\tStart predicting at {}...'.format(str(datetime.datetime.now())))\n",
    "    # test predictions\n",
    "    baseline_predicted_df = baseline_predictor(avg_ratings, X_test)\n",
    "    baseline_predicted_dfs.append(baseline_predicted_df)\n",
    "    # train predictions\n",
    "    baseline_predicted_train_df = baseline_predictor(avg_ratings, X_train)\n",
    "    baseline_predicted_train_dfs.append(baseline_predicted_train_df)\n",
    "    print('\\t...End predicting at {}.'.format(str(datetime.datetime.now())))\n",
    "    \n",
    "    print('\\tStart RMSE at {}...'.format(str(datetime.datetime.now())))\n",
    "    # RMSE on test set\n",
    "    y_actual = y_test['rating']\n",
    "    y_predicted = baseline_predicted_df['rating']\n",
    "    baseline_rmse = sqrt(mean_squared_error(y_actual.tolist(), y_predicted.tolist()))\n",
    "    baseline_rmses.append(baseline_rmse)\n",
    "    \n",
    "    # RMSE on train set\n",
    "    y_actual_train = y_train['rating']\n",
    "    y_predicted_train = baseline_predicted_train_df['rating']\n",
    "    baseline_rmse_train = sqrt(mean_squared_error(y_actual_train.tolist(), y_predicted_train.tolist()))\n",
    "    baseline_rmses_train.append(baseline_rmse_train)\n",
    "    print('\\t...End RMSE at {}.'.format(str(datetime.datetime.now())))\n",
    "    \n",
    "    \n",
    "    print('\\tStart NDCG at {}...'.format(str(datetime.datetime.now())))\n",
    "    # NDCG on test set\n",
    "    y_predicted_grouped, ground_truths = get_ratings_for_each_user(baseline_predicted_df)\n",
    "    baseline_ndcg = ndcg_score(ground_truth=ground_truths, predictions=y_predicted_grouped, k=2)\n",
    "    baseline_ndcgs.append(baseline_ndcg)\n",
    "    \n",
    "    # NDCG on train set\n",
    "    y_predicted_grouped, ground_truths = get_ratings_for_each_user(baseline_predicted_train_df)\n",
    "    baseline_ndcg_train = ndcg_score(ground_truth=ground_truths, predictions=y_predicted_grouped, k=2)\n",
    "    baseline_ndcgs_train.append(baseline_ndcg_train)\n",
    "    print('\\t...End NDCG at {}.'.format(str(datetime.datetime.now())))\n",
    "    \n",
    "    end = datetime.datetime.now()\n",
    "    print('\\tTotal Time: {}'.format(str(end-start)))"
   ]
  },
  {
   "cell_type": "markdown",
   "metadata": {},
   "source": [
    "### 3.1.1 Accuracy of Baseline Model <a class=\"anchor\" id=\"3-1-1\"></a>"
   ]
  },
  {
   "cell_type": "markdown",
   "metadata": {},
   "source": [
    "### RMSE of Baseline Model"
   ]
  },
  {
   "cell_type": "code",
   "execution_count": 20,
   "metadata": {},
   "outputs": [
    {
     "data": {
      "text/plain": [
       "([1.6802065306456464, 1.1891280563833586, 1.0777108359990675],\n",
       " [0.7618152461605174, 0.8801984562025763, 0.9072231544147223])"
      ]
     },
     "execution_count": 20,
     "metadata": {},
     "output_type": "execute_result"
    }
   ],
   "source": [
    "baseline_rmses, baseline_rmses_train"
   ]
  },
  {
   "cell_type": "markdown",
   "metadata": {},
   "source": [
    "### NDCG of Baseline Model"
   ]
  },
  {
   "cell_type": "code",
   "execution_count": 21,
   "metadata": {},
   "outputs": [
    {
     "data": {
      "text/plain": [
       "([0.2964599338478883, 0.21006881115672518, 0.19499626274599363],\n",
       " [0.19610899255506742, 0.18170832411769505, 0.18041086510043305])"
      ]
     },
     "execution_count": 21,
     "metadata": {},
     "output_type": "execute_result"
    }
   ],
   "source": [
    "baseline_ndcgs, baseline_ndcgs_train"
   ]
  },
  {
   "cell_type": "markdown",
   "metadata": {},
   "source": [
    "### 3.1.2 Coverage of Baseline Model <a class=\"anchor\" id=\"3-1-2\"></a>"
   ]
  },
  {
   "cell_type": "code",
   "execution_count": 126,
   "metadata": {},
   "outputs": [],
   "source": [
    "data_schema = StructType([\n",
    "    StructField('userId',IntegerType(), False),\n",
    "    StructField('movieId',IntegerType(), False),\n",
    "    StructField('rating',FloatType(), False)])\n",
    "\n",
    "spark_baseline_predicted_dfs = []\n",
    "spark_baseline_predicted_train_dfs = []\n",
    "for i in range(len(baseline_predicted_dfs)):\n",
    "    test_df = baseline_predicted_dfs[i]\n",
    "    new_sample_df = test_df.iloc[:, test_df.columns != 'timestamp']\n",
    "    spark_baseline_predicted_dfs.append(spark.createDataFrame(new_sample_df, schema=data_schema))\n",
    "    \n",
    "    train_df = baseline_predicted_train_dfs[i]\n",
    "    new_sample_df2 = train_df.iloc[:, train_df.columns != 'timestamp']\n",
    "    spark_baseline_predicted_train_dfs.append(spark.createDataFrame(new_sample_df2, schema=data_schema))"
   ]
  },
  {
   "cell_type": "code",
   "execution_count": 127,
   "metadata": {},
   "outputs": [
    {
     "name": "stdout",
     "output_type": "stream",
     "text": [
      "Item Coverage (0.001% sample): 3.1%\n",
      "Item Coverage (0.005% sample): 2e+01%\n",
      "Item Coverage (0.01% sample): 2.5e+01%\n"
     ]
    }
   ],
   "source": [
    "baseline_test_item_coverages = get_item_coverage(spark_baseline_predicted_dfs)"
   ]
  },
  {
   "cell_type": "code",
   "execution_count": 128,
   "metadata": {},
   "outputs": [
    {
     "name": "stdout",
     "output_type": "stream",
     "text": [
      "User Coverage: (0.001% sample): 0.0%\n",
      "User Coverage: (0.005% sample): 1.9%\n",
      "User Coverage: (0.01% sample): 5.8%\n"
     ]
    }
   ],
   "source": [
    "baseline_test_user_coverages = get_user_coverage(spark_baseline_predicted_dfs)"
   ]
  },
  {
   "cell_type": "code",
   "execution_count": 129,
   "metadata": {},
   "outputs": [
    {
     "name": "stdout",
     "output_type": "stream",
     "text": [
      "Item Coverage (0.001% sample): 3.6e+01%\n",
      "Item Coverage (0.005% sample): 5.1e+01%\n",
      "Item Coverage (0.01% sample): 5.3e+01%\n"
     ]
    }
   ],
   "source": [
    "baseline_train_item_coverages = get_item_coverage(spark_baseline_predicted_train_dfs)"
   ]
  },
  {
   "cell_type": "code",
   "execution_count": 130,
   "metadata": {},
   "outputs": [
    {
     "name": "stdout",
     "output_type": "stream",
     "text": [
      "User Coverage: (0.001% sample): 5.4%\n",
      "User Coverage: (0.005% sample): 3.4e+01%\n",
      "User Coverage: (0.01% sample): 5.1e+01%\n"
     ]
    }
   ],
   "source": [
    "baseline_train_user_coverages = get_user_coverage(spark_baseline_predicted_train_dfs)"
   ]
  },
  {
   "cell_type": "markdown",
   "metadata": {},
   "source": [
    "## 3.2 Neighborhood-Based Collaborative Filtering <a class=\"anchor\" id=\"3-2\"></a>"
   ]
  },
  {
   "cell_type": "markdown",
   "metadata": {},
   "source": [
    "### 3.2.1 Tunning Hyperparameters <a class=\"anchor\" id=\"3-2-1\"></a>"
   ]
  },
  {
   "cell_type": "code",
   "execution_count": 143,
   "metadata": {},
   "outputs": [],
   "source": [
    "# A reader is still needed but only the rating_scale param is requiered.\n",
    "reader = Reader(rating_scale=(1, 5))"
   ]
  },
  {
   "cell_type": "code",
   "execution_count": 147,
   "metadata": {},
   "outputs": [
    {
     "name": "stdout",
     "output_type": "stream",
     "text": [
      "parameter 5\n",
      "Computing the cosine similarity matrix...\n",
      "Done computing similarity matrix.\n",
      "RMSE: 1.0633\n",
      "Computing the cosine similarity matrix...\n",
      "Done computing similarity matrix.\n",
      "RMSE: 1.0419\n",
      "Computing the cosine similarity matrix...\n",
      "Done computing similarity matrix.\n",
      "RMSE: 1.0538\n",
      "RMSE: 1.0507\n",
      "parameter 10\n",
      "Computing the cosine similarity matrix...\n",
      "Done computing similarity matrix.\n",
      "RMSE: 1.0585\n",
      "Computing the cosine similarity matrix...\n",
      "Done computing similarity matrix.\n",
      "RMSE: 1.0496\n",
      "Computing the cosine similarity matrix...\n",
      "Done computing similarity matrix.\n",
      "RMSE: 1.0500\n",
      "RMSE: 1.0535\n",
      "parameter 25\n",
      "Computing the cosine similarity matrix...\n",
      "Done computing similarity matrix.\n",
      "RMSE: 1.0420\n",
      "Computing the cosine similarity matrix...\n",
      "Done computing similarity matrix.\n",
      "RMSE: 1.0442\n",
      "Computing the cosine similarity matrix...\n",
      "Done computing similarity matrix.\n",
      "RMSE: 1.0695\n",
      "RMSE: 1.0485\n",
      "percentage: 0.001, k: 25 , total time: 0:00:01.888176\n",
      "\n",
      "\n",
      "parameter 5\n",
      "Computing the cosine similarity matrix...\n",
      "Done computing similarity matrix.\n",
      "RMSE: 1.0456\n",
      "Computing the cosine similarity matrix...\n",
      "Done computing similarity matrix.\n",
      "RMSE: 1.0303\n",
      "Computing the cosine similarity matrix...\n",
      "Done computing similarity matrix.\n",
      "RMSE: 1.0332\n",
      "RMSE: 1.0357\n",
      "parameter 10\n",
      "Computing the cosine similarity matrix...\n",
      "Done computing similarity matrix.\n",
      "RMSE: 1.0385\n",
      "Computing the cosine similarity matrix...\n",
      "Done computing similarity matrix.\n",
      "RMSE: 1.0352\n",
      "Computing the cosine similarity matrix...\n",
      "Done computing similarity matrix.\n",
      "RMSE: 1.0461\n",
      "RMSE: 1.0335\n",
      "parameter 25\n",
      "Computing the cosine similarity matrix...\n",
      "Done computing similarity matrix.\n",
      "RMSE: 1.0306\n",
      "Computing the cosine similarity matrix...\n",
      "Done computing similarity matrix.\n",
      "RMSE: 1.0424\n",
      "Computing the cosine similarity matrix...\n",
      "Done computing similarity matrix.\n",
      "RMSE: 1.0392\n",
      "RMSE: 1.0302\n",
      "percentage: 0.001, k: 25 , total time: 0:00:08.149369\n",
      "\n",
      "\n",
      "parameter 5\n",
      "Computing the cosine similarity matrix...\n",
      "Done computing similarity matrix.\n",
      "RMSE: 1.0256\n",
      "Computing the cosine similarity matrix...\n",
      "Done computing similarity matrix.\n",
      "RMSE: 1.0333\n",
      "Computing the cosine similarity matrix...\n",
      "Done computing similarity matrix.\n",
      "RMSE: 1.0252\n",
      "RMSE: 1.0249\n",
      "parameter 10\n",
      "Computing the cosine similarity matrix...\n",
      "Done computing similarity matrix.\n",
      "RMSE: 1.0246\n",
      "Computing the cosine similarity matrix...\n",
      "Done computing similarity matrix.\n",
      "RMSE: 1.0319\n",
      "Computing the cosine similarity matrix...\n",
      "Done computing similarity matrix.\n",
      "RMSE: 1.0254\n",
      "RMSE: 1.0240\n",
      "parameter 25\n",
      "Computing the cosine similarity matrix...\n",
      "Done computing similarity matrix.\n",
      "RMSE: 1.0243\n",
      "Computing the cosine similarity matrix...\n",
      "Done computing similarity matrix.\n",
      "RMSE: 1.0235\n",
      "Computing the cosine similarity matrix...\n",
      "Done computing similarity matrix.\n",
      "RMSE: 1.0256\n",
      "RMSE: 1.0222\n",
      "percentage: 0.001, k: 25 , total time: 0:00:19.768622\n",
      "\n",
      "\n"
     ]
    }
   ],
   "source": [
    "def mean(l):\n",
    "    return sum(l) / len(l)\n",
    "\n",
    "kf = KFold(n_splits=3)\n",
    "possibleK = [5,10,25]\n",
    "\n",
    "knn_rmse_test = []\n",
    "knn_rmse_train = []\n",
    "\n",
    "for i in range(len(percentages)):\n",
    "    sampled_df = baseline_training_dfs[i]\n",
    "    data = Dataset.load_from_df(sampled_df[['userId', 'movieId', 'rating']], reader)\n",
    "    \n",
    "    knn_rmse_all_test = []\n",
    "    knn_rmse_all_train = []\n",
    "    for k in possibleK:\n",
    "        start = datetime.datetime.now()\n",
    "        print('parameter', k)\n",
    "    \n",
    "        rmses_test = []\n",
    "        rmses_train = []\n",
    "        algo = KNNWithMeans(k=k, sim_options={'name': 'cosine', 'user_based': False})\n",
    "        for trainset, testset in kf.split(data):\n",
    "            algo.fit(trainset)\n",
    "            predictions = algo.test(testset)\n",
    "            rmse_train = accuracy.rmse(predictions)\n",
    "            rmses_train.append(rmse_train)\n",
    "            \n",
    "        knn_rmse_all_train.append(mean(rmses_train))\n",
    "    \n",
    "        test_df = baseline_test_dfs[i]\n",
    "        test_df = Dataset.load_from_df(test_df[['userId', 'movieId', 'rating']], reader)\n",
    "        predictions_test = algo.test(test_df.build_full_trainset().build_testset())\n",
    "        rmse_test = accuracy.rmse(predictions_test)\n",
    "        knn_rmse_all_test.append(rmse_test)\n",
    "            \n",
    "        end = datetime.datetime.now()\n",
    "    \n",
    "    print('percentage: {}, k: {} , total time: {}'.format(percentage, k, str(end-start)))\n",
    "\n",
    "    knn_rmse_test.append(knn_rmse_all_test)\n",
    "    knn_rmse_train.append(knn_rmse_all_train)\n",
    "    \n",
    "    print('\\n')\n"
   ]
  },
  {
   "cell_type": "code",
   "execution_count": 148,
   "metadata": {},
   "outputs": [
    {
     "data": {
      "image/png": "[encoded data removed]",
      "text/plain": [
       "<Figure size 720x432 with 1 Axes>"
      ]
     },
     "metadata": {
      "needs_background": "light"
     },
     "output_type": "display_data"
    }
   ],
   "source": [
    "plt.figure(figsize=(10, 6))\n",
    "\n",
    "for knn_rmse in knn_rmse_test:\n",
    "    plt.plot(possibleK, knn_rmse)\n",
    "\n",
    "plt.xlabel('size of k')\n",
    "plt.ylabel('RMSE')\n",
    "plt.title('RMSE Test vs k by Sample Size')\n",
    "plt.legend(['{}% Sample'.format(p) for p in percentages])\n",
    "plt.grid(True)\n",
    "plt.show()"
   ]
  },
  {
   "cell_type": "markdown",
   "metadata": {},
   "source": [
    "### 3.2.2 Accuracy of KNN Means Model <a class=\"anchor\" id=\"3-2-2\"></a>"
   ]
  },
  {
   "cell_type": "markdown",
   "metadata": {},
   "source": [
    "### RMSE\n",
    "\n",
    "The training RMSEs are similar to the test RMSEs."
   ]
  },
  {
   "cell_type": "code",
   "execution_count": 149,
   "metadata": {},
   "outputs": [
    {
     "data": {
      "text/plain": [
       "[[1.0506817596928166, 1.0534827857622457, 1.0485114418079646],\n",
       " [1.0357442964942292, 1.0334506993771981, 1.030237787733422],\n",
       " [1.0248771958923668, 1.023964874014258, 1.0221884957312877]]"
      ]
     },
     "execution_count": 149,
     "metadata": {},
     "output_type": "execute_result"
    }
   ],
   "source": [
    "# Test RMSE\n",
    "knn_rmse_test"
   ]
  },
  {
   "cell_type": "code",
   "execution_count": 150,
   "metadata": {},
   "outputs": [
    {
     "data": {
      "text/plain": [
       "[[1.052981709558509, 1.0527074092618722, 1.0518893325021512],\n",
       " [1.036380478568988, 1.0399317321113437, 1.037380766725285],\n",
       " [1.028035506205932, 1.0273116606770987, 1.02445603362914]]"
      ]
     },
     "execution_count": 150,
     "metadata": {},
     "output_type": "execute_result"
    }
   ],
   "source": [
    "# Train RMSE\n",
    "knn_rmse_train"
   ]
  },
  {
   "cell_type": "markdown",
   "metadata": {},
   "source": [
    "### !!! NDCG !!!"
   ]
  },
  {
   "cell_type": "markdown",
   "metadata": {},
   "source": [
    "### 3.2.3 Coverage of KNN Means Model <a class=\"anchor\" id=\"3-2-3\"></a>"
   ]
  },
  {
   "cell_type": "code",
   "execution_count": 238,
   "metadata": {},
   "outputs": [],
   "source": [
    "def create_knn_df(predictions_test):\n",
    "    knn_predictions_list = []\n",
    "    for i in range(len(predictions_test)):\n",
    "        # userId, movieId, rating, predicted\n",
    "        knn_predictions_list.append(list(predictions_test[i][:-1]))\n",
    "        \n",
    "    return pd.DataFrame(knn_predictions_list, columns = ['userId', 'movieId', 'rating', 'predicted'])"
   ]
  },
  {
   "cell_type": "code",
   "execution_count": 239,
   "metadata": {},
   "outputs": [
    {
     "name": "stdout",
     "output_type": "stream",
     "text": [
      "Computing the cosine similarity matrix...\n",
      "Done computing similarity matrix.\n",
      "Computing the cosine similarity matrix...\n",
      "Done computing similarity matrix.\n",
      "Computing the cosine similarity matrix...\n",
      "Done computing similarity matrix.\n",
      "Item Coverage (0.001% sample): 2.2%\n",
      "Item Coverage (0.005% sample): 1.9e+01%\n",
      "Item Coverage (0.01% sample): 2.5e+01%\n",
      "User Coverage: (0.001% sample): 0.14%\n",
      "User Coverage: (0.005% sample): 2.2%\n",
      "User Coverage: (0.01% sample): 5.5%\n"
     ]
    }
   ],
   "source": [
    "knn_predictions_dfs = []\n",
    "spark_knn_predicted_dfs = []\n",
    "\n",
    "best_ks = [25, 25, 25]\n",
    "for i in range(len(baseline_training_dfs)):\n",
    "    train_df = baseline_training_dfs[i]\n",
    "    train_df = Dataset.load_from_df(train_df[['userId', 'movieId', 'rating']], reader)\n",
    "    algo = KNNWithMeans(k=best_ks[i], sim_options={'name': 'cosine', 'user_based': False})\n",
    "    algo.fit(train_df.build_full_trainset())\n",
    "    test_df = baseline_test_dfs[i]\n",
    "    test_df = Dataset.load_from_df(test_df[['userId', 'movieId', 'rating']], reader)\n",
    "    predictions_test = algo.test(test_df.build_full_trainset().build_testset())\n",
    "    \n",
    "    knn_predictions_df = create_knn_df(predictions_test)\n",
    "    knn_predictions_dfs.append(knn_predictions_df)\n",
    "    test_df = knn_predictions_df\n",
    "    new_sample_df = test_df.iloc[:, test_df.columns != 'predicted']\n",
    "    spark_knn_predicted_df = spark.createDataFrame(new_sample_df, schema=data_schema)\n",
    "    spark_knn_predicted_dfs.append(spark_knn_predicted_df)\n",
    "    \n",
    "knn_item_coverages_test = get_item_coverage(spark_knn_predicted_dfs)\n",
    "knn_user_coverages_test = get_user_coverage(spark_knn_predicted_dfs)"
   ]
  },
  {
   "cell_type": "code",
   "execution_count": 240,
   "metadata": {},
   "outputs": [
    {
     "data": {
      "text/plain": [
       "([2.2411953041622197, 18.60885275519422, 24.809413324494532],\n",
       " [0.1353637901861252, 2.216478696741855, 5.545544643661591])"
      ]
     },
     "execution_count": 240,
     "metadata": {},
     "output_type": "execute_result"
    }
   ],
   "source": [
    "knn_item_coverages_test, knn_user_coverages_test"
   ]
  },
  {
   "cell_type": "code",
   "execution_count": 269,
   "metadata": {},
   "outputs": [
    {
     "name": "stdout",
     "output_type": "stream",
     "text": [
      "Catalog Coverage: 99.94739610731193%\n",
      "Catalog Coverage: 98.30885625278148%\n",
      "Catalog Coverage: 94.4639571834755%\n"
     ]
    }
   ],
   "source": [
    "knn_catalog_coverages = []\n",
    "for knn_predictions_df in knn_predictions_dfs:\n",
    "    knn_predictions_df.sort_values(by=['userId', 'predicted'])\n",
    "    ratings_dictionary = dict(knn_predictions_df.set_index('userId').groupby(level = 0).apply(lambda x : x.to_dict(orient= 'records')))\n",
    "    N = len(knn_predictions_df['movieId'].unique())    \n",
    "    knn_catalog_coverages.append(calculate_catalog_coverage(ratings_dictionary, N))\n"
   ]
  },
  {
   "cell_type": "code",
   "execution_count": 268,
   "metadata": {},
   "outputs": [],
   "source": [
    "def calculate_catalog_coverage(ratingsDict, N, k=3):\n",
    "    '''\n",
    "    k: top k movies\n",
    "    N: total number of movies\n",
    "    '''\n",
    "    \n",
    "#     totalMovies = []\n",
    "#     for i in (testset):\n",
    "#         totalMovies.append(i[1])\n",
    "#     totalMovies = list(dict.fromkeys(totalMovies))\n",
    "\n",
    "    recList = []\n",
    "    for keys in ratingsDict.keys():\n",
    "        \n",
    "        if k >= len(ratingsDict[keys]):\n",
    "            for row in ratingsDict[keys]:\n",
    "                recList.append(row['movieId'])\n",
    "        else:\n",
    "            for index, item in enumerate(sorted(ratingsDict[keys], key=lambda x: -x['predicted'])):\n",
    "                if index+1 <= k:\n",
    "                    recList.append(item['movieId'])\n",
    "                else:\n",
    "                    pass\n",
    "#     recList = list(dict.fromkeys(recList))\n",
    "    #     return len(recList)/len(totalMovies)\n",
    "    \n",
    "    recommended_set = set(recList)\n",
    "\n",
    "    coverage = (len(recommended_set) / N) * 100\n",
    "    print('Catalog Coverage: {}%'.format(coverage))\n",
    "    return coverage"
   ]
  },
  {
   "cell_type": "markdown",
   "metadata": {},
   "source": [
    "## 3.3 Model-Based Collaborative Filtering: Matrix Factorization Using PySpark's Alternating Least Squares (ALS) <a class=\"anchor\" id=\"3-3\"></a>"
   ]
  },
  {
   "cell_type": "markdown",
   "metadata": {},
   "source": [
    "We use the Alternating Least Square (ALS) model in PySpark with the same samples we used for the baseline model and the neighborhood-based model."
   ]
  },
  {
   "cell_type": "code",
   "execution_count": 44,
   "metadata": {},
   "outputs": [],
   "source": [
    "#Spark Session\n",
    "spark =SparkSession.builder.appName('ALS').getOrCreate()\n",
    "sc = spark.sparkContext\n",
    "sqlContext = SQLContext(sc)\n",
    "\n",
    "# Load ratings data into PySpark dataframe\n",
    "data_schema = StructType([\n",
    "    StructField('userId',IntegerType(), False),\n",
    "    StructField('movieId',IntegerType(), False),\n",
    "    StructField('rating',FloatType(), False)])\n",
    "\n",
    "movie_ratings = spark.read.csv('ratings.csv', \n",
    "                               header=True, schema=data_schema).cache()"
   ]
  },
  {
   "cell_type": "markdown",
   "metadata": {},
   "source": [
    "We convert our samples (Pandas dataframes) into Spark dataframes."
   ]
  },
  {
   "cell_type": "code",
   "execution_count": 45,
   "metadata": {},
   "outputs": [],
   "source": [
    "# Create Spark DF from Pandas DF\n",
    "all_sample_spark_dfs = []\n",
    "for sample_df in all_sample_dfs:\n",
    "    new_sample_df = sample_df.iloc[:, sample_df.columns != 'timestamp']\n",
    "    spark_sample_df = spark.createDataFrame(new_sample_df, schema=data_schema)\n",
    "    all_sample_spark_dfs.append(spark_sample_df)"
   ]
  },
  {
   "cell_type": "code",
   "execution_count": 46,
   "metadata": {},
   "outputs": [],
   "source": [
    "# ALS model without tunning parameters\n",
    "als = ALS(maxIter=5, userCol=\"userId\", itemCol=\"movieId\", ratingCol=\"rating\",\n",
    "          coldStartStrategy=\"drop\", nonnegative= True)"
   ]
  },
  {
   "cell_type": "code",
   "execution_count": null,
   "metadata": {},
   "outputs": [],
   "source": [
    "# def sample_x_percent(sample_percentage):\n",
    "#     subset_ratings = movie_ratings.sample(False, sample_percentage, 42)\n",
    "#     (training, test) = subset_ratings.randomSplit([0.8, 0.2])\n",
    "#     return training, test\n",
    "\n",
    "# training, test = sample_x_percent(sample_percentage)\n",
    "# user_tr_sample_count = training.select('userID').distinct().count()\n",
    "# movie_tr_sample_count = training.select('movieID').distinct().count()\n",
    "# user_tr_sample_count, movie_tr_sample_count"
   ]
  },
  {
   "cell_type": "markdown",
   "metadata": {},
   "source": [
    "### Different Sample Sizes"
   ]
  },
  {
   "cell_type": "code",
   "execution_count": 47,
   "metadata": {},
   "outputs": [],
   "source": [
    "all_training_sets = []\n",
    "all_test_sets = []\n",
    "\n",
    "for df in all_sample_spark_dfs:\n",
    "    (training, test) = df.randomSplit([0.8, 0.2])\n",
    "    all_training_sets.append(training)\n",
    "    all_test_sets.append(test)\n",
    "    \n",
    "# for percentage in percentages:\n",
    "#     trn, tst = sample_x_percent(percentage)\n",
    "#     all_training_sets.append(trn)\n",
    "#     all_test_sets.append(tst)\n",
    "\n",
    "training_1, training_2, training_3 = all_training_sets\n",
    "test_1, test_2, test_3 = all_test_sets"
   ]
  },
  {
   "cell_type": "code",
   "execution_count": 49,
   "metadata": {},
   "outputs": [
    {
     "name": "stdout",
     "output_type": "stream",
     "text": [
      "users:  10668  movies:  4070  total rows:  12577\n",
      "users:  36300  movies:  7764  total rows:  62748\n",
      "users:  54775  movies:  9601  total rows:  125300\n"
     ]
    }
   ],
   "source": [
    "for training in all_training_sets:\n",
    "    training.cache()\n",
    "    user_tr_sample_count = training.select('userID').distinct().count()\n",
    "    movie_tr_sample_count = training.select('movieID').distinct().count()\n",
    "    print('users: ', user_tr_sample_count, ' movies: ', movie_tr_sample_count, ' total rows: ', training.count())"
   ]
  },
  {
   "cell_type": "markdown",
   "metadata": {},
   "source": [
    "### 3.3.1 Tunning Hyperparameters <a class=\"anchor\" id=\"3-3-1\"></a>\n",
    "\n",
    "There are 3 hyperparameters to tune. First, we will tune `rank`, then `regParam`, and then `maxIter`. We use RSME to tune our parameters and cross validation with 3 folds. We do this on our traning set."
   ]
  },
  {
   "cell_type": "code",
   "execution_count": 57,
   "metadata": {},
   "outputs": [],
   "source": [
    "def tune_parameter(cv_func, paramGrid, percentages, all_training_sets):\n",
    "    \n",
    "    training_times = []\n",
    "    cvModels = []\n",
    "    results = []\n",
    "\n",
    "    for i in range(len(percentages)):\n",
    "        start_1 = datetime.datetime.now()\n",
    "        cvModel = cv_func.fit(all_training_sets[i])\n",
    "        end_1 = datetime.datetime.now()\n",
    "\n",
    "        cvModels.append(cvModel)\n",
    "        training_times.append(str(end_1 - start_1))\n",
    "        results.append(list(zip(cvModel.avgMetrics, paramGrid)))\n",
    "\n",
    "        print(str(end_1 - start_1))\n",
    "    \n",
    "    return training_times, cvModels, results\n",
    "    "
   ]
  },
  {
   "cell_type": "code",
   "execution_count": 51,
   "metadata": {},
   "outputs": [],
   "source": [
    "def plot_rmse_vs_param(cvModels, param_list, xlabel):\n",
    "    plt.figure(figsize=(10, 6))\n",
    "    for cvModel in cvModels: \n",
    "        plt.plot(param_list, cvModel.avgMetrics)\n",
    "\n",
    "    plt.xlabel(xlabel)\n",
    "    plt.ylabel('RMSE')\n",
    "    plt.title('RMSE vs {} by Sample Size'.format(xlabel))\n",
    "    plt.legend(['{}% Sample'.format(p) for p in percentages])\n",
    "    plt.grid(True)\n",
    "    plt.show()"
   ]
  },
  {
   "cell_type": "markdown",
   "metadata": {},
   "source": [
    "####  Tunning Rank"
   ]
  },
  {
   "cell_type": "code",
   "execution_count": 52,
   "metadata": {},
   "outputs": [
    {
     "name": "stdout",
     "output_type": "stream",
     "text": [
      "0:01:18.157035\n",
      "0:01:46.070298\n",
      "0:01:58.370017\n"
     ]
    }
   ],
   "source": [
    "# tunning rank\n",
    "rank_list = [5, 10, 20]\n",
    "paramGrid = (ParamGridBuilder().addGrid(als.rank, rank_list).build())\n",
    "\n",
    "crossval = CrossValidator(estimator=als,\n",
    "                          estimatorParamMaps=paramGrid,\n",
    "                          evaluator=RegressionEvaluator(metricName=\"rmse\",\n",
    "                                                        labelCol=\"rating\"),\n",
    "                          numFolds=3)\n",
    "\n",
    "training_times, cvModels, results = tune_parameter(crossval, paramGrid, percentages, all_training_sets)"
   ]
  },
  {
   "cell_type": "markdown",
   "metadata": {},
   "source": [
    "As sample size increased, the longer it took to tune rank."
   ]
  },
  {
   "cell_type": "code",
   "execution_count": 54,
   "metadata": {
    "scrolled": true
   },
   "outputs": [
    {
     "data": {
      "image/png": "[encoded data removed]",
      "text/plain": [
       "<Figure size 720x432 with 1 Axes>"
      ]
     },
     "metadata": {
      "needs_background": "light"
     },
     "output_type": "display_data"
    }
   ],
   "source": [
    "plot_rmse_vs_param(cvModels, rank_list, 'Rank')"
   ]
  },
  {
   "cell_type": "code",
   "execution_count": 55,
   "metadata": {},
   "outputs": [
    {
     "name": "stdout",
     "output_type": "stream",
     "text": [
      "[2.5208710351886188, 2.406703436515813, 2.4000997089692673]\n",
      "[1.8150041302424498, 1.8027648590484402, 1.7171846553955805]\n",
      "[1.5620705118289568, 1.5696040226692172, 1.5252708665364574]\n"
     ]
    }
   ],
   "source": [
    "for cv in cvModels:\n",
    "    print(cv.avgMetrics)\n",
    "best_rank=20"
   ]
  },
  {
   "cell_type": "markdown",
   "metadata": {},
   "source": [
    "#### Tunning Regularization Parameter"
   ]
  },
  {
   "cell_type": "code",
   "execution_count": 58,
   "metadata": {},
   "outputs": [
    {
     "name": "stdout",
     "output_type": "stream",
     "text": [
      "0:01:36.267541\n",
      "0:02:05.043913\n",
      "0:02:47.549340\n"
     ]
    }
   ],
   "source": [
    "reg_list = [0.001, 0.05, 0.1, 0.2]\n",
    "\n",
    "# Use the best rank found above\n",
    "als= ALS(maxIter=5, rank=best_rank, userCol=\"userId\", itemCol=\"movieId\", ratingCol=\"rating\",\n",
    "          coldStartStrategy=\"drop\", nonnegative= True)\n",
    "\n",
    "paramGrid_2 = ParamGridBuilder().addGrid(als.regParam, reg_list).build()\n",
    "\n",
    "crossval_2 = CrossValidator(estimator=als,\n",
    "                          estimatorParamMaps=paramGrid_2,\n",
    "                          evaluator=RegressionEvaluator(metricName=\"rmse\",\n",
    "                                                        labelCol=\"rating\"),\n",
    "                          numFolds=3)\n",
    "\n",
    "\n",
    "training_times2, cvModels2, results2 = tune_parameter(crossval_2, paramGrid_2, percentages, all_training_sets)"
   ]
  },
  {
   "cell_type": "code",
   "execution_count": 59,
   "metadata": {},
   "outputs": [
    {
     "data": {
      "image/png": "[encoded data removed]",
      "text/plain": [
       "<Figure size 720x432 with 1 Axes>"
      ]
     },
     "metadata": {
      "needs_background": "light"
     },
     "output_type": "display_data"
    }
   ],
   "source": [
    "plot_rmse_vs_param(cvModels2, reg_list, 'regParam')"
   ]
  },
  {
   "cell_type": "code",
   "execution_count": 60,
   "metadata": {},
   "outputs": [
    {
     "name": "stdout",
     "output_type": "stream",
     "text": [
      "[2.6062633832232525, 2.376728250989886, 2.4000997089692673, 2.4437349470727225]\n",
      "[2.7371086361759316, 1.741988486087179, 1.7171846553955805, 1.6524823516106966]\n",
      "[2.91276271711076, 1.6213390509996386, 1.5252708665364574, 1.398496263249813]\n"
     ]
    }
   ],
   "source": [
    "for cv in cvModels2:\n",
    "    print(cv.avgMetrics)\n",
    "best_reg = 0.2"
   ]
  },
  {
   "cell_type": "markdown",
   "metadata": {},
   "source": [
    "#### Tunning Number of Iterations"
   ]
  },
  {
   "cell_type": "code",
   "execution_count": 61,
   "metadata": {},
   "outputs": [
    {
     "name": "stdout",
     "output_type": "stream",
     "text": [
      "0:01:27.539845\n",
      "0:02:29.413635\n",
      "0:03:16.695436\n"
     ]
    }
   ],
   "source": [
    "iter_list = list(range(5,25,5))\n",
    "\n",
    "# Use the best rank and best regParam found above\n",
    "als= ALS(rank=best_rank, regParam=best_reg, userCol=\"userId\", itemCol=\"movieId\", ratingCol=\"rating\",\n",
    "          coldStartStrategy=\"drop\", nonnegative= True)\n",
    "                 \n",
    "paramGrid_3 = ParamGridBuilder().addGrid(als.maxIter, iter_list).build()\n",
    "\n",
    "crossval_3 = CrossValidator(estimator=als,\n",
    "                          estimatorParamMaps=paramGrid_2,\n",
    "                          evaluator=RegressionEvaluator(metricName=\"rmse\",\n",
    "                                                        labelCol=\"rating\"),\n",
    "                          numFolds=3)\n",
    "\n",
    "\n",
    "training_times3, cvModels3, results3 = tune_parameter(crossval_3, paramGrid_3, percentages, all_training_sets)"
   ]
  },
  {
   "cell_type": "code",
   "execution_count": 62,
   "metadata": {},
   "outputs": [
    {
     "data": {
      "image/png": "[encoded data removed]",
      "text/plain": [
       "<Figure size 720x432 with 1 Axes>"
      ]
     },
     "metadata": {
      "needs_background": "light"
     },
     "output_type": "display_data"
    }
   ],
   "source": [
    "plot_rmse_vs_param(cvModels3, iter_list, 'maxIter')"
   ]
  },
  {
   "cell_type": "code",
   "execution_count": 64,
   "metadata": {},
   "outputs": [
    {
     "name": "stdout",
     "output_type": "stream",
     "text": [
      "[2.4305742906384324, 2.4305742906384324, 2.4305742906384324, 2.4305742906384324]\n",
      "[1.4810357844270297, 1.4810357844270297, 1.4810357844270297, 1.4810357844270297]\n",
      "[1.295138360350374, 1.295138360350374, 1.295138360350374, 1.295138360350374]\n"
     ]
    }
   ],
   "source": [
    "for cv in cvModels3:\n",
    "    print(cv.avgMetrics)\n",
    "best_iter = 10 # default"
   ]
  },
  {
   "cell_type": "markdown",
   "metadata": {},
   "source": [
    "### 3.3.2 Accuracy of ALS Model <a class=\"anchor\" id=\"3-3-2\"></a>"
   ]
  },
  {
   "cell_type": "markdown",
   "metadata": {},
   "source": [
    "### RSME \n",
    "\n",
    "training: with best rank, best reg, best iter"
   ]
  },
  {
   "cell_type": "code",
   "execution_count": 65,
   "metadata": {},
   "outputs": [
    {
     "data": {
      "text/plain": [
       "[2.4305742906384324, 1.4810357844270297, 1.295138360350374]"
      ]
     },
     "execution_count": 65,
     "metadata": {},
     "output_type": "execute_result"
    }
   ],
   "source": [
    "best_als_rmses_train = []\n",
    "for cv in cvModels3:\n",
    "    best_als_rmses_train.append(min(cv.avgMetrics))\n",
    "\n",
    "best_als_rmses_train"
   ]
  },
  {
   "cell_type": "markdown",
   "metadata": {},
   "source": [
    "test: using the tunned params"
   ]
  },
  {
   "cell_type": "code",
   "execution_count": 66,
   "metadata": {},
   "outputs": [],
   "source": [
    "best_als_models = []\n",
    "best_predictions_test = []\n",
    "best_predictions_train = []\n",
    "best_als_rmses = []\n",
    "\n",
    "evaluator = RegressionEvaluator(metricName=\"rmse\", labelCol=\"rating\",\n",
    "                                predictionCol=\"prediction\")\n",
    "\n",
    "for i in range(len(percentages)):\n",
    "    best_als= ALS(rank=best_rank, regParam=best_reg, maxIter=best_iter, userCol=\"userId\", \n",
    "                  itemCol=\"movieId\", ratingCol=\"rating\", coldStartStrategy=\"drop\", nonnegative= True)\n",
    "\n",
    "    best_als_model = als.fit(all_training_sets[i])\n",
    "    als_predictions_test = best_als_model.transform(all_test_sets[i])\n",
    "    als_predictions_train = best_als_model.transform(all_training_sets[i])\n",
    "    rmse = evaluator.evaluate(als_predictions_test)\n",
    "        \n",
    "    best_als_models.append(best_als_model)\n",
    "    best_predictions_test.append(als_predictions_test)\n",
    "    best_predictions_train.append(als_predictions_train)\n",
    "    best_als_rmses.append(rmse)"
   ]
  },
  {
   "cell_type": "code",
   "execution_count": 67,
   "metadata": {},
   "outputs": [
    {
     "data": {
      "text/plain": [
       "[2.240793381700844, 1.3432920600923228, 1.2190040017124122]"
      ]
     },
     "execution_count": 67,
     "metadata": {},
     "output_type": "execute_result"
    }
   ],
   "source": [
    "best_als_rmses"
   ]
  },
  {
   "cell_type": "markdown",
   "metadata": {},
   "source": [
    "### NDCG"
   ]
  },
  {
   "cell_type": "code",
   "execution_count": 68,
   "metadata": {},
   "outputs": [
    {
     "data": {
      "text/plain": [
       "[DataFrame[userId: int, movieId: int, rating: float, prediction: float],\n",
       " DataFrame[userId: int, movieId: int, rating: float, prediction: float],\n",
       " DataFrame[userId: int, movieId: int, rating: float, prediction: float]]"
      ]
     },
     "execution_count": 68,
     "metadata": {},
     "output_type": "execute_result"
    }
   ],
   "source": [
    "best_predictions_test"
   ]
  },
  {
   "cell_type": "code",
   "execution_count": 69,
   "metadata": {},
   "outputs": [
    {
     "data": {
      "text/plain": [
       "[DataFrame[userId: int, movieId: int, rating: float, prediction: float],\n",
       " DataFrame[userId: int, movieId: int, rating: float, prediction: float],\n",
       " DataFrame[userId: int, movieId: int, rating: float, prediction: float]]"
      ]
     },
     "execution_count": 69,
     "metadata": {},
     "output_type": "execute_result"
    }
   ],
   "source": [
    "best_predictions_train"
   ]
  },
  {
   "cell_type": "code",
   "execution_count": 70,
   "metadata": {},
   "outputs": [],
   "source": [
    "# convert pyspark df to pandas df\n",
    "\n",
    "als_predicted_test_dfs = []  # pandas DF\n",
    "als_predicted_train_dfs = []  # pandas DF\n",
    "als_test_ndcgs = []\n",
    "als_train_ndcgs = []\n",
    "\n",
    "for (best_prediction_test, best_prediction_train) in zip(best_predictions_test, best_predictions_train):\n",
    "    # convert test predictions to pandas df\n",
    "    als_predicted_test_df = best_prediction_test.toPandas()\n",
    "    als_predicted_test_dfs.append(als_predicted_test_df)\n",
    "    \n",
    "    # convert train predictions to pandas df\n",
    "    als_predicted_train_df = best_prediction_train.toPandas()\n",
    "    als_predicted_train_dfs.append(als_predicted_train_df)\n",
    "    \n",
    "    # ndcg calculation for test predictions\n",
    "    y_predicted_grouped, ground_truths = get_ratings_for_each_user(als_predicted_test_df, rating_col_name='prediction')  \n",
    "    als_ndcg = ndcg_score(ground_truth=ground_truths, predictions=y_predicted_grouped, k=2)\n",
    "    als_test_ndcgs.append(als_ndcg)\n",
    "    \n",
    "    # ndcg calculation for train predictions\n",
    "    y_predicted_grouped, ground_truths = get_ratings_for_each_user(als_predicted_train_df, rating_col_name='prediction')  \n",
    "    als_ndcg_train = ndcg_score(ground_truth=ground_truths, predictions=y_predicted_grouped, k=2)\n",
    "    als_train_ndcgs.append(als_ndcg_train)\n"
   ]
  },
  {
   "cell_type": "code",
   "execution_count": 71,
   "metadata": {},
   "outputs": [
    {
     "data": {
      "text/plain": [
       "([0.9759064907312931, 0.6552750888332256, 0.5662354659500155],\n",
       " [0.40992435675618794, 0.38528185643811724, 0.3631051783495496])"
      ]
     },
     "execution_count": 71,
     "metadata": {},
     "output_type": "execute_result"
    }
   ],
   "source": [
    "als_test_ndcgs, als_train_ndcgs"
   ]
  },
  {
   "cell_type": "markdown",
   "metadata": {},
   "source": [
    "### 3.3.3 Coverage of ALS Model <a class=\"anchor\" id=\"3-3-3\"></a>"
   ]
  },
  {
   "cell_type": "code",
   "execution_count": 106,
   "metadata": {},
   "outputs": [],
   "source": [
    "def get_item_coverage(best_predictions_test, k=5):\n",
    "    als_item_coverages_test = []\n",
    "    for i in range(len(best_predictions_test)):\n",
    "        prediction = best_predictions_test[i]\n",
    "        percentage = percentages[i]\n",
    "        predictions_grouped_by_movieIds = prediction.filter(prediction['rating'] >= 3.0).groupby(['movieId'])\n",
    "        pred_df = predictions_grouped_by_movieIds.agg(sql_func.count(col('userId')))\n",
    "        pred_df2 = pred_df.filter(pred_df['count(userId)'] >= k)\n",
    "        n_movie = pred_df2.count()\n",
    "\n",
    "        potential_recommended_movies = all_test_sets[i].select(\"movieId\").distinct()\n",
    "        N_movie = potential_recommended_movies.count()\n",
    "\n",
    "        coverage = (n_movie/N_movie) * 100\n",
    "        als_item_coverages_test.append(coverage)\n",
    "        print('Item Coverage ({0:.2}% sample): {1:.2}%'.format(percentage, coverage))\n",
    "    \n",
    "    return als_item_coverages_test"
   ]
  },
  {
   "cell_type": "code",
   "execution_count": 105,
   "metadata": {},
   "outputs": [
    {
     "name": "stdout",
     "output_type": "stream",
     "text": [
      "Item Coverage (0.001% sample): 0.0%\n",
      "Item Coverage (0.005% sample): 9.6%\n",
      "Item Coverage (0.01% sample): 2.1e+01%\n"
     ]
    }
   ],
   "source": [
    "als_item_coverages_test = get_item_coverage(best_predictions_test)"
   ]
  },
  {
   "cell_type": "code",
   "execution_count": 131,
   "metadata": {},
   "outputs": [
    {
     "name": "stdout",
     "output_type": "stream",
     "text": [
      "Item Coverage (0.001% sample): 3.5e+01%\n",
      "Item Coverage (0.005% sample): 5.5e+01%\n",
      "Item Coverage (0.01% sample): 5.9e+01%\n"
     ]
    }
   ],
   "source": [
    "als_item_coverages_train = get_item_coverage(best_predictions_train)"
   ]
  },
  {
   "cell_type": "code",
   "execution_count": 108,
   "metadata": {},
   "outputs": [],
   "source": [
    "def get_user_coverage(best_predictions_test, k=3):\n",
    "    als_user_coverages_test = []\n",
    "    for i in range(len(best_predictions_test)):\n",
    "        prediction = best_predictions_test[i]\n",
    "        percentage = percentages[i]\n",
    "        predictions_grouped_by_userIds = prediction.filter(prediction['rating'] >= 3.0).groupby(['userId'])\n",
    "        pred_df = predictions_grouped_by_userIds.agg(sql_func.count(col('movieId')))\n",
    "        pred_df2 = pred_df.filter(pred_df['count(movieId)'] >= k)\n",
    "        n_user = pred_df2.count()\n",
    "\n",
    "        potential_recommended_users = all_test_sets[i].select(\"userId\").distinct()\n",
    "        N_user = potential_recommended_users.count()\n",
    "\n",
    "        coverage = (n_user/N_user) * 100\n",
    "        als_user_coverages_test.append(coverage)\n",
    "        print('User Coverage: ({0:.4}% sample): {1:.2}%'.format(percentage, coverage))\n",
    "    \n",
    "    return als_user_coverages_test"
   ]
  },
  {
   "cell_type": "code",
   "execution_count": 109,
   "metadata": {},
   "outputs": [
    {
     "name": "stdout",
     "output_type": "stream",
     "text": [
      "User Coverage: (0.001% sample): 0.034%\n",
      "User Coverage: (0.005% sample): 1.8%\n",
      "User Coverage: (0.01% sample): 5.1%\n"
     ]
    }
   ],
   "source": [
    "als_user_coverages_test = get_user_coverage(best_predictions_test)"
   ]
  },
  {
   "cell_type": "code",
   "execution_count": 132,
   "metadata": {},
   "outputs": [
    {
     "name": "stdout",
     "output_type": "stream",
     "text": [
      "User Coverage: (0.001% sample): 5.7%\n",
      "User Coverage: (0.005% sample): 3.2e+01%\n",
      "User Coverage: (0.01% sample): 5e+01%\n"
     ]
    }
   ],
   "source": [
    "als_user_coverages_train = get_user_coverage(best_predictions_train)"
   ]
  },
  {
   "cell_type": "markdown",
   "metadata": {},
   "source": [
    "# 4. Evaluation <a class=\"anchor\" id=\"4\"></a>"
   ]
  },
  {
   "cell_type": "markdown",
   "metadata": {},
   "source": [
    "## 4.1 Accuracy <a class=\"anchor\" id=\"4-1\"></a>"
   ]
  },
  {
   "cell_type": "markdown",
   "metadata": {},
   "source": [
    "### 4.1.1 RMSE <a class=\"anchor\" id=\"4-1-1\"></a>"
   ]
  },
  {
   "cell_type": "code",
   "execution_count": 83,
   "metadata": {},
   "outputs": [
    {
     "data": {
      "image/png": "[encoded data removed]",
      "text/plain": [
       "<Figure size 720x432 with 1 Axes>"
      ]
     },
     "metadata": {
      "needs_background": "light"
     },
     "output_type": "display_data"
    }
   ],
   "source": [
    "baseline_rmses, baseline_rmses_train\n",
    "best_als_rmses, best_als_rmses_train\n",
    "\n",
    "plt.figure(figsize=(10, 6))\n",
    "plt.plot(percentages, baseline_rmses)\n",
    "plt.plot(percentages, [min(rmse)  for rmse in knn_rmse_test])\n",
    "plt.plot(percentages, best_als_rmses)\n",
    "\n",
    "plt.xlabel('sampling percentage')\n",
    "plt.ylabel('RMSE')\n",
    "plt.title('RMSE Test vs Sample Size')\n",
    "plt.legend(['Baseline Model', 'KNN', 'ALS'])\n",
    "plt.grid(True)\n",
    "plt.show()"
   ]
  },
  {
   "cell_type": "markdown",
   "metadata": {},
   "source": [
    "### 4.1.2 NDCG <a class=\"anchor\" id=\"4-1-2\"></a>"
   ]
  },
  {
   "cell_type": "code",
   "execution_count": 84,
   "metadata": {},
   "outputs": [
    {
     "data": {
      "image/png": "[encoded data removed]",
      "text/plain": [
       "<Figure size 720x432 with 1 Axes>"
      ]
     },
     "metadata": {
      "needs_background": "light"
     },
     "output_type": "display_data"
    }
   ],
   "source": [
    "baseline_ndcgs, baseline_ndcgs_train\n",
    "als_test_ndcgs, als_train_ndcgs\n",
    "\n",
    "plt.figure(figsize=(10, 6))\n",
    "plt.plot(percentages, baseline_ndcgs)\n",
    "# add neighborhood based model\n",
    "plt.plot(percentages, als_test_ndcgs)\n",
    "\n",
    "plt.xlabel('sampling percentage')\n",
    "plt.ylabel('NDCG')\n",
    "plt.title('NDCG Test vs Sample Size')\n",
    "plt.legend(['Baseline Model', 'ALS'])\n",
    "plt.grid(True)\n",
    "plt.show()"
   ]
  },
  {
   "cell_type": "markdown",
   "metadata": {},
   "source": [
    "## 4.2 Coverage <a class=\"anchor\" id=\"4-2\"></a>"
   ]
  },
  {
   "cell_type": "code",
   "execution_count": 219,
   "metadata": {},
   "outputs": [
    {
     "data": {
      "image/png": "[encoded data removed]",
      "text/plain": [
       "<Figure size 720x432 with 1 Axes>"
      ]
     },
     "metadata": {
      "needs_background": "light"
     },
     "output_type": "display_data"
    }
   ],
   "source": [
    "plt.figure(figsize=(10, 6))\n",
    "plt.plot(percentages, baseline_test_item_coverages)\n",
    "plt.plot(percentages, knn_item_coverages_test)\n",
    "plt.plot(percentages, als_item_coverages_test)\n",
    "\n",
    "plt.xlabel('sampling percentage')\n",
    "plt.ylabel('Item Coverage')\n",
    "plt.title('Item Coverage Test vs Sample Size')\n",
    "plt.legend(['Baseline Model', 'KNN', 'ALS'])\n",
    "plt.grid(True)\n",
    "plt.show()"
   ]
  },
  {
   "cell_type": "code",
   "execution_count": 220,
   "metadata": {},
   "outputs": [
    {
     "data": {
      "image/png": "[encoded data removed]",
      "text/plain": [
       "<Figure size 720x432 with 1 Axes>"
      ]
     },
     "metadata": {
      "needs_background": "light"
     },
     "output_type": "display_data"
    }
   ],
   "source": [
    "plt.figure(figsize=(10, 6))\n",
    "plt.plot(percentages, baseline_test_user_coverages)\n",
    "plt.plot(percentages, knn_user_coverages_test)\n",
    "plt.plot(percentages, als_user_coverages_test)\n",
    "\n",
    "plt.xlabel('sampling percentage')\n",
    "plt.ylabel('User Coverage')\n",
    "plt.title('User Coverage Test vs Sample Size')\n",
    "plt.legend(['Baseline Model', 'KNN', 'ALS'])\n",
    "plt.grid(True)\n",
    "plt.show()"
   ]
  },
  {
   "cell_type": "markdown",
   "metadata": {},
   "source": [
    "## 4.3 Changing Sample Size <a class=\"anchor\" id=\"4-3\"></a>"
   ]
  },
  {
   "cell_type": "markdown",
   "metadata": {},
   "source": [
    "# 5. Conclusion <a class=\"anchor\" id=\"5\"></a>"
   ]
  },
  {
   "cell_type": "code",
   "execution_count": null,
   "metadata": {},
   "outputs": [],
   "source": [
    "# # Generate top 10 movie recommendations for each user\n",
    "# userRecs = model.recommendForAllUsers(10)\n",
    "# # Generate top 10 user recommendations for each movie\n",
    "# movieRecs = model.recommendForAllItems(10)"
   ]
  }
 ],
 "metadata": {
  "kernelspec": {
   "display_name": "Python 3",
   "language": "python",
   "name": "python3"
  },
  "language_info": {
   "codemirror_mode": {
    "name": "ipython",
    "version": 3
   },
   "file_extension": ".py",
   "mimetype": "text/x-python",
   "name": "python",
   "nbconvert_exporter": "python",
   "pygments_lexer": "ipython3",
   "version": "3.7.3"
  }
 },
 "nbformat": 4,
 "nbformat_minor": 2
}
